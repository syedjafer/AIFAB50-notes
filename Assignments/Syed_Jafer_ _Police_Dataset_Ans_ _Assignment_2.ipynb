{
  "nbformat": 4,
  "nbformat_minor": 0,
  "metadata": {
    "kernelspec": {
      "display_name": "Python 3",
      "language": "python",
      "name": "python3"
    },
    "language_info": {
      "codemirror_mode": {
        "name": "ipython",
        "version": 3
      },
      "file_extension": ".py",
      "mimetype": "text/x-python",
      "name": "python",
      "nbconvert_exporter": "python",
      "pygments_lexer": "ipython3",
      "version": "3.5.4"
    },
    "colab": {
      "name": "Syed Jafer | Police Dataset Ans | Assignment 2",
      "provenance": [],
      "collapsed_sections": []
    }
  },
  "cells": [
    {
      "cell_type": "code",
      "metadata": {
        "id": "6f4O42pts3HL"
      },
      "source": [
        ""
      ],
      "execution_count": null,
      "outputs": []
    },
    {
      "cell_type": "code",
      "metadata": {
        "id": "nDwq2xF6C_VU",
        "colab": {
          "base_uri": "https://localhost:8080/",
          "height": 35
        },
        "outputId": "e6ac2c61-d204-4a5a-e713-7921765ec9ae"
      },
      "source": [
        "import pandas as pd\n",
        "pd.__version__"
      ],
      "execution_count": null,
      "outputs": [
        {
          "output_type": "execute_result",
          "data": {
            "application/vnd.google.colaboratory.intrinsic+json": {
              "type": "string"
            },
            "text/plain": [
              "'1.1.5'"
            ]
          },
          "metadata": {},
          "execution_count": 38
        }
      ]
    },
    {
      "cell_type": "code",
      "metadata": {
        "id": "eS8XVI6SC_VX"
      },
      "source": [
        "import matplotlib.pyplot as plt\n",
        "%matplotlib inline"
      ],
      "execution_count": null,
      "outputs": []
    },
    {
      "cell_type": "markdown",
      "metadata": {
        "id": "UFpD0suVC_VZ"
      },
      "source": [
        "# Dataset: Stanford Open Policing Project\n",
        "\n",
        "https://openpolicing.stanford.edu/"
      ]
    },
    {
      "cell_type": "code",
      "metadata": {
        "id": "8NziJkAWC_Va"
      },
      "source": [
        "ri = pd.read_csv(\"https://raw.githubusercontent.com/nunnarilabs/ml/master/police/police.csv\")\n"
      ],
      "execution_count": null,
      "outputs": []
    },
    {
      "cell_type": "code",
      "metadata": {
        "id": "RvJUp68jC_Vc",
        "colab": {
          "base_uri": "https://localhost:8080/",
          "height": 226
        },
        "outputId": "2c4b3900-13f5-4209-fd1a-4e3feefb733e"
      },
      "source": [
        "# what does each row represent?\n",
        "ri.head()"
      ],
      "execution_count": null,
      "outputs": [
        {
          "output_type": "execute_result",
          "data": {
            "text/html": [
              "<div>\n",
              "<style scoped>\n",
              "    .dataframe tbody tr th:only-of-type {\n",
              "        vertical-align: middle;\n",
              "    }\n",
              "\n",
              "    .dataframe tbody tr th {\n",
              "        vertical-align: top;\n",
              "    }\n",
              "\n",
              "    .dataframe thead th {\n",
              "        text-align: right;\n",
              "    }\n",
              "</style>\n",
              "<table border=\"1\" class=\"dataframe\">\n",
              "  <thead>\n",
              "    <tr style=\"text-align: right;\">\n",
              "      <th></th>\n",
              "      <th>stop_date</th>\n",
              "      <th>stop_time</th>\n",
              "      <th>county_name</th>\n",
              "      <th>driver_gender</th>\n",
              "      <th>driver_age_raw</th>\n",
              "      <th>driver_age</th>\n",
              "      <th>driver_race</th>\n",
              "      <th>violation_raw</th>\n",
              "      <th>violation</th>\n",
              "      <th>search_conducted</th>\n",
              "      <th>search_type</th>\n",
              "      <th>stop_outcome</th>\n",
              "      <th>is_arrested</th>\n",
              "      <th>stop_duration</th>\n",
              "      <th>drugs_related_stop</th>\n",
              "    </tr>\n",
              "  </thead>\n",
              "  <tbody>\n",
              "    <tr>\n",
              "      <th>0</th>\n",
              "      <td>2005-01-02</td>\n",
              "      <td>01:55</td>\n",
              "      <td>NaN</td>\n",
              "      <td>M</td>\n",
              "      <td>1985.0</td>\n",
              "      <td>20.0</td>\n",
              "      <td>White</td>\n",
              "      <td>Speeding</td>\n",
              "      <td>Speeding</td>\n",
              "      <td>False</td>\n",
              "      <td>NaN</td>\n",
              "      <td>Citation</td>\n",
              "      <td>False</td>\n",
              "      <td>0-15 Min</td>\n",
              "      <td>False</td>\n",
              "    </tr>\n",
              "    <tr>\n",
              "      <th>1</th>\n",
              "      <td>2005-01-18</td>\n",
              "      <td>08:15</td>\n",
              "      <td>NaN</td>\n",
              "      <td>M</td>\n",
              "      <td>1965.0</td>\n",
              "      <td>40.0</td>\n",
              "      <td>White</td>\n",
              "      <td>Speeding</td>\n",
              "      <td>Speeding</td>\n",
              "      <td>False</td>\n",
              "      <td>NaN</td>\n",
              "      <td>Citation</td>\n",
              "      <td>False</td>\n",
              "      <td>0-15 Min</td>\n",
              "      <td>False</td>\n",
              "    </tr>\n",
              "    <tr>\n",
              "      <th>2</th>\n",
              "      <td>2005-01-23</td>\n",
              "      <td>23:15</td>\n",
              "      <td>NaN</td>\n",
              "      <td>M</td>\n",
              "      <td>1972.0</td>\n",
              "      <td>33.0</td>\n",
              "      <td>White</td>\n",
              "      <td>Speeding</td>\n",
              "      <td>Speeding</td>\n",
              "      <td>False</td>\n",
              "      <td>NaN</td>\n",
              "      <td>Citation</td>\n",
              "      <td>False</td>\n",
              "      <td>0-15 Min</td>\n",
              "      <td>False</td>\n",
              "    </tr>\n",
              "    <tr>\n",
              "      <th>3</th>\n",
              "      <td>2005-02-20</td>\n",
              "      <td>17:15</td>\n",
              "      <td>NaN</td>\n",
              "      <td>M</td>\n",
              "      <td>1986.0</td>\n",
              "      <td>19.0</td>\n",
              "      <td>White</td>\n",
              "      <td>Call for Service</td>\n",
              "      <td>Other</td>\n",
              "      <td>False</td>\n",
              "      <td>NaN</td>\n",
              "      <td>Arrest Driver</td>\n",
              "      <td>True</td>\n",
              "      <td>16-30 Min</td>\n",
              "      <td>False</td>\n",
              "    </tr>\n",
              "    <tr>\n",
              "      <th>4</th>\n",
              "      <td>2005-03-14</td>\n",
              "      <td>10:00</td>\n",
              "      <td>NaN</td>\n",
              "      <td>F</td>\n",
              "      <td>1984.0</td>\n",
              "      <td>21.0</td>\n",
              "      <td>White</td>\n",
              "      <td>Speeding</td>\n",
              "      <td>Speeding</td>\n",
              "      <td>False</td>\n",
              "      <td>NaN</td>\n",
              "      <td>Citation</td>\n",
              "      <td>False</td>\n",
              "      <td>0-15 Min</td>\n",
              "      <td>False</td>\n",
              "    </tr>\n",
              "  </tbody>\n",
              "</table>\n",
              "</div>"
            ],
            "text/plain": [
              "    stop_date stop_time  ...  stop_duration drugs_related_stop\n",
              "0  2005-01-02     01:55  ...       0-15 Min              False\n",
              "1  2005-01-18     08:15  ...       0-15 Min              False\n",
              "2  2005-01-23     23:15  ...       0-15 Min              False\n",
              "3  2005-02-20     17:15  ...      16-30 Min              False\n",
              "4  2005-03-14     10:00  ...       0-15 Min              False\n",
              "\n",
              "[5 rows x 15 columns]"
            ]
          },
          "metadata": {},
          "execution_count": 41
        }
      ]
    },
    {
      "cell_type": "code",
      "metadata": {
        "id": "NaKTXWpiJcYB"
      },
      "source": [
        ""
      ],
      "execution_count": null,
      "outputs": []
    },
    {
      "cell_type": "code",
      "metadata": {
        "colab": {
          "base_uri": "https://localhost:8080/"
        },
        "id": "S9jdgOvStlDS",
        "outputId": "7925d57a-1c63-4234-a0b1-a25f90ebda4b"
      },
      "source": [
        "ri.shape"
      ],
      "execution_count": null,
      "outputs": [
        {
          "output_type": "execute_result",
          "data": {
            "text/plain": [
              "(91741, 15)"
            ]
          },
          "metadata": {},
          "execution_count": 43
        }
      ]
    },
    {
      "cell_type": "code",
      "metadata": {
        "colab": {
          "base_uri": "https://localhost:8080/"
        },
        "id": "CWoOhzplWoAD",
        "outputId": "c7a80102-aa80-4395-c21b-2b2fb81f8c0d"
      },
      "source": [
        "ri.isnull().sum()"
      ],
      "execution_count": null,
      "outputs": [
        {
          "output_type": "execute_result",
          "data": {
            "text/plain": [
              "stop_date                 0\n",
              "stop_time                 0\n",
              "county_name           91741\n",
              "driver_gender          5335\n",
              "driver_age_raw         5327\n",
              "driver_age             5621\n",
              "driver_race            5333\n",
              "violation_raw          5333\n",
              "violation              5333\n",
              "search_conducted          0\n",
              "search_type           88545\n",
              "stop_outcome           5333\n",
              "is_arrested            5333\n",
              "stop_duration          5333\n",
              "drugs_related_stop        0\n",
              "dtype: int64"
            ]
          },
          "metadata": {},
          "execution_count": 48
        }
      ]
    },
    {
      "cell_type": "code",
      "metadata": {
        "colab": {
          "base_uri": "https://localhost:8080/"
        },
        "id": "eXR_tSOGuawX",
        "outputId": "6520f7c8-4d3d-4891-aa6e-42bd803f2f46"
      },
      "source": [
        "ri.stop_date.str.slice(0, 4)"
      ],
      "execution_count": null,
      "outputs": [
        {
          "output_type": "execute_result",
          "data": {
            "text/plain": [
              "0        2005\n",
              "1        2005\n",
              "2        2005\n",
              "3        2005\n",
              "4        2005\n",
              "         ... \n",
              "91736    2015\n",
              "91737    2015\n",
              "91738    2015\n",
              "91739    2015\n",
              "91740    2015\n",
              "Name: stop_date, Length: 91741, dtype: object"
            ]
          },
          "metadata": {},
          "execution_count": 49
        }
      ]
    },
    {
      "cell_type": "code",
      "metadata": {
        "id": "L3oAPSwxXAX0"
      },
      "source": [
        "ri['year'] = ri.stop_date.str.slice(0, 4)"
      ],
      "execution_count": null,
      "outputs": []
    },
    {
      "cell_type": "code",
      "metadata": {
        "colab": {
          "base_uri": "https://localhost:8080/",
          "height": 298
        },
        "id": "psWIiZRbXN5E",
        "outputId": "2cb4bd4d-c3a9-4e6f-fa42-f7ab806603fd"
      },
      "source": [
        "ri.year.value_counts().sort_index().plot(kind='bar')"
      ],
      "execution_count": null,
      "outputs": [
        {
          "output_type": "execute_result",
          "data": {
            "text/plain": [
              "<matplotlib.axes._subplots.AxesSubplot at 0x7f4c350b6650>"
            ]
          },
          "metadata": {},
          "execution_count": 55
        },
        {
          "output_type": "display_data",
          "data": {
            "image/png": "[encoded data removed]",
            "text/plain": [
              "<Figure size 432x288 with 1 Axes>"
            ]
          },
          "metadata": {
            "needs_background": "light"
          }
        }
      ]
    },
    {
      "cell_type": "code",
      "metadata": {
        "colab": {
          "base_uri": "https://localhost:8080/"
        },
        "id": "MjFkLn4eV5Uw",
        "outputId": "97bbf6a8-fdbc-4ed6-cfc2-3f7aaf316b73"
      },
      "source": [
        "ri.columns"
      ],
      "execution_count": null,
      "outputs": [
        {
          "output_type": "execute_result",
          "data": {
            "text/plain": [
              "Index(['stop_date', 'stop_time', 'county_name', 'driver_gender',\n",
              "       'driver_age_raw', 'driver_age', 'driver_race', 'violation_raw',\n",
              "       'violation', 'search_conducted', 'search_type', 'stop_outcome',\n",
              "       'is_arrested', 'stop_duration', 'drugs_related_stop', 'year'],\n",
              "      dtype='object')"
            ]
          },
          "metadata": {},
          "execution_count": 8
        }
      ]
    },
    {
      "cell_type": "code",
      "metadata": {
        "id": "QU-jV9stC_Vg",
        "colab": {
          "base_uri": "https://localhost:8080/"
        },
        "outputId": "e7042daa-91b2-49a2-c9ff-d5e8986531cb"
      },
      "source": [
        "# what do these numbers mean?\n",
        "ri.shape"
      ],
      "execution_count": null,
      "outputs": [
        {
          "output_type": "execute_result",
          "data": {
            "text/plain": [
              "(91741, 16)"
            ]
          },
          "metadata": {},
          "execution_count": 9
        }
      ]
    },
    {
      "cell_type": "code",
      "metadata": {
        "id": "iW20nlRqGKOp",
        "colab": {
          "base_uri": "https://localhost:8080/",
          "height": 300
        },
        "outputId": "5b819007-f7ff-443d-caad-21f870ff9291"
      },
      "source": [
        "ri.describe()"
      ],
      "execution_count": null,
      "outputs": [
        {
          "output_type": "execute_result",
          "data": {
            "text/html": [
              "<div>\n",
              "<style scoped>\n",
              "    .dataframe tbody tr th:only-of-type {\n",
              "        vertical-align: middle;\n",
              "    }\n",
              "\n",
              "    .dataframe tbody tr th {\n",
              "        vertical-align: top;\n",
              "    }\n",
              "\n",
              "    .dataframe thead th {\n",
              "        text-align: right;\n",
              "    }\n",
              "</style>\n",
              "<table border=\"1\" class=\"dataframe\">\n",
              "  <thead>\n",
              "    <tr style=\"text-align: right;\">\n",
              "      <th></th>\n",
              "      <th>county_name</th>\n",
              "      <th>driver_age_raw</th>\n",
              "      <th>driver_age</th>\n",
              "    </tr>\n",
              "  </thead>\n",
              "  <tbody>\n",
              "    <tr>\n",
              "      <th>count</th>\n",
              "      <td>0.0</td>\n",
              "      <td>86414.000000</td>\n",
              "      <td>86120.000000</td>\n",
              "    </tr>\n",
              "    <tr>\n",
              "      <th>mean</th>\n",
              "      <td>NaN</td>\n",
              "      <td>1970.491228</td>\n",
              "      <td>34.011333</td>\n",
              "    </tr>\n",
              "    <tr>\n",
              "      <th>std</th>\n",
              "      <td>NaN</td>\n",
              "      <td>110.914909</td>\n",
              "      <td>12.738564</td>\n",
              "    </tr>\n",
              "    <tr>\n",
              "      <th>min</th>\n",
              "      <td>NaN</td>\n",
              "      <td>0.000000</td>\n",
              "      <td>15.000000</td>\n",
              "    </tr>\n",
              "    <tr>\n",
              "      <th>25%</th>\n",
              "      <td>NaN</td>\n",
              "      <td>1967.000000</td>\n",
              "      <td>23.000000</td>\n",
              "    </tr>\n",
              "    <tr>\n",
              "      <th>50%</th>\n",
              "      <td>NaN</td>\n",
              "      <td>1980.000000</td>\n",
              "      <td>31.000000</td>\n",
              "    </tr>\n",
              "    <tr>\n",
              "      <th>75%</th>\n",
              "      <td>NaN</td>\n",
              "      <td>1987.000000</td>\n",
              "      <td>43.000000</td>\n",
              "    </tr>\n",
              "    <tr>\n",
              "      <th>max</th>\n",
              "      <td>NaN</td>\n",
              "      <td>8801.000000</td>\n",
              "      <td>99.000000</td>\n",
              "    </tr>\n",
              "  </tbody>\n",
              "</table>\n",
              "</div>"
            ],
            "text/plain": [
              "       county_name  driver_age_raw    driver_age\n",
              "count          0.0    86414.000000  86120.000000\n",
              "mean           NaN     1970.491228     34.011333\n",
              "std            NaN      110.914909     12.738564\n",
              "min            NaN        0.000000     15.000000\n",
              "25%            NaN     1967.000000     23.000000\n",
              "50%            NaN     1980.000000     31.000000\n",
              "75%            NaN     1987.000000     43.000000\n",
              "max            NaN     8801.000000     99.000000"
            ]
          },
          "metadata": {},
          "execution_count": 10
        }
      ]
    },
    {
      "cell_type": "code",
      "metadata": {
        "id": "sw4VrtdCC_Vi",
        "colab": {
          "base_uri": "https://localhost:8080/"
        },
        "outputId": "a62f37e0-92c1-4d43-ed6c-85e24b8bb0db"
      },
      "source": [
        "# what do these types mean?\n",
        "ri.dtypes"
      ],
      "execution_count": null,
      "outputs": [
        {
          "output_type": "execute_result",
          "data": {
            "text/plain": [
              "stop_date              object\n",
              "stop_time              object\n",
              "county_name           float64\n",
              "driver_gender          object\n",
              "driver_age_raw        float64\n",
              "driver_age            float64\n",
              "driver_race            object\n",
              "violation_raw          object\n",
              "violation              object\n",
              "search_conducted         bool\n",
              "search_type            object\n",
              "stop_outcome           object\n",
              "is_arrested            object\n",
              "stop_duration          object\n",
              "drugs_related_stop       bool\n",
              "year                   object\n",
              "dtype: object"
            ]
          },
          "metadata": {},
          "execution_count": 11
        }
      ]
    },
    {
      "cell_type": "markdown",
      "metadata": {
        "id": "q7ejO1NmC_Vk"
      },
      "source": [
        "- What does NaN mean?\n",
        "- Why might a value be missing?\n",
        "- Why mark it as NaN? Why not mark it as a 0 or an empty string or a string saying \"Unknown\"?"
      ]
    },
    {
      "cell_type": "code",
      "metadata": {
        "id": "Qpl7cfczC_Vl",
        "colab": {
          "base_uri": "https://localhost:8080/"
        },
        "outputId": "99fda0ad-4ab4-4372-a31b-6bbc8745ca7e"
      },
      "source": [
        "# what are these counts? how does this work?\n",
        "ri.isnull().sum()"
      ],
      "execution_count": null,
      "outputs": [
        {
          "output_type": "execute_result",
          "data": {
            "text/plain": [
              "stop_date                 0\n",
              "stop_time                 0\n",
              "county_name           91741\n",
              "driver_gender          5335\n",
              "driver_age_raw         5327\n",
              "driver_age             5621\n",
              "driver_race            5333\n",
              "violation_raw          5333\n",
              "violation              5333\n",
              "search_conducted          0\n",
              "search_type           88545\n",
              "stop_outcome           5333\n",
              "is_arrested            5333\n",
              "stop_duration          5333\n",
              "drugs_related_stop        0\n",
              "year                      0\n",
              "dtype: int64"
            ]
          },
          "metadata": {},
          "execution_count": 12
        }
      ]
    },
    {
      "cell_type": "code",
      "metadata": {
        "id": "JgGZflvyC_Vn",
        "colab": {
          "base_uri": "https://localhost:8080/"
        },
        "outputId": "8bc613df-c2e1-48eb-a694-2c76ff329e88"
      },
      "source": [
        "(True == 1) and (False == 0)"
      ],
      "execution_count": null,
      "outputs": [
        {
          "output_type": "execute_result",
          "data": {
            "text/plain": [
              "True"
            ]
          },
          "metadata": {},
          "execution_count": 13
        }
      ]
    },
    {
      "cell_type": "markdown",
      "metadata": {
        "id": "nL3vep_VC_Vq"
      },
      "source": [
        "## 1. Remove the column that only contains missing values\n"
      ]
    },
    {
      "cell_type": "code",
      "metadata": {
        "colab": {
          "base_uri": "https://localhost:8080/"
        },
        "id": "JTgy1o1Su5_G",
        "outputId": "c5d191d7-0eab-426b-b874-21984556308c"
      },
      "source": [
        "ri.isnull().sum()"
      ],
      "execution_count": null,
      "outputs": [
        {
          "output_type": "execute_result",
          "data": {
            "text/plain": [
              "stop_date                 0\n",
              "stop_time                 0\n",
              "county_name           91741\n",
              "driver_gender          5335\n",
              "driver_age_raw         5327\n",
              "driver_age             5621\n",
              "driver_race            5333\n",
              "violation_raw          5333\n",
              "violation              5333\n",
              "search_conducted          0\n",
              "search_type           88545\n",
              "stop_outcome           5333\n",
              "is_arrested            5333\n",
              "stop_duration          5333\n",
              "drugs_related_stop        0\n",
              "year                      0\n",
              "dtype: int64"
            ]
          },
          "metadata": {},
          "execution_count": 57
        }
      ]
    },
    {
      "cell_type": "code",
      "metadata": {
        "id": "c0taq8r9C_Vr"
      },
      "source": [
        "ri.drop(columns=['county_name'], axis=1, inplace=True)"
      ],
      "execution_count": null,
      "outputs": []
    },
    {
      "cell_type": "code",
      "metadata": {
        "id": "4RhUdSx7C_Vt",
        "colab": {
          "base_uri": "https://localhost:8080/"
        },
        "outputId": "bd73adfc-acba-47da-b127-e8b1d8d69f92"
      },
      "source": [
        "# output shape after removing\n",
        "ri.shape"
      ],
      "execution_count": null,
      "outputs": [
        {
          "output_type": "execute_result",
          "data": {
            "text/plain": [
              "(91741, 15)"
            ]
          },
          "metadata": {},
          "execution_count": 15
        }
      ]
    },
    {
      "cell_type": "code",
      "metadata": {
        "scrolled": true,
        "id": "NkRQKG5LC_Vv",
        "colab": {
          "base_uri": "https://localhost:8080/"
        },
        "outputId": "c53c78a0-46cf-4071-ad6c-8d576946e247"
      },
      "source": [
        "# columns after removing\n",
        "ri.columns"
      ],
      "execution_count": null,
      "outputs": [
        {
          "output_type": "execute_result",
          "data": {
            "text/plain": [
              "Index(['stop_date', 'stop_time', 'driver_gender', 'driver_age_raw',\n",
              "       'driver_age', 'driver_race', 'violation_raw', 'violation',\n",
              "       'search_conducted', 'search_type', 'stop_outcome', 'is_arrested',\n",
              "       'stop_duration', 'drugs_related_stop', 'year'],\n",
              "      dtype='object')"
            ]
          },
          "metadata": {},
          "execution_count": 16
        }
      ]
    },
    {
      "cell_type": "markdown",
      "metadata": {
        "id": "HeLeZnNxC_Vz"
      },
      "source": [
        "Lessons:\n",
        "\n",
        "- Pay attention to default arguments\n",
        "- Check your work\n",
        "- There is more than one way to do everything in pandas"
      ]
    },
    {
      "cell_type": "markdown",
      "metadata": {
        "id": "cO7YrlIpC_V0"
      },
      "source": [
        "## 2. Do men or women speed more often? "
      ]
    },
    {
      "cell_type": "code",
      "metadata": {
        "colab": {
          "base_uri": "https://localhost:8080/"
        },
        "id": "R1Ak-WowuTwb",
        "outputId": "32e57077-7bce-4865-a901-c2d1c1e06cfc"
      },
      "source": [
        "ri.columns"
      ],
      "execution_count": null,
      "outputs": [
        {
          "output_type": "execute_result",
          "data": {
            "text/plain": [
              "Index(['stop_date', 'stop_time', 'driver_gender', 'driver_age_raw',\n",
              "       'driver_age', 'driver_race', 'violation_raw', 'violation',\n",
              "       'search_conducted', 'search_type', 'stop_outcome', 'is_arrested',\n",
              "       'stop_duration', 'drugs_related_stop', 'year'],\n",
              "      dtype='object')"
            ]
          },
          "metadata": {},
          "execution_count": 17
        }
      ]
    },
    {
      "cell_type": "code",
      "metadata": {
        "colab": {
          "base_uri": "https://localhost:8080/"
        },
        "id": "xoqa8dl-bu8m",
        "outputId": "c9076c0a-d19b-4ed6-d63a-09c79ef1dff2"
      },
      "source": [
        "ri[ri.driver_gender=='M'].violation_raw.value_counts(normalize=True)"
      ],
      "execution_count": null,
      "outputs": [
        {
          "output_type": "execute_result",
          "data": {
            "text/plain": [
              "Speeding                            0.524350\n",
              "Other Traffic Violation             0.207012\n",
              "Equipment/Inspection Violation      0.135671\n",
              "Registration Violation              0.038461\n",
              "Special Detail/Directed Patrol      0.037332\n",
              "Seatbelt Violation                  0.036839\n",
              "Call for Service                    0.013705\n",
              "Violation of City/Town Ordinance    0.002623\n",
              "Motorist Assist/Courtesy            0.002258\n",
              "APB                                 0.000922\n",
              "Suspicious Person                   0.000652\n",
              "Warrant                             0.000175\n",
              "Name: violation_raw, dtype: float64"
            ]
          },
          "metadata": {},
          "execution_count": 70
        }
      ]
    },
    {
      "cell_type": "code",
      "metadata": {
        "id": "ZfHVajIK6iIg",
        "colab": {
          "base_uri": "https://localhost:8080/"
        },
        "outputId": "b508bc32-ec21-42ac-e404-16202c05562b"
      },
      "source": [
        "ri[ri.driver_gender=='F'].violation_raw.value_counts(normalize=True)"
      ],
      "execution_count": null,
      "outputs": [
        {
          "output_type": "execute_result",
          "data": {
            "text/plain": [
              "Speeding                            0.658500\n",
              "Other Traffic Violation             0.136277\n",
              "Equipment/Inspection Violation      0.105780\n",
              "Registration Violation              0.043086\n",
              "Seatbelt Violation                  0.027009\n",
              "Call for Service                    0.018545\n",
              "Special Detail/Directed Patrol      0.004551\n",
              "Motorist Assist/Courtesy            0.002595\n",
              "Violation of City/Town Ordinance    0.001957\n",
              "APB                                 0.000893\n",
              "Suspicious Person                   0.000638\n",
              "Warrant                             0.000170\n",
              "Name: violation_raw, dtype: float64"
            ]
          },
          "metadata": {},
          "execution_count": 19
        }
      ]
    },
    {
      "cell_type": "code",
      "metadata": {
        "colab": {
          "base_uri": "https://localhost:8080/"
        },
        "id": "DMj-L3SHyI1k",
        "outputId": "6a67c521-9daa-4862-d9f9-602910a6a9c3"
      },
      "source": [
        "ri.groupby(ri.driver_gender).violation_raw.value_counts(normalize=True)"
      ],
      "execution_count": null,
      "outputs": [
        {
          "output_type": "execute_result",
          "data": {
            "text/plain": [
              "driver_gender  violation_raw                   \n",
              "F              Speeding                            0.658500\n",
              "               Other Traffic Violation             0.136277\n",
              "               Equipment/Inspection Violation      0.105780\n",
              "               Registration Violation              0.043086\n",
              "               Seatbelt Violation                  0.027009\n",
              "               Call for Service                    0.018545\n",
              "               Special Detail/Directed Patrol      0.004551\n",
              "               Motorist Assist/Courtesy            0.002595\n",
              "               Violation of City/Town Ordinance    0.001957\n",
              "               APB                                 0.000893\n",
              "               Suspicious Person                   0.000638\n",
              "               Warrant                             0.000170\n",
              "M              Speeding                            0.524350\n",
              "               Other Traffic Violation             0.207012\n",
              "               Equipment/Inspection Violation      0.135671\n",
              "               Registration Violation              0.038461\n",
              "               Special Detail/Directed Patrol      0.037332\n",
              "               Seatbelt Violation                  0.036839\n",
              "               Call for Service                    0.013705\n",
              "               Violation of City/Town Ordinance    0.002623\n",
              "               Motorist Assist/Courtesy            0.002258\n",
              "               APB                                 0.000922\n",
              "               Suspicious Person                   0.000652\n",
              "               Warrant                             0.000175\n",
              "Name: violation_raw, dtype: float64"
            ]
          },
          "metadata": {},
          "execution_count": 75
        }
      ]
    },
    {
      "cell_type": "markdown",
      "metadata": {
        "id": "COXNlQSeC_V-"
      },
      "source": [
        "What are some relevant facts that we don't know?\n",
        "\n",
        "Lessons:\n",
        "\n",
        "- There is more than one way to understand a question"
      ]
    },
    {
      "cell_type": "markdown",
      "metadata": {
        "id": "D0kzEUykC_V_"
      },
      "source": [
        "## 3. Does gender affect who gets searched during a stop? "
      ]
    },
    {
      "cell_type": "code",
      "metadata": {
        "colab": {
          "base_uri": "https://localhost:8080/"
        },
        "id": "ZBLvvygZeSlP",
        "outputId": "4149e718-d6a6-45a2-91e3-169066c2cf71"
      },
      "source": [
        "ri.search_conducted.unique()"
      ],
      "execution_count": null,
      "outputs": [
        {
          "output_type": "execute_result",
          "data": {
            "text/plain": [
              "array([False,  True])"
            ]
          },
          "metadata": {},
          "execution_count": 20
        }
      ]
    },
    {
      "cell_type": "code",
      "metadata": {
        "id": "z_bwIS5IC_V_",
        "colab": {
          "base_uri": "https://localhost:8080/"
        },
        "outputId": "454eaf7b-fa52-430e-a4bd-e0d5ac3171ed"
      },
      "source": [
        "ri[ri.driver_gender=='M'].search_conducted.value_counts(normalize=True)"
      ],
      "execution_count": null,
      "outputs": [
        {
          "output_type": "execute_result",
          "data": {
            "text/plain": [
              "False    0.956674\n",
              "True     0.043326\n",
              "Name: search_conducted, dtype: float64"
            ]
          },
          "metadata": {},
          "execution_count": 21
        }
      ]
    },
    {
      "cell_type": "code",
      "metadata": {
        "colab": {
          "base_uri": "https://localhost:8080/"
        },
        "id": "103KgVArfPNk",
        "outputId": "65ce36ae-b8ef-4337-e34e-fb2080e9efdb"
      },
      "source": [
        "ri[ri.driver_gender=='F'].search_conducted.value_counts(normalize=True)"
      ],
      "execution_count": null,
      "outputs": [
        {
          "output_type": "execute_result",
          "data": {
            "text/plain": [
              "False    0.979967\n",
              "True     0.020033\n",
              "Name: search_conducted, dtype: float64"
            ]
          },
          "metadata": {},
          "execution_count": 22
        }
      ]
    },
    {
      "cell_type": "markdown",
      "metadata": {
        "id": "AyZOMyvJC_WI"
      },
      "source": [
        "Does this prove that gender affects who gets searched?"
      ]
    },
    {
      "cell_type": "code",
      "metadata": {
        "id": "OI5djWTE2m9z"
      },
      "source": [
        "# YES"
      ],
      "execution_count": null,
      "outputs": []
    },
    {
      "cell_type": "markdown",
      "metadata": {
        "id": "pnSJPgrWC_WK"
      },
      "source": [
        "Does this prove causation?\n",
        "\n",
        "Lessons:\n",
        "\n",
        "- Causation is difficult to conclude, so focus on relationships\n",
        "- Include all relevant factors when studying a relationship"
      ]
    },
    {
      "cell_type": "markdown",
      "metadata": {
        "id": "tdWsWMlrC_WK"
      },
      "source": [
        "## 4. Why is search_type missing so often?"
      ]
    },
    {
      "cell_type": "code",
      "metadata": {
        "id": "nmxQUUYg2qlM",
        "colab": {
          "base_uri": "https://localhost:8080/"
        },
        "outputId": "45ade863-c3b6-4611-9834-1c932a78c8ca"
      },
      "source": [
        "ri.search_conducted.value_counts()"
      ],
      "execution_count": null,
      "outputs": [
        {
          "output_type": "execute_result",
          "data": {
            "text/plain": [
              "False    88545\n",
              "True      3196\n",
              "Name: search_conducted, dtype: int64"
            ]
          },
          "metadata": {},
          "execution_count": 24
        }
      ]
    },
    {
      "cell_type": "code",
      "metadata": {
        "colab": {
          "base_uri": "https://localhost:8080/"
        },
        "id": "aZZw7D4uwKaN",
        "outputId": "0c97889e-dc03-41a5-fc3a-e6fd6bc434f1"
      },
      "source": [
        "ri.search_type.isnull().value_counts()"
      ],
      "execution_count": null,
      "outputs": [
        {
          "output_type": "execute_result",
          "data": {
            "text/plain": [
              "True     88545\n",
              "False     3196\n",
              "Name: search_type, dtype: int64"
            ]
          },
          "metadata": {},
          "execution_count": 25
        }
      ]
    },
    {
      "cell_type": "code",
      "metadata": {
        "id": "taTa5RnhwCoh"
      },
      "source": [
        "# Its missing because for 88545 times search didnt happend. "
      ],
      "execution_count": null,
      "outputs": []
    },
    {
      "cell_type": "markdown",
      "metadata": {
        "id": "HgkCjzDhC_WV"
      },
      "source": [
        "Lessons:\n",
        "\n",
        "- Verify your assumptions about your data\n",
        "- pandas functions ignore missing values by default"
      ]
    },
    {
      "cell_type": "markdown",
      "metadata": {
        "id": "_c3BNCV-C_WW"
      },
      "source": [
        "## 5. During a search, how often is the driver frisked?"
      ]
    },
    {
      "cell_type": "markdown",
      "metadata": {
        "id": "Mgt8CVnIC_Wv"
      },
      "source": [
        "Lessons:\n",
        "\n",
        "- Use string methods to find partial matches\n",
        "- Use the correct denominator when calculating rates\n",
        "- pandas calculations ignore missing values\n",
        "- Apply the \"smell test\" to your results"
      ]
    },
    {
      "cell_type": "code",
      "metadata": {
        "colab": {
          "base_uri": "https://localhost:8080/"
        },
        "id": "50_qNaM9zG0X",
        "outputId": "437c017a-6bf8-4097-9a73-9ca5bf398725"
      },
      "source": [
        "ri[ri.search_conducted==True].search_type.unique()"
      ],
      "execution_count": null,
      "outputs": [
        {
          "output_type": "execute_result",
          "data": {
            "text/plain": [
              "array(['Incident to Arrest,Protective Frisk', 'Probable Cause',\n",
              "       'Incident to Arrest', 'Probable Cause,Reasonable Suspicion',\n",
              "       'Incident to Arrest,Inventory,Probable Cause',\n",
              "       'Incident to Arrest,Inventory',\n",
              "       'Incident to Arrest,Probable Cause', 'Protective Frisk',\n",
              "       'Reasonable Suspicion', 'Inventory', 'Inventory,Protective Frisk',\n",
              "       'Incident to Arrest,Reasonable Suspicion',\n",
              "       'Incident to Arrest,Probable Cause,Protective Frisk',\n",
              "       'Probable Cause,Protective Frisk',\n",
              "       'Incident to Arrest,Inventory,Protective Frisk',\n",
              "       'Protective Frisk,Reasonable Suspicion',\n",
              "       'Incident to Arrest,Inventory,Reasonable Suspicion',\n",
              "       'Inventory,Probable Cause',\n",
              "       'Incident to Arrest,Protective Frisk,Reasonable Suspicion',\n",
              "       'Inventory,Probable Cause,Protective Frisk',\n",
              "       'Inventory,Reasonable Suspicion',\n",
              "       'Incident to Arrest,Probable Cause,Reasonable Suspicion',\n",
              "       'Inventory,Probable Cause,Reasonable Suspicion',\n",
              "       'Probable Cause,Protective Frisk,Reasonable Suspicion'],\n",
              "      dtype=object)"
            ]
          },
          "metadata": {},
          "execution_count": 77
        }
      ]
    },
    {
      "cell_type": "code",
      "metadata": {
        "colab": {
          "base_uri": "https://localhost:8080/"
        },
        "id": "QUPo5akCf0Vt",
        "outputId": "ce9a2a50-d2c1-446f-ef5d-30bb814b6ceb"
      },
      "source": [
        "ri[ri.search_conducted==True].search_type.str.contains('Frisk').value_counts()"
      ],
      "execution_count": null,
      "outputs": [
        {
          "output_type": "execute_result",
          "data": {
            "text/plain": [
              "False    2922\n",
              "True      274\n",
              "Name: search_type, dtype: int64"
            ]
          },
          "metadata": {},
          "execution_count": 27
        }
      ]
    },
    {
      "cell_type": "code",
      "metadata": {
        "id": "dBB48a2kwr45"
      },
      "source": [
        ""
      ],
      "execution_count": null,
      "outputs": []
    },
    {
      "cell_type": "markdown",
      "metadata": {
        "id": "vJiheCEKC_Ww"
      },
      "source": [
        "## 6. Which year had the least number of stops? "
      ]
    },
    {
      "cell_type": "code",
      "metadata": {
        "id": "FfhPhRLvw1OL"
      },
      "source": [
        "ri.stop_date = pd.to_datetime(ri.stop_date)\n"
      ],
      "execution_count": null,
      "outputs": []
    },
    {
      "cell_type": "code",
      "metadata": {
        "colab": {
          "base_uri": "https://localhost:8080/",
          "height": 479
        },
        "id": "49Vu5N94xKJ6",
        "outputId": "b674b0f3-0a66-486a-81a2-83b0227e51cf"
      },
      "source": [
        "ri"
      ],
      "execution_count": null,
      "outputs": [
        {
          "output_type": "execute_result",
          "data": {
            "text/html": [
              "<div>\n",
              "<style scoped>\n",
              "    .dataframe tbody tr th:only-of-type {\n",
              "        vertical-align: middle;\n",
              "    }\n",
              "\n",
              "    .dataframe tbody tr th {\n",
              "        vertical-align: top;\n",
              "    }\n",
              "\n",
              "    .dataframe thead th {\n",
              "        text-align: right;\n",
              "    }\n",
              "</style>\n",
              "<table border=\"1\" class=\"dataframe\">\n",
              "  <thead>\n",
              "    <tr style=\"text-align: right;\">\n",
              "      <th></th>\n",
              "      <th>stop_date</th>\n",
              "      <th>stop_time</th>\n",
              "      <th>driver_gender</th>\n",
              "      <th>driver_age_raw</th>\n",
              "      <th>driver_age</th>\n",
              "      <th>driver_race</th>\n",
              "      <th>violation_raw</th>\n",
              "      <th>violation</th>\n",
              "      <th>search_conducted</th>\n",
              "      <th>search_type</th>\n",
              "      <th>stop_outcome</th>\n",
              "      <th>is_arrested</th>\n",
              "      <th>stop_duration</th>\n",
              "      <th>drugs_related_stop</th>\n",
              "      <th>year</th>\n",
              "    </tr>\n",
              "  </thead>\n",
              "  <tbody>\n",
              "    <tr>\n",
              "      <th>0</th>\n",
              "      <td>2005-01-02</td>\n",
              "      <td>01:55</td>\n",
              "      <td>M</td>\n",
              "      <td>1985.0</td>\n",
              "      <td>20.0</td>\n",
              "      <td>White</td>\n",
              "      <td>Speeding</td>\n",
              "      <td>Speeding</td>\n",
              "      <td>False</td>\n",
              "      <td>NaN</td>\n",
              "      <td>Citation</td>\n",
              "      <td>False</td>\n",
              "      <td>0-15 Min</td>\n",
              "      <td>False</td>\n",
              "      <td>2005</td>\n",
              "    </tr>\n",
              "    <tr>\n",
              "      <th>1</th>\n",
              "      <td>2005-01-18</td>\n",
              "      <td>08:15</td>\n",
              "      <td>M</td>\n",
              "      <td>1965.0</td>\n",
              "      <td>40.0</td>\n",
              "      <td>White</td>\n",
              "      <td>Speeding</td>\n",
              "      <td>Speeding</td>\n",
              "      <td>False</td>\n",
              "      <td>NaN</td>\n",
              "      <td>Citation</td>\n",
              "      <td>False</td>\n",
              "      <td>0-15 Min</td>\n",
              "      <td>False</td>\n",
              "      <td>2005</td>\n",
              "    </tr>\n",
              "    <tr>\n",
              "      <th>2</th>\n",
              "      <td>2005-01-23</td>\n",
              "      <td>23:15</td>\n",
              "      <td>M</td>\n",
              "      <td>1972.0</td>\n",
              "      <td>33.0</td>\n",
              "      <td>White</td>\n",
              "      <td>Speeding</td>\n",
              "      <td>Speeding</td>\n",
              "      <td>False</td>\n",
              "      <td>NaN</td>\n",
              "      <td>Citation</td>\n",
              "      <td>False</td>\n",
              "      <td>0-15 Min</td>\n",
              "      <td>False</td>\n",
              "      <td>2005</td>\n",
              "    </tr>\n",
              "    <tr>\n",
              "      <th>3</th>\n",
              "      <td>2005-02-20</td>\n",
              "      <td>17:15</td>\n",
              "      <td>M</td>\n",
              "      <td>1986.0</td>\n",
              "      <td>19.0</td>\n",
              "      <td>White</td>\n",
              "      <td>Call for Service</td>\n",
              "      <td>Other</td>\n",
              "      <td>False</td>\n",
              "      <td>NaN</td>\n",
              "      <td>Arrest Driver</td>\n",
              "      <td>True</td>\n",
              "      <td>16-30 Min</td>\n",
              "      <td>False</td>\n",
              "      <td>2005</td>\n",
              "    </tr>\n",
              "    <tr>\n",
              "      <th>4</th>\n",
              "      <td>2005-03-14</td>\n",
              "      <td>10:00</td>\n",
              "      <td>F</td>\n",
              "      <td>1984.0</td>\n",
              "      <td>21.0</td>\n",
              "      <td>White</td>\n",
              "      <td>Speeding</td>\n",
              "      <td>Speeding</td>\n",
              "      <td>False</td>\n",
              "      <td>NaN</td>\n",
              "      <td>Citation</td>\n",
              "      <td>False</td>\n",
              "      <td>0-15 Min</td>\n",
              "      <td>False</td>\n",
              "      <td>2005</td>\n",
              "    </tr>\n",
              "    <tr>\n",
              "      <th>...</th>\n",
              "      <td>...</td>\n",
              "      <td>...</td>\n",
              "      <td>...</td>\n",
              "      <td>...</td>\n",
              "      <td>...</td>\n",
              "      <td>...</td>\n",
              "      <td>...</td>\n",
              "      <td>...</td>\n",
              "      <td>...</td>\n",
              "      <td>...</td>\n",
              "      <td>...</td>\n",
              "      <td>...</td>\n",
              "      <td>...</td>\n",
              "      <td>...</td>\n",
              "      <td>...</td>\n",
              "    </tr>\n",
              "    <tr>\n",
              "      <th>91736</th>\n",
              "      <td>2015-12-31</td>\n",
              "      <td>20:27</td>\n",
              "      <td>M</td>\n",
              "      <td>1986.0</td>\n",
              "      <td>29.0</td>\n",
              "      <td>White</td>\n",
              "      <td>Speeding</td>\n",
              "      <td>Speeding</td>\n",
              "      <td>False</td>\n",
              "      <td>NaN</td>\n",
              "      <td>Warning</td>\n",
              "      <td>False</td>\n",
              "      <td>0-15 Min</td>\n",
              "      <td>False</td>\n",
              "      <td>2015</td>\n",
              "    </tr>\n",
              "    <tr>\n",
              "      <th>91737</th>\n",
              "      <td>2015-12-31</td>\n",
              "      <td>20:35</td>\n",
              "      <td>F</td>\n",
              "      <td>1982.0</td>\n",
              "      <td>33.0</td>\n",
              "      <td>White</td>\n",
              "      <td>Equipment/Inspection Violation</td>\n",
              "      <td>Equipment</td>\n",
              "      <td>False</td>\n",
              "      <td>NaN</td>\n",
              "      <td>Warning</td>\n",
              "      <td>False</td>\n",
              "      <td>0-15 Min</td>\n",
              "      <td>False</td>\n",
              "      <td>2015</td>\n",
              "    </tr>\n",
              "    <tr>\n",
              "      <th>91738</th>\n",
              "      <td>2015-12-31</td>\n",
              "      <td>20:45</td>\n",
              "      <td>M</td>\n",
              "      <td>1992.0</td>\n",
              "      <td>23.0</td>\n",
              "      <td>White</td>\n",
              "      <td>Other Traffic Violation</td>\n",
              "      <td>Moving violation</td>\n",
              "      <td>False</td>\n",
              "      <td>NaN</td>\n",
              "      <td>Warning</td>\n",
              "      <td>False</td>\n",
              "      <td>0-15 Min</td>\n",
              "      <td>False</td>\n",
              "      <td>2015</td>\n",
              "    </tr>\n",
              "    <tr>\n",
              "      <th>91739</th>\n",
              "      <td>2015-12-31</td>\n",
              "      <td>21:42</td>\n",
              "      <td>M</td>\n",
              "      <td>1993.0</td>\n",
              "      <td>22.0</td>\n",
              "      <td>White</td>\n",
              "      <td>Speeding</td>\n",
              "      <td>Speeding</td>\n",
              "      <td>False</td>\n",
              "      <td>NaN</td>\n",
              "      <td>Citation</td>\n",
              "      <td>False</td>\n",
              "      <td>0-15 Min</td>\n",
              "      <td>False</td>\n",
              "      <td>2015</td>\n",
              "    </tr>\n",
              "    <tr>\n",
              "      <th>91740</th>\n",
              "      <td>2015-12-31</td>\n",
              "      <td>22:46</td>\n",
              "      <td>M</td>\n",
              "      <td>1959.0</td>\n",
              "      <td>56.0</td>\n",
              "      <td>Hispanic</td>\n",
              "      <td>Speeding</td>\n",
              "      <td>Speeding</td>\n",
              "      <td>False</td>\n",
              "      <td>NaN</td>\n",
              "      <td>Citation</td>\n",
              "      <td>False</td>\n",
              "      <td>0-15 Min</td>\n",
              "      <td>False</td>\n",
              "      <td>2015</td>\n",
              "    </tr>\n",
              "  </tbody>\n",
              "</table>\n",
              "<p>91741 rows × 15 columns</p>\n",
              "</div>"
            ],
            "text/plain": [
              "       stop_date stop_time  ... drugs_related_stop  year\n",
              "0     2005-01-02     01:55  ...              False  2005\n",
              "1     2005-01-18     08:15  ...              False  2005\n",
              "2     2005-01-23     23:15  ...              False  2005\n",
              "3     2005-02-20     17:15  ...              False  2005\n",
              "4     2005-03-14     10:00  ...              False  2005\n",
              "...          ...       ...  ...                ...   ...\n",
              "91736 2015-12-31     20:27  ...              False  2015\n",
              "91737 2015-12-31     20:35  ...              False  2015\n",
              "91738 2015-12-31     20:45  ...              False  2015\n",
              "91739 2015-12-31     21:42  ...              False  2015\n",
              "91740 2015-12-31     22:46  ...              False  2015\n",
              "\n",
              "[91741 rows x 15 columns]"
            ]
          },
          "metadata": {},
          "execution_count": 29
        }
      ]
    },
    {
      "cell_type": "code",
      "metadata": {
        "id": "rT21nRjo25Aa"
      },
      "source": [
        "ri['year'] = ri.stop_date.dt.year"
      ],
      "execution_count": null,
      "outputs": []
    },
    {
      "cell_type": "code",
      "metadata": {
        "id": "JofArG3SYAcn",
        "colab": {
          "base_uri": "https://localhost:8080/",
          "height": 81
        },
        "outputId": "1fea8781-955b-4bf3-d5aa-bd01a518ba44"
      },
      "source": [
        "ri.agg({'year':['min']})"
      ],
      "execution_count": null,
      "outputs": [
        {
          "output_type": "execute_result",
          "data": {
            "text/html": [
              "<div>\n",
              "<style scoped>\n",
              "    .dataframe tbody tr th:only-of-type {\n",
              "        vertical-align: middle;\n",
              "    }\n",
              "\n",
              "    .dataframe tbody tr th {\n",
              "        vertical-align: top;\n",
              "    }\n",
              "\n",
              "    .dataframe thead th {\n",
              "        text-align: right;\n",
              "    }\n",
              "</style>\n",
              "<table border=\"1\" class=\"dataframe\">\n",
              "  <thead>\n",
              "    <tr style=\"text-align: right;\">\n",
              "      <th></th>\n",
              "      <th>year</th>\n",
              "    </tr>\n",
              "  </thead>\n",
              "  <tbody>\n",
              "    <tr>\n",
              "      <th>min</th>\n",
              "      <td>2005</td>\n",
              "    </tr>\n",
              "  </tbody>\n",
              "</table>\n",
              "</div>"
            ],
            "text/plain": [
              "     year\n",
              "min  2005"
            ]
          },
          "metadata": {},
          "execution_count": 31
        }
      ]
    },
    {
      "cell_type": "code",
      "metadata": {
        "id": "0k2MdMp_5Dy2"
      },
      "source": [
        ""
      ],
      "execution_count": null,
      "outputs": []
    },
    {
      "cell_type": "markdown",
      "metadata": {
        "id": "KTQalS6dC_W8"
      },
      "source": [
        "Lessons:\n",
        "\n",
        "- Consider removing chunks of data that may be biased\n",
        "- Use the datetime data type for dates and times"
      ]
    },
    {
      "cell_type": "markdown",
      "metadata": {
        "id": "tBBF5gobC_W8"
      },
      "source": [
        "## 7. How does drug activity change by time of day?"
      ]
    },
    {
      "cell_type": "code",
      "metadata": {
        "colab": {
          "base_uri": "https://localhost:8080/"
        },
        "id": "WejpX1RoyT6e",
        "outputId": "84970ec6-6832-49cc-8390-f4047195b238"
      },
      "source": [
        "ri.columns"
      ],
      "execution_count": null,
      "outputs": [
        {
          "output_type": "execute_result",
          "data": {
            "text/plain": [
              "Index(['stop_date', 'stop_time', 'driver_gender', 'driver_age_raw',\n",
              "       'driver_age', 'driver_race', 'violation_raw', 'violation',\n",
              "       'search_conducted', 'search_type', 'stop_outcome', 'is_arrested',\n",
              "       'stop_duration', 'drugs_related_stop', 'year'],\n",
              "      dtype='object')"
            ]
          },
          "metadata": {},
          "execution_count": 32
        }
      ]
    },
    {
      "cell_type": "code",
      "metadata": {
        "id": "5WiisQ3epSM-"
      },
      "source": [
        "ri.stop_time = pd.to_datetime(ri.stop_time)"
      ],
      "execution_count": null,
      "outputs": []
    },
    {
      "cell_type": "code",
      "metadata": {
        "id": "jVcTX0dsa1R9",
        "colab": {
          "base_uri": "https://localhost:8080/",
          "height": 282
        },
        "outputId": "8dc852fa-c8fc-4654-942a-c2049e3eeb86"
      },
      "source": [
        "ri[ri.drugs_related_stop==True].stop_time.dt.hour.value_counts().sort_index().plot()"
      ],
      "execution_count": null,
      "outputs": [
        {
          "output_type": "execute_result",
          "data": {
            "text/plain": [
              "<matplotlib.axes._subplots.AxesSubplot at 0x7f4c34bf4d10>"
            ]
          },
          "metadata": {},
          "execution_count": 82
        },
        {
          "output_type": "display_data",
          "data": {
            "image/png": "[encoded data removed]",
            "text/plain": [
              "<Figure size 432x288 with 1 Axes>"
            ]
          },
          "metadata": {
            "needs_background": "light"
          }
        }
      ]
    },
    {
      "cell_type": "code",
      "metadata": {
        "id": "RRALYGd-brus"
      },
      "source": [
        ""
      ],
      "execution_count": null,
      "outputs": []
    },
    {
      "cell_type": "markdown",
      "metadata": {
        "id": "gxsjBl7wC_XH"
      },
      "source": [
        "Lessons:\n",
        "\n",
        "- Use plots to help you understand trends\n",
        "- Create exploratory plots using pandas one-liners"
      ]
    },
    {
      "cell_type": "markdown",
      "metadata": {
        "id": "uIn3INF6C_XI"
      },
      "source": [
        "## 8. Do most stops occur at night?"
      ]
    },
    {
      "cell_type": "code",
      "metadata": {
        "id": "WVIfYDTf3E5P",
        "colab": {
          "base_uri": "https://localhost:8080/",
          "height": 282
        },
        "outputId": "e2d448a6-2f44-42c7-ba48-671334c1df50"
      },
      "source": [
        "ri.stop_time.value_counts().sort_index().plot()"
      ],
      "execution_count": null,
      "outputs": [
        {
          "output_type": "execute_result",
          "data": {
            "text/plain": [
              "<matplotlib.axes._subplots.AxesSubplot at 0x7f4c34a42f90>"
            ]
          },
          "metadata": {},
          "execution_count": 87
        },
        {
          "output_type": "display_data",
          "data": {
            "image/png": "[encoded data removed]",
            "text/plain": [
              "<Figure size 432x288 with 1 Axes>"
            ]
          },
          "metadata": {
            "needs_background": "light"
          }
        }
      ]
    },
    {
      "cell_type": "code",
      "metadata": {
        "colab": {
          "base_uri": "https://localhost:8080/",
          "height": 282
        },
        "id": "wBs0S5zTpjpL",
        "outputId": "d6bd53eb-5f2b-4935-9679-12454ce68100"
      },
      "source": [
        "ri.stop_time.dt.hour.value_counts().sort_index().plot()"
      ],
      "execution_count": null,
      "outputs": [
        {
          "output_type": "execute_result",
          "data": {
            "text/plain": [
              "<matplotlib.axes._subplots.AxesSubplot at 0x7f4c3a7344d0>"
            ]
          },
          "metadata": {},
          "execution_count": 37
        },
        {
          "output_type": "display_data",
          "data": {
            "image/png": "[encoded data removed]",
            "text/plain": [
              "<Figure size 432x288 with 1 Axes>"
            ]
          },
          "metadata": {
            "needs_background": "light"
          }
        }
      ]
    },
    {
      "cell_type": "markdown",
      "metadata": {
        "id": "LdORap9wC_XQ"
      },
      "source": [
        "Lessons:\n",
        "\n",
        "- Be conscious of sorting when plotting"
      ]
    },
    {
      "cell_type": "markdown",
      "metadata": {
        "id": "wqAodKSnC_XQ"
      },
      "source": [
        "## 9. Find the bad data in the stop_duration column and fix it "
      ]
    },
    {
      "cell_type": "code",
      "metadata": {
        "id": "XZweB7-iC_Xd",
        "colab": {
          "base_uri": "https://localhost:8080/"
        },
        "outputId": "45e58c18-55ba-4e31-da4a-5d105652d101"
      },
      "source": [
        "ri.stop_duration.value_counts(dropna=False)"
      ],
      "execution_count": null,
      "outputs": [
        {
          "output_type": "execute_result",
          "data": {
            "text/plain": [
              "0-15 Min     69543\n",
              "16-30 Min    13635\n",
              "NaN           5333\n",
              "30+ Min       3228\n",
              "1                1\n",
              "2                1\n",
              "Name: stop_duration, dtype: int64"
            ]
          },
          "metadata": {},
          "execution_count": 35
        }
      ]
    },
    {
      "cell_type": "code",
      "metadata": {
        "id": "-XCyg3-6dRNS",
        "colab": {
          "base_uri": "https://localhost:8080/"
        },
        "outputId": "848e0a29-077b-4655-d183-77e6c3202dd1"
      },
      "source": [
        "ri.stop_duration.isnull().sum()"
      ],
      "execution_count": null,
      "outputs": [
        {
          "output_type": "execute_result",
          "data": {
            "text/plain": [
              "5333"
            ]
          },
          "metadata": {},
          "execution_count": 36
        }
      ]
    },
    {
      "cell_type": "code",
      "metadata": {
        "colab": {
          "base_uri": "https://localhost:8080/"
        },
        "id": "pQXpYeep02w0",
        "outputId": "a25cdb0a-ba40-4573-b47c-55dda3557171"
      },
      "source": [
        "ri[(ri.stop_duration=='1') | (ri.stop_duration=='2')].stop_duration = None"
      ],
      "execution_count": null,
      "outputs": [
        {
          "output_type": "stream",
          "name": "stderr",
          "text": [
            "/usr/local/lib/python3.7/dist-packages/pandas/core/generic.py:5170: SettingWithCopyWarning: \n",
            "A value is trying to be set on a copy of a slice from a DataFrame.\n",
            "Try using .loc[row_indexer,col_indexer] = value instead\n",
            "\n",
            "See the caveats in the documentation: https://pandas.pydata.org/pandas-docs/stable/user_guide/indexing.html#returning-a-view-versus-a-copy\n",
            "  self[name] = value\n"
          ]
        }
      ]
    },
    {
      "cell_type": "code",
      "metadata": {
        "id": "0NdG1wxf03Yf"
      },
      "source": [
        "ri.loc[(ri.stop_duration=='1') | (ri.stop_duration=='2'), 'stop_duration'] = None"
      ],
      "execution_count": null,
      "outputs": []
    },
    {
      "cell_type": "code",
      "metadata": {
        "colab": {
          "base_uri": "https://localhost:8080/"
        },
        "id": "yYkTmH4503it",
        "outputId": "17b7e016-02b3-49fb-f867-c8648f52bfe8"
      },
      "source": [
        "ri.stop_duration.value_counts(dropna=False)"
      ],
      "execution_count": null,
      "outputs": [
        {
          "output_type": "execute_result",
          "data": {
            "text/plain": [
              "0-15 Min     69543\n",
              "16-30 Min    13635\n",
              "NaN           5335\n",
              "30+ Min       3228\n",
              "Name: stop_duration, dtype: int64"
            ]
          },
          "metadata": {},
          "execution_count": 39
        }
      ]
    },
    {
      "cell_type": "code",
      "metadata": {
        "colab": {
          "base_uri": "https://localhost:8080/"
        },
        "id": "4gu_VnNU2l1v",
        "outputId": "eec507bc-b0f5-4d57-fbef-3e64b136de49"
      },
      "source": [
        "ri.stop_duration.isnull().sum()"
      ],
      "execution_count": null,
      "outputs": [
        {
          "output_type": "execute_result",
          "data": {
            "text/plain": [
              "5335"
            ]
          },
          "metadata": {},
          "execution_count": 40
        }
      ]
    },
    {
      "cell_type": "markdown",
      "metadata": {
        "id": "j2GdTZndC_Xf"
      },
      "source": [
        "Lessons:\n",
        "\n",
        "- Ambiguous data should be marked as missing\n",
        "- Don't ignore the SettingWithCopyWarning\n",
        "- NaN is not a string"
      ]
    },
    {
      "cell_type": "markdown",
      "metadata": {
        "id": "-tkxHJxiC_Xg"
      },
      "source": [
        "## 10. What is the mean stop_duration for each violation_raw?"
      ]
    },
    {
      "cell_type": "code",
      "metadata": {
        "id": "8eMJwuMOYAa3"
      },
      "source": [
        "stop_duration_replace_dict = {\n",
        "    \"0-15 Min\" : 8,\n",
        "    \"16-30 Min\" : 23,\n",
        "    \"30+ Min\" : 31\n",
        "}"
      ],
      "execution_count": null,
      "outputs": []
    },
    {
      "cell_type": "code",
      "metadata": {
        "id": "XIwV_PUVYd_H"
      },
      "source": [
        "ri.stop_duration.replace(stop_duration_replace_dict, inplace=True)"
      ],
      "execution_count": null,
      "outputs": []
    },
    {
      "cell_type": "code",
      "metadata": {
        "id": "bhBGyoj2O9xZ"
      },
      "source": [
        "vr_grp = ri.groupby(\"violation_raw\")\n"
      ],
      "execution_count": null,
      "outputs": []
    },
    {
      "cell_type": "code",
      "metadata": {
        "colab": {
          "base_uri": "https://localhost:8080/"
        },
        "id": "8RFy1k4hc5dw",
        "outputId": "bc17de05-8ccd-4f23-b269-6fc101da287f"
      },
      "source": [
        "vr_grp.stop_duration.value_counts()"
      ],
      "execution_count": null,
      "outputs": [
        {
          "output_type": "execute_result",
          "data": {
            "text/plain": [
              "violation_raw                     stop_duration\n",
              "APB                               8.0                 37\n",
              "                                  23.0                24\n",
              "                                  31.0                18\n",
              "Call for Service                  8.0                547\n",
              "                                  23.0               435\n",
              "                                  31.0               316\n",
              "Equipment/Inspection Violation    8.0               9173\n",
              "                                  23.0              1373\n",
              "                                  31.0               474\n",
              "Motorist Assist/Courtesy          8.0                119\n",
              "                                  23.0                59\n",
              "                                  31.0                25\n",
              "Other Traffic Violation           8.0              11763\n",
              "                                  23.0              3150\n",
              "                                  31.0              1310\n",
              "Registration Violation            8.0               2421\n",
              "                                  23.0               804\n",
              "                                  31.0               207\n",
              "Seatbelt Violation                8.0               2665\n",
              "                                  23.0               249\n",
              "                                  31.0                38\n",
              "Special Detail/Directed Patrol    8.0               1622\n",
              "                                  23.0               613\n",
              "                                  31.0               220\n",
              "Speeding                          8.0              41014\n",
              "                                  23.0              6848\n",
              "                                  31.0               600\n",
              "Suspicious Person                 8.0                 32\n",
              "                                  23.0                13\n",
              "                                  31.0                11\n",
              "Violation of City/Town Ordinance  8.0                144\n",
              "                                  23.0                61\n",
              "                                  31.0                 6\n",
              "Warrant                           8.0                  6\n",
              "                                  23.0                 6\n",
              "                                  31.0                 3\n",
              "Name: stop_duration, dtype: int64"
            ]
          },
          "metadata": {},
          "execution_count": 44
        }
      ]
    },
    {
      "cell_type": "code",
      "metadata": {
        "colab": {
          "base_uri": "https://localhost:8080/"
        },
        "id": "vv0tUsuGO98E",
        "outputId": "2d4eb102-7ab6-40b1-9e59-5c58db60ea47"
      },
      "source": [
        "vr_grp.stop_duration.mean()"
      ],
      "execution_count": null,
      "outputs": [
        {
          "output_type": "execute_result",
          "data": {
            "text/plain": [
              "violation_raw\n",
              "APB                                 17.797468\n",
              "Call for Service                    18.626348\n",
              "Equipment/Inspection Violation      10.858167\n",
              "Motorist Assist/Courtesy            15.192118\n",
              "Other Traffic Violation             12.769771\n",
              "Registration Violation              12.901224\n",
              "Seatbelt Violation                   9.561314\n",
              "Special Detail/Directed Patrol      13.806517\n",
              "Speeding                            10.404358\n",
              "Suspicious Person                   16.000000\n",
              "Violation of City/Town Ordinance    12.990521\n",
              "Warrant                             18.600000\n",
              "Name: stop_duration, dtype: float64"
            ]
          },
          "metadata": {},
          "execution_count": 45
        }
      ]
    },
    {
      "cell_type": "code",
      "metadata": {
        "id": "D2ksW9LkO-Jc"
      },
      "source": [
        ""
      ],
      "execution_count": null,
      "outputs": []
    },
    {
      "cell_type": "code",
      "metadata": {
        "id": "RydYOJKbO-Yc"
      },
      "source": [
        ""
      ],
      "execution_count": null,
      "outputs": []
    },
    {
      "cell_type": "code",
      "metadata": {
        "id": "TyoY9PaaO-nc"
      },
      "source": [
        ""
      ],
      "execution_count": null,
      "outputs": []
    },
    {
      "cell_type": "markdown",
      "metadata": {
        "id": "sgbvX90XC_Xs"
      },
      "source": [
        "Lessons:\n",
        "\n",
        "- Convert strings to numbers for analysis\n",
        "- Approximate when necessary\n",
        "- Use count with mean to looking for meaningless means"
      ]
    },
    {
      "cell_type": "markdown",
      "metadata": {
        "id": "T71pJdkZC_Xs"
      },
      "source": [
        "## 11. Plot the results of the first groupby from the previous exercise"
      ]
    },
    {
      "cell_type": "code",
      "metadata": {
        "id": "_z7SQW5n3S2w"
      },
      "source": [
        ""
      ],
      "execution_count": null,
      "outputs": []
    },
    {
      "cell_type": "markdown",
      "metadata": {
        "id": "Gr3v0indC_Xy"
      },
      "source": [
        "Lessons:\n",
        "\n",
        "- Don't use a line plot to compare categories\n",
        "- Be conscious of sorting and orientation when plotting"
      ]
    },
    {
      "cell_type": "markdown",
      "metadata": {
        "id": "FV4nko5pC_Xy"
      },
      "source": [
        "## 12. Compare the age distributions for each violation"
      ]
    },
    {
      "cell_type": "code",
      "metadata": {
        "id": "CoEe9j7w3WUC",
        "colab": {
          "base_uri": "https://localhost:8080/"
        },
        "outputId": "c0775666-2592-48ae-ea75-ecf86925b3d6"
      },
      "source": [
        "ri.columns"
      ],
      "execution_count": null,
      "outputs": [
        {
          "output_type": "execute_result",
          "data": {
            "text/plain": [
              "Index(['stop_date', 'stop_time', 'driver_gender', 'driver_age_raw',\n",
              "       'driver_age', 'driver_race', 'violation_raw', 'violation',\n",
              "       'search_conducted', 'search_type', 'stop_outcome', 'is_arrested',\n",
              "       'stop_duration', 'drugs_related_stop', 'year'],\n",
              "      dtype='object')"
            ]
          },
          "metadata": {},
          "execution_count": 46
        }
      ]
    },
    {
      "cell_type": "code",
      "metadata": {
        "colab": {
          "base_uri": "https://localhost:8080/"
        },
        "id": "8M4Mg0L3ipCc",
        "outputId": "58e05886-3bf9-4f79-ca52-87a827f258e4"
      },
      "source": [
        "ri.driver_age.isnull().sum()"
      ],
      "execution_count": null,
      "outputs": [
        {
          "output_type": "execute_result",
          "data": {
            "text/plain": [
              "5621"
            ]
          },
          "metadata": {},
          "execution_count": 47
        }
      ]
    },
    {
      "cell_type": "code",
      "metadata": {
        "colab": {
          "base_uri": "https://localhost:8080/"
        },
        "id": "dFKUjSCziptW",
        "outputId": "1bd55fb6-9465-48f2-8ff8-dd6e6e7610da"
      },
      "source": [
        "ri.driver_age_raw.isnull().sum()"
      ],
      "execution_count": null,
      "outputs": [
        {
          "output_type": "execute_result",
          "data": {
            "text/plain": [
              "5327"
            ]
          },
          "metadata": {},
          "execution_count": 48
        }
      ]
    },
    {
      "cell_type": "code",
      "metadata": {
        "colab": {
          "base_uri": "https://localhost:8080/"
        },
        "id": "hU0--Ue9EurT",
        "outputId": "989d8fe1-b040-4a79-fcea-9b1cb765ca2d"
      },
      "source": [
        "ri.driver_age_raw.unique()"
      ],
      "execution_count": null,
      "outputs": [
        {
          "output_type": "execute_result",
          "data": {
            "text/plain": [
              "array([1985., 1965., 1972., 1986., 1984., 1982., 1969., 1970., 1979.,\n",
              "       1966., 1955., 1958., 1953., 1967.,   nan, 1964., 1977., 1959.,\n",
              "       1973., 1947., 1978., 1962., 1981., 1988., 1983., 1961., 1957.,\n",
              "       1971., 1950., 1954., 1960., 1976., 1974., 1968., 1938., 1980.,\n",
              "       1963., 1975., 1987., 1948., 1956., 1944., 1935.,    0., 1952.,\n",
              "       1945., 1946., 1941., 1942., 1951., 1949., 2005., 1939., 1943.,\n",
              "       1936., 1924., 1937., 1929., 1930., 1931., 1923., 1940., 1933.,\n",
              "       1989., 1928., 1932., 1990., 1926., 2006., 1927., 1997., 1934.,\n",
              "       1887., 1925., 1918., 2004., 1991., 2002., 2007., 1992., 8801.,\n",
              "       2001., 2003., 1998., 1922., 1993., 2008., 2009., 2919., 2000.,\n",
              "       1994., 1995., 2011., 1996., 2013., 1914., 1920., 1999.])"
            ]
          },
          "metadata": {},
          "execution_count": 49
        }
      ]
    },
    {
      "cell_type": "code",
      "metadata": {
        "colab": {
          "base_uri": "https://localhost:8080/"
        },
        "id": "xe2nb-w1ipz_",
        "outputId": "8817b75d-0c16-4b20-a7ce-7e608ab17af7"
      },
      "source": [
        "ri[(ri.driver_age.isnull()) & (ri.driver_age_raw.notnull()) & (ri.driver_age_raw != 0.0) & (ri.driver_age_raw != 8801.0) & (ri.driver_age_raw != 2919.0)].shape"
      ],
      "execution_count": null,
      "outputs": [
        {
          "output_type": "execute_result",
          "data": {
            "text/plain": [
              "(35, 15)"
            ]
          },
          "metadata": {},
          "execution_count": 50
        }
      ]
    },
    {
      "cell_type": "code",
      "metadata": {
        "id": "oXi5pWg-HkAl"
      },
      "source": [
        "mask = (ri.driver_age.isnull()) & (ri.driver_age_raw.notnull()) & (ri.driver_age_raw != 0.0) & (ri.driver_age_raw != 8801.0) & (ri.driver_age_raw != 2919.0)"
      ],
      "execution_count": null,
      "outputs": []
    },
    {
      "cell_type": "code",
      "metadata": {
        "colab": {
          "base_uri": "https://localhost:8080/"
        },
        "id": "tLAnX-3KHpZo",
        "outputId": "fd0c22e3-7387-4ad7-aeda-efa363775d43"
      },
      "source": [
        "mask.value_counts()"
      ],
      "execution_count": null,
      "outputs": [
        {
          "output_type": "execute_result",
          "data": {
            "text/plain": [
              "False    91706\n",
              "True        35\n",
              "dtype: int64"
            ]
          },
          "metadata": {},
          "execution_count": 52
        }
      ]
    },
    {
      "cell_type": "code",
      "metadata": {
        "id": "SFDkwv3mxrcY"
      },
      "source": [
        "driver_age_fix_df = ri[mask].copy()"
      ],
      "execution_count": null,
      "outputs": []
    },
    {
      "cell_type": "code",
      "metadata": {
        "colab": {
          "base_uri": "https://localhost:8080/",
          "height": 1000
        },
        "id": "1QydwgobLg9W",
        "outputId": "923bc4f9-9276-4bac-8ca5-8e7f126bab0d"
      },
      "source": [
        "driver_age_fix_df"
      ],
      "execution_count": null,
      "outputs": [
        {
          "output_type": "execute_result",
          "data": {
            "text/html": [
              "<div>\n",
              "<style scoped>\n",
              "    .dataframe tbody tr th:only-of-type {\n",
              "        vertical-align: middle;\n",
              "    }\n",
              "\n",
              "    .dataframe tbody tr th {\n",
              "        vertical-align: top;\n",
              "    }\n",
              "\n",
              "    .dataframe thead th {\n",
              "        text-align: right;\n",
              "    }\n",
              "</style>\n",
              "<table border=\"1\" class=\"dataframe\">\n",
              "  <thead>\n",
              "    <tr style=\"text-align: right;\">\n",
              "      <th></th>\n",
              "      <th>stop_date</th>\n",
              "      <th>stop_time</th>\n",
              "      <th>driver_gender</th>\n",
              "      <th>driver_age_raw</th>\n",
              "      <th>driver_age</th>\n",
              "      <th>driver_race</th>\n",
              "      <th>violation_raw</th>\n",
              "      <th>violation</th>\n",
              "      <th>search_conducted</th>\n",
              "      <th>search_type</th>\n",
              "      <th>stop_outcome</th>\n",
              "      <th>is_arrested</th>\n",
              "      <th>stop_duration</th>\n",
              "      <th>drugs_related_stop</th>\n",
              "      <th>year</th>\n",
              "    </tr>\n",
              "  </thead>\n",
              "  <tbody>\n",
              "    <tr>\n",
              "      <th>414</th>\n",
              "      <td>2005-10-17</td>\n",
              "      <td>08:32</td>\n",
              "      <td>M</td>\n",
              "      <td>2005.0</td>\n",
              "      <td>NaN</td>\n",
              "      <td>White</td>\n",
              "      <td>Other Traffic Violation</td>\n",
              "      <td>Moving violation</td>\n",
              "      <td>False</td>\n",
              "      <td>NaN</td>\n",
              "      <td>Citation</td>\n",
              "      <td>False</td>\n",
              "      <td>8.0</td>\n",
              "      <td>False</td>\n",
              "      <td>2005</td>\n",
              "    </tr>\n",
              "    <tr>\n",
              "      <th>3758</th>\n",
              "      <td>2006-02-06</td>\n",
              "      <td>13:20</td>\n",
              "      <td>M</td>\n",
              "      <td>2006.0</td>\n",
              "      <td>NaN</td>\n",
              "      <td>White</td>\n",
              "      <td>Speeding</td>\n",
              "      <td>Speeding</td>\n",
              "      <td>False</td>\n",
              "      <td>NaN</td>\n",
              "      <td>Citation</td>\n",
              "      <td>False</td>\n",
              "      <td>8.0</td>\n",
              "      <td>False</td>\n",
              "      <td>2006</td>\n",
              "    </tr>\n",
              "    <tr>\n",
              "      <th>5200</th>\n",
              "      <td>2006-03-29</td>\n",
              "      <td>19:37</td>\n",
              "      <td>F</td>\n",
              "      <td>1997.0</td>\n",
              "      <td>NaN</td>\n",
              "      <td>White</td>\n",
              "      <td>Speeding</td>\n",
              "      <td>Speeding</td>\n",
              "      <td>False</td>\n",
              "      <td>NaN</td>\n",
              "      <td>Citation</td>\n",
              "      <td>False</td>\n",
              "      <td>8.0</td>\n",
              "      <td>False</td>\n",
              "      <td>2006</td>\n",
              "    </tr>\n",
              "    <tr>\n",
              "      <th>6016</th>\n",
              "      <td>2006-04-26</td>\n",
              "      <td>09:15</td>\n",
              "      <td>F</td>\n",
              "      <td>2006.0</td>\n",
              "      <td>NaN</td>\n",
              "      <td>Black</td>\n",
              "      <td>Other Traffic Violation</td>\n",
              "      <td>Moving violation</td>\n",
              "      <td>False</td>\n",
              "      <td>NaN</td>\n",
              "      <td>Arrest Driver</td>\n",
              "      <td>True</td>\n",
              "      <td>8.0</td>\n",
              "      <td>False</td>\n",
              "      <td>2006</td>\n",
              "    </tr>\n",
              "    <tr>\n",
              "      <th>7397</th>\n",
              "      <td>2006-06-12</td>\n",
              "      <td>23:55</td>\n",
              "      <td>F</td>\n",
              "      <td>1887.0</td>\n",
              "      <td>NaN</td>\n",
              "      <td>White</td>\n",
              "      <td>Speeding</td>\n",
              "      <td>Speeding</td>\n",
              "      <td>False</td>\n",
              "      <td>NaN</td>\n",
              "      <td>Citation</td>\n",
              "      <td>False</td>\n",
              "      <td>8.0</td>\n",
              "      <td>False</td>\n",
              "      <td>2006</td>\n",
              "    </tr>\n",
              "    <tr>\n",
              "      <th>8373</th>\n",
              "      <td>2006-07-17</td>\n",
              "      <td>08:20</td>\n",
              "      <td>F</td>\n",
              "      <td>2006.0</td>\n",
              "      <td>NaN</td>\n",
              "      <td>White</td>\n",
              "      <td>Speeding</td>\n",
              "      <td>Speeding</td>\n",
              "      <td>False</td>\n",
              "      <td>NaN</td>\n",
              "      <td>Citation</td>\n",
              "      <td>False</td>\n",
              "      <td>8.0</td>\n",
              "      <td>False</td>\n",
              "      <td>2006</td>\n",
              "    </tr>\n",
              "    <tr>\n",
              "      <th>8656</th>\n",
              "      <td>2006-07-27</td>\n",
              "      <td>19:08</td>\n",
              "      <td>M</td>\n",
              "      <td>2006.0</td>\n",
              "      <td>NaN</td>\n",
              "      <td>Black</td>\n",
              "      <td>Other Traffic Violation</td>\n",
              "      <td>Moving violation</td>\n",
              "      <td>False</td>\n",
              "      <td>NaN</td>\n",
              "      <td>Citation</td>\n",
              "      <td>False</td>\n",
              "      <td>8.0</td>\n",
              "      <td>False</td>\n",
              "      <td>2006</td>\n",
              "    </tr>\n",
              "    <tr>\n",
              "      <th>9059</th>\n",
              "      <td>2006-08-09</td>\n",
              "      <td>09:10</td>\n",
              "      <td>M</td>\n",
              "      <td>2006.0</td>\n",
              "      <td>NaN</td>\n",
              "      <td>Black</td>\n",
              "      <td>Speeding</td>\n",
              "      <td>Speeding</td>\n",
              "      <td>False</td>\n",
              "      <td>NaN</td>\n",
              "      <td>Citation</td>\n",
              "      <td>False</td>\n",
              "      <td>8.0</td>\n",
              "      <td>False</td>\n",
              "      <td>2006</td>\n",
              "    </tr>\n",
              "    <tr>\n",
              "      <th>9359</th>\n",
              "      <td>2006-08-22</td>\n",
              "      <td>06:30</td>\n",
              "      <td>F</td>\n",
              "      <td>2006.0</td>\n",
              "      <td>NaN</td>\n",
              "      <td>White</td>\n",
              "      <td>Speeding</td>\n",
              "      <td>Speeding</td>\n",
              "      <td>False</td>\n",
              "      <td>NaN</td>\n",
              "      <td>Citation</td>\n",
              "      <td>False</td>\n",
              "      <td>8.0</td>\n",
              "      <td>False</td>\n",
              "      <td>2006</td>\n",
              "    </tr>\n",
              "    <tr>\n",
              "      <th>10023</th>\n",
              "      <td>2006-09-12</td>\n",
              "      <td>17:40</td>\n",
              "      <td>M</td>\n",
              "      <td>2006.0</td>\n",
              "      <td>NaN</td>\n",
              "      <td>White</td>\n",
              "      <td>Speeding</td>\n",
              "      <td>Speeding</td>\n",
              "      <td>False</td>\n",
              "      <td>NaN</td>\n",
              "      <td>Citation</td>\n",
              "      <td>False</td>\n",
              "      <td>8.0</td>\n",
              "      <td>False</td>\n",
              "      <td>2006</td>\n",
              "    </tr>\n",
              "    <tr>\n",
              "      <th>10357</th>\n",
              "      <td>2006-09-24</td>\n",
              "      <td>17:30</td>\n",
              "      <td>M</td>\n",
              "      <td>2004.0</td>\n",
              "      <td>NaN</td>\n",
              "      <td>White</td>\n",
              "      <td>Speeding</td>\n",
              "      <td>Speeding</td>\n",
              "      <td>False</td>\n",
              "      <td>NaN</td>\n",
              "      <td>Citation</td>\n",
              "      <td>False</td>\n",
              "      <td>8.0</td>\n",
              "      <td>False</td>\n",
              "      <td>2006</td>\n",
              "    </tr>\n",
              "    <tr>\n",
              "      <th>10827</th>\n",
              "      <td>2006-10-11</td>\n",
              "      <td>10:55</td>\n",
              "      <td>M</td>\n",
              "      <td>2002.0</td>\n",
              "      <td>NaN</td>\n",
              "      <td>White</td>\n",
              "      <td>Other Traffic Violation</td>\n",
              "      <td>Moving violation</td>\n",
              "      <td>False</td>\n",
              "      <td>NaN</td>\n",
              "      <td>Citation</td>\n",
              "      <td>False</td>\n",
              "      <td>8.0</td>\n",
              "      <td>False</td>\n",
              "      <td>2006</td>\n",
              "    </tr>\n",
              "    <tr>\n",
              "      <th>12972</th>\n",
              "      <td>2006-12-21</td>\n",
              "      <td>19:30</td>\n",
              "      <td>M</td>\n",
              "      <td>2006.0</td>\n",
              "      <td>NaN</td>\n",
              "      <td>Black</td>\n",
              "      <td>Other Traffic Violation</td>\n",
              "      <td>Moving violation</td>\n",
              "      <td>False</td>\n",
              "      <td>NaN</td>\n",
              "      <td>Citation</td>\n",
              "      <td>False</td>\n",
              "      <td>8.0</td>\n",
              "      <td>False</td>\n",
              "      <td>2006</td>\n",
              "    </tr>\n",
              "    <tr>\n",
              "      <th>14890</th>\n",
              "      <td>2007-02-21</td>\n",
              "      <td>20:55</td>\n",
              "      <td>M</td>\n",
              "      <td>2007.0</td>\n",
              "      <td>NaN</td>\n",
              "      <td>White</td>\n",
              "      <td>Speeding</td>\n",
              "      <td>Speeding</td>\n",
              "      <td>False</td>\n",
              "      <td>NaN</td>\n",
              "      <td>Citation</td>\n",
              "      <td>False</td>\n",
              "      <td>8.0</td>\n",
              "      <td>False</td>\n",
              "      <td>2007</td>\n",
              "    </tr>\n",
              "    <tr>\n",
              "      <th>16064</th>\n",
              "      <td>2007-04-10</td>\n",
              "      <td>20:40</td>\n",
              "      <td>M</td>\n",
              "      <td>2007.0</td>\n",
              "      <td>NaN</td>\n",
              "      <td>Hispanic</td>\n",
              "      <td>Speeding</td>\n",
              "      <td>Speeding</td>\n",
              "      <td>False</td>\n",
              "      <td>NaN</td>\n",
              "      <td>Citation</td>\n",
              "      <td>False</td>\n",
              "      <td>8.0</td>\n",
              "      <td>False</td>\n",
              "      <td>2007</td>\n",
              "    </tr>\n",
              "    <tr>\n",
              "      <th>16482</th>\n",
              "      <td>2007-04-27</td>\n",
              "      <td>23:41</td>\n",
              "      <td>F</td>\n",
              "      <td>2007.0</td>\n",
              "      <td>NaN</td>\n",
              "      <td>Black</td>\n",
              "      <td>Speeding</td>\n",
              "      <td>Speeding</td>\n",
              "      <td>False</td>\n",
              "      <td>NaN</td>\n",
              "      <td>Citation</td>\n",
              "      <td>False</td>\n",
              "      <td>23.0</td>\n",
              "      <td>False</td>\n",
              "      <td>2007</td>\n",
              "    </tr>\n",
              "    <tr>\n",
              "      <th>18143</th>\n",
              "      <td>2007-06-24</td>\n",
              "      <td>08:42</td>\n",
              "      <td>M</td>\n",
              "      <td>2001.0</td>\n",
              "      <td>NaN</td>\n",
              "      <td>White</td>\n",
              "      <td>Suspicious Person</td>\n",
              "      <td>Other</td>\n",
              "      <td>True</td>\n",
              "      <td>Protective Frisk,Reasonable Suspicion</td>\n",
              "      <td>No Action</td>\n",
              "      <td>False</td>\n",
              "      <td>23.0</td>\n",
              "      <td>False</td>\n",
              "      <td>2007</td>\n",
              "    </tr>\n",
              "    <tr>\n",
              "      <th>18149</th>\n",
              "      <td>2007-06-24</td>\n",
              "      <td>09:37</td>\n",
              "      <td>M</td>\n",
              "      <td>2005.0</td>\n",
              "      <td>NaN</td>\n",
              "      <td>Hispanic</td>\n",
              "      <td>Speeding</td>\n",
              "      <td>Speeding</td>\n",
              "      <td>False</td>\n",
              "      <td>NaN</td>\n",
              "      <td>Citation</td>\n",
              "      <td>False</td>\n",
              "      <td>8.0</td>\n",
              "      <td>False</td>\n",
              "      <td>2007</td>\n",
              "    </tr>\n",
              "    <tr>\n",
              "      <th>20099</th>\n",
              "      <td>2007-09-12</td>\n",
              "      <td>06:49</td>\n",
              "      <td>M</td>\n",
              "      <td>2003.0</td>\n",
              "      <td>NaN</td>\n",
              "      <td>White</td>\n",
              "      <td>Speeding</td>\n",
              "      <td>Speeding</td>\n",
              "      <td>False</td>\n",
              "      <td>NaN</td>\n",
              "      <td>Citation</td>\n",
              "      <td>False</td>\n",
              "      <td>23.0</td>\n",
              "      <td>False</td>\n",
              "      <td>2007</td>\n",
              "    </tr>\n",
              "    <tr>\n",
              "      <th>22157</th>\n",
              "      <td>2007-12-06</td>\n",
              "      <td>16:30</td>\n",
              "      <td>F</td>\n",
              "      <td>2006.0</td>\n",
              "      <td>NaN</td>\n",
              "      <td>White</td>\n",
              "      <td>Speeding</td>\n",
              "      <td>Speeding</td>\n",
              "      <td>False</td>\n",
              "      <td>NaN</td>\n",
              "      <td>Citation</td>\n",
              "      <td>False</td>\n",
              "      <td>8.0</td>\n",
              "      <td>False</td>\n",
              "      <td>2007</td>\n",
              "    </tr>\n",
              "    <tr>\n",
              "      <th>23262</th>\n",
              "      <td>2008-01-23</td>\n",
              "      <td>15:00</td>\n",
              "      <td>F</td>\n",
              "      <td>1998.0</td>\n",
              "      <td>NaN</td>\n",
              "      <td>White</td>\n",
              "      <td>Speeding</td>\n",
              "      <td>Speeding</td>\n",
              "      <td>False</td>\n",
              "      <td>NaN</td>\n",
              "      <td>Citation</td>\n",
              "      <td>False</td>\n",
              "      <td>8.0</td>\n",
              "      <td>False</td>\n",
              "      <td>2008</td>\n",
              "    </tr>\n",
              "    <tr>\n",
              "      <th>24045</th>\n",
              "      <td>2008-02-24</td>\n",
              "      <td>22:51</td>\n",
              "      <td>M</td>\n",
              "      <td>2005.0</td>\n",
              "      <td>NaN</td>\n",
              "      <td>Hispanic</td>\n",
              "      <td>Equipment/Inspection Violation</td>\n",
              "      <td>Equipment</td>\n",
              "      <td>False</td>\n",
              "      <td>NaN</td>\n",
              "      <td>Citation</td>\n",
              "      <td>False</td>\n",
              "      <td>23.0</td>\n",
              "      <td>False</td>\n",
              "      <td>2008</td>\n",
              "    </tr>\n",
              "    <tr>\n",
              "      <th>25950</th>\n",
              "      <td>2008-05-20</td>\n",
              "      <td>22:52</td>\n",
              "      <td>M</td>\n",
              "      <td>1997.0</td>\n",
              "      <td>NaN</td>\n",
              "      <td>White</td>\n",
              "      <td>Speeding</td>\n",
              "      <td>Speeding</td>\n",
              "      <td>False</td>\n",
              "      <td>NaN</td>\n",
              "      <td>Citation</td>\n",
              "      <td>False</td>\n",
              "      <td>8.0</td>\n",
              "      <td>False</td>\n",
              "      <td>2008</td>\n",
              "    </tr>\n",
              "    <tr>\n",
              "      <th>26239</th>\n",
              "      <td>2008-05-29</td>\n",
              "      <td>16:50</td>\n",
              "      <td>M</td>\n",
              "      <td>2007.0</td>\n",
              "      <td>NaN</td>\n",
              "      <td>White</td>\n",
              "      <td>Speeding</td>\n",
              "      <td>Speeding</td>\n",
              "      <td>False</td>\n",
              "      <td>NaN</td>\n",
              "      <td>Citation</td>\n",
              "      <td>False</td>\n",
              "      <td>8.0</td>\n",
              "      <td>False</td>\n",
              "      <td>2008</td>\n",
              "    </tr>\n",
              "    <tr>\n",
              "      <th>26437</th>\n",
              "      <td>2008-06-06</td>\n",
              "      <td>08:17</td>\n",
              "      <td>F</td>\n",
              "      <td>2007.0</td>\n",
              "      <td>NaN</td>\n",
              "      <td>White</td>\n",
              "      <td>Speeding</td>\n",
              "      <td>Speeding</td>\n",
              "      <td>False</td>\n",
              "      <td>NaN</td>\n",
              "      <td>Citation</td>\n",
              "      <td>False</td>\n",
              "      <td>8.0</td>\n",
              "      <td>False</td>\n",
              "      <td>2008</td>\n",
              "    </tr>\n",
              "    <tr>\n",
              "      <th>28872</th>\n",
              "      <td>2008-09-11</td>\n",
              "      <td>11:15</td>\n",
              "      <td>M</td>\n",
              "      <td>2008.0</td>\n",
              "      <td>NaN</td>\n",
              "      <td>Black</td>\n",
              "      <td>Speeding</td>\n",
              "      <td>Speeding</td>\n",
              "      <td>False</td>\n",
              "      <td>NaN</td>\n",
              "      <td>Citation</td>\n",
              "      <td>False</td>\n",
              "      <td>8.0</td>\n",
              "      <td>False</td>\n",
              "      <td>2008</td>\n",
              "    </tr>\n",
              "    <tr>\n",
              "      <th>30350</th>\n",
              "      <td>2008-11-12</td>\n",
              "      <td>07:04</td>\n",
              "      <td>M</td>\n",
              "      <td>2008.0</td>\n",
              "      <td>NaN</td>\n",
              "      <td>White</td>\n",
              "      <td>Speeding</td>\n",
              "      <td>Speeding</td>\n",
              "      <td>False</td>\n",
              "      <td>NaN</td>\n",
              "      <td>Citation</td>\n",
              "      <td>False</td>\n",
              "      <td>8.0</td>\n",
              "      <td>False</td>\n",
              "      <td>2008</td>\n",
              "    </tr>\n",
              "    <tr>\n",
              "      <th>31606</th>\n",
              "      <td>2009-01-09</td>\n",
              "      <td>09:02</td>\n",
              "      <td>M</td>\n",
              "      <td>2006.0</td>\n",
              "      <td>NaN</td>\n",
              "      <td>White</td>\n",
              "      <td>Speeding</td>\n",
              "      <td>Speeding</td>\n",
              "      <td>False</td>\n",
              "      <td>NaN</td>\n",
              "      <td>Citation</td>\n",
              "      <td>False</td>\n",
              "      <td>8.0</td>\n",
              "      <td>False</td>\n",
              "      <td>2009</td>\n",
              "    </tr>\n",
              "    <tr>\n",
              "      <th>37738</th>\n",
              "      <td>2009-10-07</td>\n",
              "      <td>21:15</td>\n",
              "      <td>M</td>\n",
              "      <td>2009.0</td>\n",
              "      <td>NaN</td>\n",
              "      <td>Hispanic</td>\n",
              "      <td>Speeding</td>\n",
              "      <td>Speeding</td>\n",
              "      <td>False</td>\n",
              "      <td>NaN</td>\n",
              "      <td>Citation</td>\n",
              "      <td>False</td>\n",
              "      <td>8.0</td>\n",
              "      <td>False</td>\n",
              "      <td>2009</td>\n",
              "    </tr>\n",
              "    <tr>\n",
              "      <th>37818</th>\n",
              "      <td>2009-10-11</td>\n",
              "      <td>10:39</td>\n",
              "      <td>M</td>\n",
              "      <td>2004.0</td>\n",
              "      <td>NaN</td>\n",
              "      <td>White</td>\n",
              "      <td>Speeding</td>\n",
              "      <td>Speeding</td>\n",
              "      <td>False</td>\n",
              "      <td>NaN</td>\n",
              "      <td>Citation</td>\n",
              "      <td>False</td>\n",
              "      <td>8.0</td>\n",
              "      <td>False</td>\n",
              "      <td>2009</td>\n",
              "    </tr>\n",
              "    <tr>\n",
              "      <th>39125</th>\n",
              "      <td>2009-12-18</td>\n",
              "      <td>01:48</td>\n",
              "      <td>M</td>\n",
              "      <td>2000.0</td>\n",
              "      <td>NaN</td>\n",
              "      <td>White</td>\n",
              "      <td>Speeding</td>\n",
              "      <td>Speeding</td>\n",
              "      <td>False</td>\n",
              "      <td>NaN</td>\n",
              "      <td>Warning</td>\n",
              "      <td>False</td>\n",
              "      <td>8.0</td>\n",
              "      <td>False</td>\n",
              "      <td>2009</td>\n",
              "    </tr>\n",
              "    <tr>\n",
              "      <th>53160</th>\n",
              "      <td>2011-10-13</td>\n",
              "      <td>17:00</td>\n",
              "      <td>M</td>\n",
              "      <td>1997.0</td>\n",
              "      <td>NaN</td>\n",
              "      <td>Hispanic</td>\n",
              "      <td>Other Traffic Violation</td>\n",
              "      <td>Moving violation</td>\n",
              "      <td>False</td>\n",
              "      <td>NaN</td>\n",
              "      <td>Arrest Driver</td>\n",
              "      <td>True</td>\n",
              "      <td>31.0</td>\n",
              "      <td>False</td>\n",
              "      <td>2011</td>\n",
              "    </tr>\n",
              "    <tr>\n",
              "      <th>56377</th>\n",
              "      <td>2012-02-05</td>\n",
              "      <td>13:54</td>\n",
              "      <td>M</td>\n",
              "      <td>2011.0</td>\n",
              "      <td>NaN</td>\n",
              "      <td>White</td>\n",
              "      <td>Special Detail/Directed Patrol</td>\n",
              "      <td>Other</td>\n",
              "      <td>False</td>\n",
              "      <td>NaN</td>\n",
              "      <td>Citation</td>\n",
              "      <td>False</td>\n",
              "      <td>8.0</td>\n",
              "      <td>False</td>\n",
              "      <td>2012</td>\n",
              "    </tr>\n",
              "    <tr>\n",
              "      <th>58284</th>\n",
              "      <td>2012-03-26</td>\n",
              "      <td>12:50</td>\n",
              "      <td>M</td>\n",
              "      <td>2009.0</td>\n",
              "      <td>NaN</td>\n",
              "      <td>White</td>\n",
              "      <td>Motorist Assist/Courtesy</td>\n",
              "      <td>Other</td>\n",
              "      <td>False</td>\n",
              "      <td>NaN</td>\n",
              "      <td>No Action</td>\n",
              "      <td>False</td>\n",
              "      <td>8.0</td>\n",
              "      <td>False</td>\n",
              "      <td>2012</td>\n",
              "    </tr>\n",
              "    <tr>\n",
              "      <th>66876</th>\n",
              "      <td>2013-02-04</td>\n",
              "      <td>08:31</td>\n",
              "      <td>M</td>\n",
              "      <td>2013.0</td>\n",
              "      <td>NaN</td>\n",
              "      <td>White</td>\n",
              "      <td>Registration Violation</td>\n",
              "      <td>Registration/plates</td>\n",
              "      <td>True</td>\n",
              "      <td>Probable Cause</td>\n",
              "      <td>Citation</td>\n",
              "      <td>False</td>\n",
              "      <td>31.0</td>\n",
              "      <td>True</td>\n",
              "      <td>2013</td>\n",
              "    </tr>\n",
              "  </tbody>\n",
              "</table>\n",
              "</div>"
            ],
            "text/plain": [
              "       stop_date stop_time  ... drugs_related_stop  year\n",
              "414   2005-10-17     08:32  ...              False  2005\n",
              "3758  2006-02-06     13:20  ...              False  2006\n",
              "5200  2006-03-29     19:37  ...              False  2006\n",
              "6016  2006-04-26     09:15  ...              False  2006\n",
              "7397  2006-06-12     23:55  ...              False  2006\n",
              "8373  2006-07-17     08:20  ...              False  2006\n",
              "8656  2006-07-27     19:08  ...              False  2006\n",
              "9059  2006-08-09     09:10  ...              False  2006\n",
              "9359  2006-08-22     06:30  ...              False  2006\n",
              "10023 2006-09-12     17:40  ...              False  2006\n",
              "10357 2006-09-24     17:30  ...              False  2006\n",
              "10827 2006-10-11     10:55  ...              False  2006\n",
              "12972 2006-12-21     19:30  ...              False  2006\n",
              "14890 2007-02-21     20:55  ...              False  2007\n",
              "16064 2007-04-10     20:40  ...              False  2007\n",
              "16482 2007-04-27     23:41  ...              False  2007\n",
              "18143 2007-06-24     08:42  ...              False  2007\n",
              "18149 2007-06-24     09:37  ...              False  2007\n",
              "20099 2007-09-12     06:49  ...              False  2007\n",
              "22157 2007-12-06     16:30  ...              False  2007\n",
              "23262 2008-01-23     15:00  ...              False  2008\n",
              "24045 2008-02-24     22:51  ...              False  2008\n",
              "25950 2008-05-20     22:52  ...              False  2008\n",
              "26239 2008-05-29     16:50  ...              False  2008\n",
              "26437 2008-06-06     08:17  ...              False  2008\n",
              "28872 2008-09-11     11:15  ...              False  2008\n",
              "30350 2008-11-12     07:04  ...              False  2008\n",
              "31606 2009-01-09     09:02  ...              False  2009\n",
              "37738 2009-10-07     21:15  ...              False  2009\n",
              "37818 2009-10-11     10:39  ...              False  2009\n",
              "39125 2009-12-18     01:48  ...              False  2009\n",
              "53160 2011-10-13     17:00  ...              False  2011\n",
              "56377 2012-02-05     13:54  ...              False  2012\n",
              "58284 2012-03-26     12:50  ...              False  2012\n",
              "66876 2013-02-04     08:31  ...               True  2013\n",
              "\n",
              "[35 rows x 15 columns]"
            ]
          },
          "metadata": {},
          "execution_count": 54
        }
      ]
    },
    {
      "cell_type": "code",
      "metadata": {
        "id": "8lotYyHTxxmf"
      },
      "source": [
        "driver_age_fix_df[\"driver_age\"] = driver_age_fix_df[\"year\"] - driver_age_fix_df[\"driver_age_raw\"]"
      ],
      "execution_count": null,
      "outputs": []
    },
    {
      "cell_type": "code",
      "metadata": {
        "colab": {
          "base_uri": "https://localhost:8080/",
          "height": 1000
        },
        "id": "zCnAjzCsOaP8",
        "outputId": "abff492e-e75f-4ee0-8b71-95e80953e638"
      },
      "source": [
        "driver_age_fix_df"
      ],
      "execution_count": null,
      "outputs": [
        {
          "output_type": "execute_result",
          "data": {
            "text/html": [
              "<div>\n",
              "<style scoped>\n",
              "    .dataframe tbody tr th:only-of-type {\n",
              "        vertical-align: middle;\n",
              "    }\n",
              "\n",
              "    .dataframe tbody tr th {\n",
              "        vertical-align: top;\n",
              "    }\n",
              "\n",
              "    .dataframe thead th {\n",
              "        text-align: right;\n",
              "    }\n",
              "</style>\n",
              "<table border=\"1\" class=\"dataframe\">\n",
              "  <thead>\n",
              "    <tr style=\"text-align: right;\">\n",
              "      <th></th>\n",
              "      <th>stop_date</th>\n",
              "      <th>stop_time</th>\n",
              "      <th>driver_gender</th>\n",
              "      <th>driver_age_raw</th>\n",
              "      <th>driver_age</th>\n",
              "      <th>driver_race</th>\n",
              "      <th>violation_raw</th>\n",
              "      <th>violation</th>\n",
              "      <th>search_conducted</th>\n",
              "      <th>search_type</th>\n",
              "      <th>stop_outcome</th>\n",
              "      <th>is_arrested</th>\n",
              "      <th>stop_duration</th>\n",
              "      <th>drugs_related_stop</th>\n",
              "      <th>year</th>\n",
              "    </tr>\n",
              "  </thead>\n",
              "  <tbody>\n",
              "    <tr>\n",
              "      <th>414</th>\n",
              "      <td>2005-10-17</td>\n",
              "      <td>08:32</td>\n",
              "      <td>M</td>\n",
              "      <td>2005.0</td>\n",
              "      <td>0.0</td>\n",
              "      <td>White</td>\n",
              "      <td>Other Traffic Violation</td>\n",
              "      <td>Moving violation</td>\n",
              "      <td>False</td>\n",
              "      <td>NaN</td>\n",
              "      <td>Citation</td>\n",
              "      <td>False</td>\n",
              "      <td>8.0</td>\n",
              "      <td>False</td>\n",
              "      <td>2005</td>\n",
              "    </tr>\n",
              "    <tr>\n",
              "      <th>3758</th>\n",
              "      <td>2006-02-06</td>\n",
              "      <td>13:20</td>\n",
              "      <td>M</td>\n",
              "      <td>2006.0</td>\n",
              "      <td>0.0</td>\n",
              "      <td>White</td>\n",
              "      <td>Speeding</td>\n",
              "      <td>Speeding</td>\n",
              "      <td>False</td>\n",
              "      <td>NaN</td>\n",
              "      <td>Citation</td>\n",
              "      <td>False</td>\n",
              "      <td>8.0</td>\n",
              "      <td>False</td>\n",
              "      <td>2006</td>\n",
              "    </tr>\n",
              "    <tr>\n",
              "      <th>5200</th>\n",
              "      <td>2006-03-29</td>\n",
              "      <td>19:37</td>\n",
              "      <td>F</td>\n",
              "      <td>1997.0</td>\n",
              "      <td>9.0</td>\n",
              "      <td>White</td>\n",
              "      <td>Speeding</td>\n",
              "      <td>Speeding</td>\n",
              "      <td>False</td>\n",
              "      <td>NaN</td>\n",
              "      <td>Citation</td>\n",
              "      <td>False</td>\n",
              "      <td>8.0</td>\n",
              "      <td>False</td>\n",
              "      <td>2006</td>\n",
              "    </tr>\n",
              "    <tr>\n",
              "      <th>6016</th>\n",
              "      <td>2006-04-26</td>\n",
              "      <td>09:15</td>\n",
              "      <td>F</td>\n",
              "      <td>2006.0</td>\n",
              "      <td>0.0</td>\n",
              "      <td>Black</td>\n",
              "      <td>Other Traffic Violation</td>\n",
              "      <td>Moving violation</td>\n",
              "      <td>False</td>\n",
              "      <td>NaN</td>\n",
              "      <td>Arrest Driver</td>\n",
              "      <td>True</td>\n",
              "      <td>8.0</td>\n",
              "      <td>False</td>\n",
              "      <td>2006</td>\n",
              "    </tr>\n",
              "    <tr>\n",
              "      <th>7397</th>\n",
              "      <td>2006-06-12</td>\n",
              "      <td>23:55</td>\n",
              "      <td>F</td>\n",
              "      <td>1887.0</td>\n",
              "      <td>119.0</td>\n",
              "      <td>White</td>\n",
              "      <td>Speeding</td>\n",
              "      <td>Speeding</td>\n",
              "      <td>False</td>\n",
              "      <td>NaN</td>\n",
              "      <td>Citation</td>\n",
              "      <td>False</td>\n",
              "      <td>8.0</td>\n",
              "      <td>False</td>\n",
              "      <td>2006</td>\n",
              "    </tr>\n",
              "    <tr>\n",
              "      <th>8373</th>\n",
              "      <td>2006-07-17</td>\n",
              "      <td>08:20</td>\n",
              "      <td>F</td>\n",
              "      <td>2006.0</td>\n",
              "      <td>0.0</td>\n",
              "      <td>White</td>\n",
              "      <td>Speeding</td>\n",
              "      <td>Speeding</td>\n",
              "      <td>False</td>\n",
              "      <td>NaN</td>\n",
              "      <td>Citation</td>\n",
              "      <td>False</td>\n",
              "      <td>8.0</td>\n",
              "      <td>False</td>\n",
              "      <td>2006</td>\n",
              "    </tr>\n",
              "    <tr>\n",
              "      <th>8656</th>\n",
              "      <td>2006-07-27</td>\n",
              "      <td>19:08</td>\n",
              "      <td>M</td>\n",
              "      <td>2006.0</td>\n",
              "      <td>0.0</td>\n",
              "      <td>Black</td>\n",
              "      <td>Other Traffic Violation</td>\n",
              "      <td>Moving violation</td>\n",
              "      <td>False</td>\n",
              "      <td>NaN</td>\n",
              "      <td>Citation</td>\n",
              "      <td>False</td>\n",
              "      <td>8.0</td>\n",
              "      <td>False</td>\n",
              "      <td>2006</td>\n",
              "    </tr>\n",
              "    <tr>\n",
              "      <th>9059</th>\n",
              "      <td>2006-08-09</td>\n",
              "      <td>09:10</td>\n",
              "      <td>M</td>\n",
              "      <td>2006.0</td>\n",
              "      <td>0.0</td>\n",
              "      <td>Black</td>\n",
              "      <td>Speeding</td>\n",
              "      <td>Speeding</td>\n",
              "      <td>False</td>\n",
              "      <td>NaN</td>\n",
              "      <td>Citation</td>\n",
              "      <td>False</td>\n",
              "      <td>8.0</td>\n",
              "      <td>False</td>\n",
              "      <td>2006</td>\n",
              "    </tr>\n",
              "    <tr>\n",
              "      <th>9359</th>\n",
              "      <td>2006-08-22</td>\n",
              "      <td>06:30</td>\n",
              "      <td>F</td>\n",
              "      <td>2006.0</td>\n",
              "      <td>0.0</td>\n",
              "      <td>White</td>\n",
              "      <td>Speeding</td>\n",
              "      <td>Speeding</td>\n",
              "      <td>False</td>\n",
              "      <td>NaN</td>\n",
              "      <td>Citation</td>\n",
              "      <td>False</td>\n",
              "      <td>8.0</td>\n",
              "      <td>False</td>\n",
              "      <td>2006</td>\n",
              "    </tr>\n",
              "    <tr>\n",
              "      <th>10023</th>\n",
              "      <td>2006-09-12</td>\n",
              "      <td>17:40</td>\n",
              "      <td>M</td>\n",
              "      <td>2006.0</td>\n",
              "      <td>0.0</td>\n",
              "      <td>White</td>\n",
              "      <td>Speeding</td>\n",
              "      <td>Speeding</td>\n",
              "      <td>False</td>\n",
              "      <td>NaN</td>\n",
              "      <td>Citation</td>\n",
              "      <td>False</td>\n",
              "      <td>8.0</td>\n",
              "      <td>False</td>\n",
              "      <td>2006</td>\n",
              "    </tr>\n",
              "    <tr>\n",
              "      <th>10357</th>\n",
              "      <td>2006-09-24</td>\n",
              "      <td>17:30</td>\n",
              "      <td>M</td>\n",
              "      <td>2004.0</td>\n",
              "      <td>2.0</td>\n",
              "      <td>White</td>\n",
              "      <td>Speeding</td>\n",
              "      <td>Speeding</td>\n",
              "      <td>False</td>\n",
              "      <td>NaN</td>\n",
              "      <td>Citation</td>\n",
              "      <td>False</td>\n",
              "      <td>8.0</td>\n",
              "      <td>False</td>\n",
              "      <td>2006</td>\n",
              "    </tr>\n",
              "    <tr>\n",
              "      <th>10827</th>\n",
              "      <td>2006-10-11</td>\n",
              "      <td>10:55</td>\n",
              "      <td>M</td>\n",
              "      <td>2002.0</td>\n",
              "      <td>4.0</td>\n",
              "      <td>White</td>\n",
              "      <td>Other Traffic Violation</td>\n",
              "      <td>Moving violation</td>\n",
              "      <td>False</td>\n",
              "      <td>NaN</td>\n",
              "      <td>Citation</td>\n",
              "      <td>False</td>\n",
              "      <td>8.0</td>\n",
              "      <td>False</td>\n",
              "      <td>2006</td>\n",
              "    </tr>\n",
              "    <tr>\n",
              "      <th>12972</th>\n",
              "      <td>2006-12-21</td>\n",
              "      <td>19:30</td>\n",
              "      <td>M</td>\n",
              "      <td>2006.0</td>\n",
              "      <td>0.0</td>\n",
              "      <td>Black</td>\n",
              "      <td>Other Traffic Violation</td>\n",
              "      <td>Moving violation</td>\n",
              "      <td>False</td>\n",
              "      <td>NaN</td>\n",
              "      <td>Citation</td>\n",
              "      <td>False</td>\n",
              "      <td>8.0</td>\n",
              "      <td>False</td>\n",
              "      <td>2006</td>\n",
              "    </tr>\n",
              "    <tr>\n",
              "      <th>14890</th>\n",
              "      <td>2007-02-21</td>\n",
              "      <td>20:55</td>\n",
              "      <td>M</td>\n",
              "      <td>2007.0</td>\n",
              "      <td>0.0</td>\n",
              "      <td>White</td>\n",
              "      <td>Speeding</td>\n",
              "      <td>Speeding</td>\n",
              "      <td>False</td>\n",
              "      <td>NaN</td>\n",
              "      <td>Citation</td>\n",
              "      <td>False</td>\n",
              "      <td>8.0</td>\n",
              "      <td>False</td>\n",
              "      <td>2007</td>\n",
              "    </tr>\n",
              "    <tr>\n",
              "      <th>16064</th>\n",
              "      <td>2007-04-10</td>\n",
              "      <td>20:40</td>\n",
              "      <td>M</td>\n",
              "      <td>2007.0</td>\n",
              "      <td>0.0</td>\n",
              "      <td>Hispanic</td>\n",
              "      <td>Speeding</td>\n",
              "      <td>Speeding</td>\n",
              "      <td>False</td>\n",
              "      <td>NaN</td>\n",
              "      <td>Citation</td>\n",
              "      <td>False</td>\n",
              "      <td>8.0</td>\n",
              "      <td>False</td>\n",
              "      <td>2007</td>\n",
              "    </tr>\n",
              "    <tr>\n",
              "      <th>16482</th>\n",
              "      <td>2007-04-27</td>\n",
              "      <td>23:41</td>\n",
              "      <td>F</td>\n",
              "      <td>2007.0</td>\n",
              "      <td>0.0</td>\n",
              "      <td>Black</td>\n",
              "      <td>Speeding</td>\n",
              "      <td>Speeding</td>\n",
              "      <td>False</td>\n",
              "      <td>NaN</td>\n",
              "      <td>Citation</td>\n",
              "      <td>False</td>\n",
              "      <td>23.0</td>\n",
              "      <td>False</td>\n",
              "      <td>2007</td>\n",
              "    </tr>\n",
              "    <tr>\n",
              "      <th>18143</th>\n",
              "      <td>2007-06-24</td>\n",
              "      <td>08:42</td>\n",
              "      <td>M</td>\n",
              "      <td>2001.0</td>\n",
              "      <td>6.0</td>\n",
              "      <td>White</td>\n",
              "      <td>Suspicious Person</td>\n",
              "      <td>Other</td>\n",
              "      <td>True</td>\n",
              "      <td>Protective Frisk,Reasonable Suspicion</td>\n",
              "      <td>No Action</td>\n",
              "      <td>False</td>\n",
              "      <td>23.0</td>\n",
              "      <td>False</td>\n",
              "      <td>2007</td>\n",
              "    </tr>\n",
              "    <tr>\n",
              "      <th>18149</th>\n",
              "      <td>2007-06-24</td>\n",
              "      <td>09:37</td>\n",
              "      <td>M</td>\n",
              "      <td>2005.0</td>\n",
              "      <td>2.0</td>\n",
              "      <td>Hispanic</td>\n",
              "      <td>Speeding</td>\n",
              "      <td>Speeding</td>\n",
              "      <td>False</td>\n",
              "      <td>NaN</td>\n",
              "      <td>Citation</td>\n",
              "      <td>False</td>\n",
              "      <td>8.0</td>\n",
              "      <td>False</td>\n",
              "      <td>2007</td>\n",
              "    </tr>\n",
              "    <tr>\n",
              "      <th>20099</th>\n",
              "      <td>2007-09-12</td>\n",
              "      <td>06:49</td>\n",
              "      <td>M</td>\n",
              "      <td>2003.0</td>\n",
              "      <td>4.0</td>\n",
              "      <td>White</td>\n",
              "      <td>Speeding</td>\n",
              "      <td>Speeding</td>\n",
              "      <td>False</td>\n",
              "      <td>NaN</td>\n",
              "      <td>Citation</td>\n",
              "      <td>False</td>\n",
              "      <td>23.0</td>\n",
              "      <td>False</td>\n",
              "      <td>2007</td>\n",
              "    </tr>\n",
              "    <tr>\n",
              "      <th>22157</th>\n",
              "      <td>2007-12-06</td>\n",
              "      <td>16:30</td>\n",
              "      <td>F</td>\n",
              "      <td>2006.0</td>\n",
              "      <td>1.0</td>\n",
              "      <td>White</td>\n",
              "      <td>Speeding</td>\n",
              "      <td>Speeding</td>\n",
              "      <td>False</td>\n",
              "      <td>NaN</td>\n",
              "      <td>Citation</td>\n",
              "      <td>False</td>\n",
              "      <td>8.0</td>\n",
              "      <td>False</td>\n",
              "      <td>2007</td>\n",
              "    </tr>\n",
              "    <tr>\n",
              "      <th>23262</th>\n",
              "      <td>2008-01-23</td>\n",
              "      <td>15:00</td>\n",
              "      <td>F</td>\n",
              "      <td>1998.0</td>\n",
              "      <td>10.0</td>\n",
              "      <td>White</td>\n",
              "      <td>Speeding</td>\n",
              "      <td>Speeding</td>\n",
              "      <td>False</td>\n",
              "      <td>NaN</td>\n",
              "      <td>Citation</td>\n",
              "      <td>False</td>\n",
              "      <td>8.0</td>\n",
              "      <td>False</td>\n",
              "      <td>2008</td>\n",
              "    </tr>\n",
              "    <tr>\n",
              "      <th>24045</th>\n",
              "      <td>2008-02-24</td>\n",
              "      <td>22:51</td>\n",
              "      <td>M</td>\n",
              "      <td>2005.0</td>\n",
              "      <td>3.0</td>\n",
              "      <td>Hispanic</td>\n",
              "      <td>Equipment/Inspection Violation</td>\n",
              "      <td>Equipment</td>\n",
              "      <td>False</td>\n",
              "      <td>NaN</td>\n",
              "      <td>Citation</td>\n",
              "      <td>False</td>\n",
              "      <td>23.0</td>\n",
              "      <td>False</td>\n",
              "      <td>2008</td>\n",
              "    </tr>\n",
              "    <tr>\n",
              "      <th>25950</th>\n",
              "      <td>2008-05-20</td>\n",
              "      <td>22:52</td>\n",
              "      <td>M</td>\n",
              "      <td>1997.0</td>\n",
              "      <td>11.0</td>\n",
              "      <td>White</td>\n",
              "      <td>Speeding</td>\n",
              "      <td>Speeding</td>\n",
              "      <td>False</td>\n",
              "      <td>NaN</td>\n",
              "      <td>Citation</td>\n",
              "      <td>False</td>\n",
              "      <td>8.0</td>\n",
              "      <td>False</td>\n",
              "      <td>2008</td>\n",
              "    </tr>\n",
              "    <tr>\n",
              "      <th>26239</th>\n",
              "      <td>2008-05-29</td>\n",
              "      <td>16:50</td>\n",
              "      <td>M</td>\n",
              "      <td>2007.0</td>\n",
              "      <td>1.0</td>\n",
              "      <td>White</td>\n",
              "      <td>Speeding</td>\n",
              "      <td>Speeding</td>\n",
              "      <td>False</td>\n",
              "      <td>NaN</td>\n",
              "      <td>Citation</td>\n",
              "      <td>False</td>\n",
              "      <td>8.0</td>\n",
              "      <td>False</td>\n",
              "      <td>2008</td>\n",
              "    </tr>\n",
              "    <tr>\n",
              "      <th>26437</th>\n",
              "      <td>2008-06-06</td>\n",
              "      <td>08:17</td>\n",
              "      <td>F</td>\n",
              "      <td>2007.0</td>\n",
              "      <td>1.0</td>\n",
              "      <td>White</td>\n",
              "      <td>Speeding</td>\n",
              "      <td>Speeding</td>\n",
              "      <td>False</td>\n",
              "      <td>NaN</td>\n",
              "      <td>Citation</td>\n",
              "      <td>False</td>\n",
              "      <td>8.0</td>\n",
              "      <td>False</td>\n",
              "      <td>2008</td>\n",
              "    </tr>\n",
              "    <tr>\n",
              "      <th>28872</th>\n",
              "      <td>2008-09-11</td>\n",
              "      <td>11:15</td>\n",
              "      <td>M</td>\n",
              "      <td>2008.0</td>\n",
              "      <td>0.0</td>\n",
              "      <td>Black</td>\n",
              "      <td>Speeding</td>\n",
              "      <td>Speeding</td>\n",
              "      <td>False</td>\n",
              "      <td>NaN</td>\n",
              "      <td>Citation</td>\n",
              "      <td>False</td>\n",
              "      <td>8.0</td>\n",
              "      <td>False</td>\n",
              "      <td>2008</td>\n",
              "    </tr>\n",
              "    <tr>\n",
              "      <th>30350</th>\n",
              "      <td>2008-11-12</td>\n",
              "      <td>07:04</td>\n",
              "      <td>M</td>\n",
              "      <td>2008.0</td>\n",
              "      <td>0.0</td>\n",
              "      <td>White</td>\n",
              "      <td>Speeding</td>\n",
              "      <td>Speeding</td>\n",
              "      <td>False</td>\n",
              "      <td>NaN</td>\n",
              "      <td>Citation</td>\n",
              "      <td>False</td>\n",
              "      <td>8.0</td>\n",
              "      <td>False</td>\n",
              "      <td>2008</td>\n",
              "    </tr>\n",
              "    <tr>\n",
              "      <th>31606</th>\n",
              "      <td>2009-01-09</td>\n",
              "      <td>09:02</td>\n",
              "      <td>M</td>\n",
              "      <td>2006.0</td>\n",
              "      <td>3.0</td>\n",
              "      <td>White</td>\n",
              "      <td>Speeding</td>\n",
              "      <td>Speeding</td>\n",
              "      <td>False</td>\n",
              "      <td>NaN</td>\n",
              "      <td>Citation</td>\n",
              "      <td>False</td>\n",
              "      <td>8.0</td>\n",
              "      <td>False</td>\n",
              "      <td>2009</td>\n",
              "    </tr>\n",
              "    <tr>\n",
              "      <th>37738</th>\n",
              "      <td>2009-10-07</td>\n",
              "      <td>21:15</td>\n",
              "      <td>M</td>\n",
              "      <td>2009.0</td>\n",
              "      <td>0.0</td>\n",
              "      <td>Hispanic</td>\n",
              "      <td>Speeding</td>\n",
              "      <td>Speeding</td>\n",
              "      <td>False</td>\n",
              "      <td>NaN</td>\n",
              "      <td>Citation</td>\n",
              "      <td>False</td>\n",
              "      <td>8.0</td>\n",
              "      <td>False</td>\n",
              "      <td>2009</td>\n",
              "    </tr>\n",
              "    <tr>\n",
              "      <th>37818</th>\n",
              "      <td>2009-10-11</td>\n",
              "      <td>10:39</td>\n",
              "      <td>M</td>\n",
              "      <td>2004.0</td>\n",
              "      <td>5.0</td>\n",
              "      <td>White</td>\n",
              "      <td>Speeding</td>\n",
              "      <td>Speeding</td>\n",
              "      <td>False</td>\n",
              "      <td>NaN</td>\n",
              "      <td>Citation</td>\n",
              "      <td>False</td>\n",
              "      <td>8.0</td>\n",
              "      <td>False</td>\n",
              "      <td>2009</td>\n",
              "    </tr>\n",
              "    <tr>\n",
              "      <th>39125</th>\n",
              "      <td>2009-12-18</td>\n",
              "      <td>01:48</td>\n",
              "      <td>M</td>\n",
              "      <td>2000.0</td>\n",
              "      <td>9.0</td>\n",
              "      <td>White</td>\n",
              "      <td>Speeding</td>\n",
              "      <td>Speeding</td>\n",
              "      <td>False</td>\n",
              "      <td>NaN</td>\n",
              "      <td>Warning</td>\n",
              "      <td>False</td>\n",
              "      <td>8.0</td>\n",
              "      <td>False</td>\n",
              "      <td>2009</td>\n",
              "    </tr>\n",
              "    <tr>\n",
              "      <th>53160</th>\n",
              "      <td>2011-10-13</td>\n",
              "      <td>17:00</td>\n",
              "      <td>M</td>\n",
              "      <td>1997.0</td>\n",
              "      <td>14.0</td>\n",
              "      <td>Hispanic</td>\n",
              "      <td>Other Traffic Violation</td>\n",
              "      <td>Moving violation</td>\n",
              "      <td>False</td>\n",
              "      <td>NaN</td>\n",
              "      <td>Arrest Driver</td>\n",
              "      <td>True</td>\n",
              "      <td>31.0</td>\n",
              "      <td>False</td>\n",
              "      <td>2011</td>\n",
              "    </tr>\n",
              "    <tr>\n",
              "      <th>56377</th>\n",
              "      <td>2012-02-05</td>\n",
              "      <td>13:54</td>\n",
              "      <td>M</td>\n",
              "      <td>2011.0</td>\n",
              "      <td>1.0</td>\n",
              "      <td>White</td>\n",
              "      <td>Special Detail/Directed Patrol</td>\n",
              "      <td>Other</td>\n",
              "      <td>False</td>\n",
              "      <td>NaN</td>\n",
              "      <td>Citation</td>\n",
              "      <td>False</td>\n",
              "      <td>8.0</td>\n",
              "      <td>False</td>\n",
              "      <td>2012</td>\n",
              "    </tr>\n",
              "    <tr>\n",
              "      <th>58284</th>\n",
              "      <td>2012-03-26</td>\n",
              "      <td>12:50</td>\n",
              "      <td>M</td>\n",
              "      <td>2009.0</td>\n",
              "      <td>3.0</td>\n",
              "      <td>White</td>\n",
              "      <td>Motorist Assist/Courtesy</td>\n",
              "      <td>Other</td>\n",
              "      <td>False</td>\n",
              "      <td>NaN</td>\n",
              "      <td>No Action</td>\n",
              "      <td>False</td>\n",
              "      <td>8.0</td>\n",
              "      <td>False</td>\n",
              "      <td>2012</td>\n",
              "    </tr>\n",
              "    <tr>\n",
              "      <th>66876</th>\n",
              "      <td>2013-02-04</td>\n",
              "      <td>08:31</td>\n",
              "      <td>M</td>\n",
              "      <td>2013.0</td>\n",
              "      <td>0.0</td>\n",
              "      <td>White</td>\n",
              "      <td>Registration Violation</td>\n",
              "      <td>Registration/plates</td>\n",
              "      <td>True</td>\n",
              "      <td>Probable Cause</td>\n",
              "      <td>Citation</td>\n",
              "      <td>False</td>\n",
              "      <td>31.0</td>\n",
              "      <td>True</td>\n",
              "      <td>2013</td>\n",
              "    </tr>\n",
              "  </tbody>\n",
              "</table>\n",
              "</div>"
            ],
            "text/plain": [
              "       stop_date stop_time  ... drugs_related_stop  year\n",
              "414   2005-10-17     08:32  ...              False  2005\n",
              "3758  2006-02-06     13:20  ...              False  2006\n",
              "5200  2006-03-29     19:37  ...              False  2006\n",
              "6016  2006-04-26     09:15  ...              False  2006\n",
              "7397  2006-06-12     23:55  ...              False  2006\n",
              "8373  2006-07-17     08:20  ...              False  2006\n",
              "8656  2006-07-27     19:08  ...              False  2006\n",
              "9059  2006-08-09     09:10  ...              False  2006\n",
              "9359  2006-08-22     06:30  ...              False  2006\n",
              "10023 2006-09-12     17:40  ...              False  2006\n",
              "10357 2006-09-24     17:30  ...              False  2006\n",
              "10827 2006-10-11     10:55  ...              False  2006\n",
              "12972 2006-12-21     19:30  ...              False  2006\n",
              "14890 2007-02-21     20:55  ...              False  2007\n",
              "16064 2007-04-10     20:40  ...              False  2007\n",
              "16482 2007-04-27     23:41  ...              False  2007\n",
              "18143 2007-06-24     08:42  ...              False  2007\n",
              "18149 2007-06-24     09:37  ...              False  2007\n",
              "20099 2007-09-12     06:49  ...              False  2007\n",
              "22157 2007-12-06     16:30  ...              False  2007\n",
              "23262 2008-01-23     15:00  ...              False  2008\n",
              "24045 2008-02-24     22:51  ...              False  2008\n",
              "25950 2008-05-20     22:52  ...              False  2008\n",
              "26239 2008-05-29     16:50  ...              False  2008\n",
              "26437 2008-06-06     08:17  ...              False  2008\n",
              "28872 2008-09-11     11:15  ...              False  2008\n",
              "30350 2008-11-12     07:04  ...              False  2008\n",
              "31606 2009-01-09     09:02  ...              False  2009\n",
              "37738 2009-10-07     21:15  ...              False  2009\n",
              "37818 2009-10-11     10:39  ...              False  2009\n",
              "39125 2009-12-18     01:48  ...              False  2009\n",
              "53160 2011-10-13     17:00  ...              False  2011\n",
              "56377 2012-02-05     13:54  ...              False  2012\n",
              "58284 2012-03-26     12:50  ...              False  2012\n",
              "66876 2013-02-04     08:31  ...               True  2013\n",
              "\n",
              "[35 rows x 15 columns]"
            ]
          },
          "metadata": {},
          "execution_count": 56
        }
      ]
    },
    {
      "cell_type": "code",
      "metadata": {
        "id": "Zc3rDRoYOwhz"
      },
      "source": [
        "ri[mask] = driver_age_fix_df"
      ],
      "execution_count": null,
      "outputs": []
    },
    {
      "cell_type": "code",
      "metadata": {
        "colab": {
          "base_uri": "https://localhost:8080/"
        },
        "id": "tz2iUeDbxyxW",
        "outputId": "9a24f9c5-fc17-4e71-9c2d-7725822a5fe3"
      },
      "source": [
        "ri.driver_age_raw.isnull().sum()"
      ],
      "execution_count": null,
      "outputs": [
        {
          "output_type": "execute_result",
          "data": {
            "text/plain": [
              "5327"
            ]
          },
          "metadata": {},
          "execution_count": 58
        }
      ]
    },
    {
      "cell_type": "code",
      "metadata": {
        "colab": {
          "base_uri": "https://localhost:8080/"
        },
        "id": "Z2LMsRS9xy9O",
        "outputId": "5bb757c3-10ec-48fd-f83d-df18fa8b4cfc"
      },
      "source": [
        "ri[\"driver_age\"].unique()"
      ],
      "execution_count": null,
      "outputs": [
        {
          "output_type": "execute_result",
          "data": {
            "text/plain": [
              "array([ 20.,  40.,  33.,  19.,  21.,  23.,  36.,  35.,  26.,  39.,  50.,\n",
              "        47.,  52.,  38.,  nan,  41.,  28.,  46.,  32.,  58.,  27.,  43.,\n",
              "        24.,  17.,  22.,  44.,  48.,  34.,  55.,  51.,  45.,  29.,  31.,\n",
              "        37.,  67.,  25.,  42.,  30.,  18.,  57.,  49.,  61.,  70.,  53.,\n",
              "        60.,  59.,  64.,  63.,  54.,  56.,   0.,  66.,  62.,  69.,  81.,\n",
              "        68.,  76.,  75.,  74.,  82.,  65.,  72.,  16.,  77.,  73.,  71.,\n",
              "        80.,  79.,   9., 119.,  78.,  88.,   2.,  15.,   4.,  83.,   6.,\n",
              "         1.,  10.,  86.,   3.,  11.,  84.,   5.,  14.,  85.,  87.,  99.,\n",
              "        89.,  94.,  90.])"
            ]
          },
          "metadata": {},
          "execution_count": 59
        }
      ]
    },
    {
      "cell_type": "code",
      "metadata": {
        "colab": {
          "base_uri": "https://localhost:8080/"
        },
        "id": "ITQFVEFExzGO",
        "outputId": "d00c627e-a353-483b-c777-6d4e5eac4fa6"
      },
      "source": [
        "ri[[ \"violation\", \"driver_age\"]].groupby(\"violation\").driver_age.value_counts()"
      ],
      "execution_count": null,
      "outputs": [
        {
          "output_type": "execute_result",
          "data": {
            "text/plain": [
              "violation  driver_age\n",
              "Equipment  23.0          664\n",
              "           21.0          623\n",
              "           22.0          601\n",
              "           24.0          572\n",
              "           20.0          540\n",
              "                        ... \n",
              "Speeding   10.0            1\n",
              "           11.0            1\n",
              "           15.0            1\n",
              "           90.0            1\n",
              "           119.0           1\n",
              "Name: driver_age, Length: 421, dtype: int64"
            ]
          },
          "metadata": {},
          "execution_count": 60
        }
      ]
    },
    {
      "cell_type": "code",
      "metadata": {
        "id": "GxCr5s68RGDF"
      },
      "source": [
        "import matplotlib.pyplot as plt"
      ],
      "execution_count": null,
      "outputs": []
    },
    {
      "cell_type": "code",
      "metadata": {
        "colab": {
          "base_uri": "https://localhost:8080/",
          "height": 316
        },
        "id": "9yJKhMtNRTnv",
        "outputId": "16add95f-dbce-40cd-dfa9-1341e7f23e55"
      },
      "source": [
        "ri[[ \"violation\", \"driver_age\"]].groupby(\"violation\").driver_age.value_counts()[\"Speeding\"].plot.bar()"
      ],
      "execution_count": null,
      "outputs": [
        {
          "output_type": "execute_result",
          "data": {
            "text/plain": [
              "<matplotlib.axes._subplots.AxesSubplot at 0x7f5ca75d9c10>"
            ]
          },
          "metadata": {},
          "execution_count": 62
        },
        {
          "output_type": "display_data",
          "data": {
            "image/png": "[encoded data removed]",
            "text/plain": [
              "<Figure size 432x288 with 1 Axes>"
            ]
          },
          "metadata": {
            "needs_background": "light"
          }
        }
      ]
    },
    {
      "cell_type": "code",
      "metadata": {
        "id": "wBfr8QkexzQt"
      },
      "source": [
        "# ri.groupby(\"violation\").driver_age.unique().loc[]"
      ],
      "execution_count": null,
      "outputs": []
    },
    {
      "cell_type": "code",
      "metadata": {
        "colab": {
          "base_uri": "https://localhost:8080/",
          "height": 289
        },
        "id": "WLsEr9Ah3JOI",
        "outputId": "f342c653-4c1b-4470-e0ab-9fcf60996116"
      },
      "source": [
        "ri.groupby('violation').driver_age.value_counts().unstack()"
      ],
      "execution_count": null,
      "outputs": [
        {
          "output_type": "execute_result",
          "data": {
            "text/html": [
              "<div>\n",
              "<style scoped>\n",
              "    .dataframe tbody tr th:only-of-type {\n",
              "        vertical-align: middle;\n",
              "    }\n",
              "\n",
              "    .dataframe tbody tr th {\n",
              "        vertical-align: top;\n",
              "    }\n",
              "\n",
              "    .dataframe thead th {\n",
              "        text-align: right;\n",
              "    }\n",
              "</style>\n",
              "<table border=\"1\" class=\"dataframe\">\n",
              "  <thead>\n",
              "    <tr style=\"text-align: right;\">\n",
              "      <th>driver_age</th>\n",
              "      <th>15.0</th>\n",
              "      <th>16.0</th>\n",
              "      <th>17.0</th>\n",
              "      <th>18.0</th>\n",
              "      <th>19.0</th>\n",
              "      <th>20.0</th>\n",
              "      <th>21.0</th>\n",
              "      <th>22.0</th>\n",
              "      <th>23.0</th>\n",
              "      <th>24.0</th>\n",
              "      <th>25.0</th>\n",
              "      <th>26.0</th>\n",
              "      <th>27.0</th>\n",
              "      <th>28.0</th>\n",
              "      <th>29.0</th>\n",
              "      <th>30.0</th>\n",
              "      <th>31.0</th>\n",
              "      <th>32.0</th>\n",
              "      <th>33.0</th>\n",
              "      <th>34.0</th>\n",
              "      <th>35.0</th>\n",
              "      <th>36.0</th>\n",
              "      <th>37.0</th>\n",
              "      <th>38.0</th>\n",
              "      <th>39.0</th>\n",
              "      <th>40.0</th>\n",
              "      <th>41.0</th>\n",
              "      <th>42.0</th>\n",
              "      <th>43.0</th>\n",
              "      <th>44.0</th>\n",
              "      <th>45.0</th>\n",
              "      <th>46.0</th>\n",
              "      <th>47.0</th>\n",
              "      <th>48.0</th>\n",
              "      <th>49.0</th>\n",
              "      <th>50.0</th>\n",
              "      <th>51.0</th>\n",
              "      <th>52.0</th>\n",
              "      <th>53.0</th>\n",
              "      <th>54.0</th>\n",
              "      <th>55.0</th>\n",
              "      <th>56.0</th>\n",
              "      <th>57.0</th>\n",
              "      <th>58.0</th>\n",
              "      <th>59.0</th>\n",
              "      <th>60.0</th>\n",
              "      <th>61.0</th>\n",
              "      <th>62.0</th>\n",
              "      <th>63.0</th>\n",
              "      <th>64.0</th>\n",
              "      <th>65.0</th>\n",
              "      <th>66.0</th>\n",
              "      <th>67.0</th>\n",
              "      <th>68.0</th>\n",
              "      <th>69.0</th>\n",
              "      <th>70.0</th>\n",
              "      <th>71.0</th>\n",
              "      <th>72.0</th>\n",
              "      <th>73.0</th>\n",
              "      <th>74.0</th>\n",
              "      <th>75.0</th>\n",
              "      <th>76.0</th>\n",
              "      <th>77.0</th>\n",
              "      <th>78.0</th>\n",
              "      <th>79.0</th>\n",
              "      <th>80.0</th>\n",
              "      <th>81.0</th>\n",
              "      <th>82.0</th>\n",
              "      <th>83.0</th>\n",
              "      <th>84.0</th>\n",
              "      <th>85.0</th>\n",
              "      <th>86.0</th>\n",
              "      <th>87.0</th>\n",
              "      <th>88.0</th>\n",
              "      <th>89.0</th>\n",
              "      <th>90.0</th>\n",
              "      <th>94.0</th>\n",
              "      <th>99.0</th>\n",
              "    </tr>\n",
              "    <tr>\n",
              "      <th>violation</th>\n",
              "      <th></th>\n",
              "      <th></th>\n",
              "      <th></th>\n",
              "      <th></th>\n",
              "      <th></th>\n",
              "      <th></th>\n",
              "      <th></th>\n",
              "      <th></th>\n",
              "      <th></th>\n",
              "      <th></th>\n",
              "      <th></th>\n",
              "      <th></th>\n",
              "      <th></th>\n",
              "      <th></th>\n",
              "      <th></th>\n",
              "      <th></th>\n",
              "      <th></th>\n",
              "      <th></th>\n",
              "      <th></th>\n",
              "      <th></th>\n",
              "      <th></th>\n",
              "      <th></th>\n",
              "      <th></th>\n",
              "      <th></th>\n",
              "      <th></th>\n",
              "      <th></th>\n",
              "      <th></th>\n",
              "      <th></th>\n",
              "      <th></th>\n",
              "      <th></th>\n",
              "      <th></th>\n",
              "      <th></th>\n",
              "      <th></th>\n",
              "      <th></th>\n",
              "      <th></th>\n",
              "      <th></th>\n",
              "      <th></th>\n",
              "      <th></th>\n",
              "      <th></th>\n",
              "      <th></th>\n",
              "      <th></th>\n",
              "      <th></th>\n",
              "      <th></th>\n",
              "      <th></th>\n",
              "      <th></th>\n",
              "      <th></th>\n",
              "      <th></th>\n",
              "      <th></th>\n",
              "      <th></th>\n",
              "      <th></th>\n",
              "      <th></th>\n",
              "      <th></th>\n",
              "      <th></th>\n",
              "      <th></th>\n",
              "      <th></th>\n",
              "      <th></th>\n",
              "      <th></th>\n",
              "      <th></th>\n",
              "      <th></th>\n",
              "      <th></th>\n",
              "      <th></th>\n",
              "      <th></th>\n",
              "      <th></th>\n",
              "      <th></th>\n",
              "      <th></th>\n",
              "      <th></th>\n",
              "      <th></th>\n",
              "      <th></th>\n",
              "      <th></th>\n",
              "      <th></th>\n",
              "      <th></th>\n",
              "      <th></th>\n",
              "      <th></th>\n",
              "      <th></th>\n",
              "      <th></th>\n",
              "      <th></th>\n",
              "      <th></th>\n",
              "      <th></th>\n",
              "    </tr>\n",
              "  </thead>\n",
              "  <tbody>\n",
              "    <tr>\n",
              "      <th>Equipment</th>\n",
              "      <td>NaN</td>\n",
              "      <td>5.0</td>\n",
              "      <td>56.0</td>\n",
              "      <td>200.0</td>\n",
              "      <td>457.0</td>\n",
              "      <td>540.0</td>\n",
              "      <td>623.0</td>\n",
              "      <td>601.0</td>\n",
              "      <td>664.0</td>\n",
              "      <td>572.0</td>\n",
              "      <td>537.0</td>\n",
              "      <td>529.0</td>\n",
              "      <td>446.0</td>\n",
              "      <td>364.0</td>\n",
              "      <td>353.0</td>\n",
              "      <td>325.0</td>\n",
              "      <td>329.0</td>\n",
              "      <td>306.0</td>\n",
              "      <td>280.0</td>\n",
              "      <td>239.0</td>\n",
              "      <td>256.0</td>\n",
              "      <td>191.0</td>\n",
              "      <td>202.0</td>\n",
              "      <td>194.0</td>\n",
              "      <td>165.0</td>\n",
              "      <td>181.0</td>\n",
              "      <td>169.0</td>\n",
              "      <td>181.0</td>\n",
              "      <td>180.0</td>\n",
              "      <td>142.0</td>\n",
              "      <td>141.0</td>\n",
              "      <td>146.0</td>\n",
              "      <td>129.0</td>\n",
              "      <td>126.0</td>\n",
              "      <td>116.0</td>\n",
              "      <td>114.0</td>\n",
              "      <td>114.0</td>\n",
              "      <td>102.0</td>\n",
              "      <td>93.0</td>\n",
              "      <td>83.0</td>\n",
              "      <td>50.0</td>\n",
              "      <td>76.0</td>\n",
              "      <td>71.0</td>\n",
              "      <td>42.0</td>\n",
              "      <td>61.0</td>\n",
              "      <td>50.0</td>\n",
              "      <td>38.0</td>\n",
              "      <td>29.0</td>\n",
              "      <td>22.0</td>\n",
              "      <td>13.0</td>\n",
              "      <td>14.0</td>\n",
              "      <td>23.0</td>\n",
              "      <td>13.0</td>\n",
              "      <td>6.0</td>\n",
              "      <td>7.0</td>\n",
              "      <td>8.0</td>\n",
              "      <td>1.0</td>\n",
              "      <td>6.0</td>\n",
              "      <td>4.0</td>\n",
              "      <td>2.0</td>\n",
              "      <td>5.0</td>\n",
              "      <td>4.0</td>\n",
              "      <td>2.0</td>\n",
              "      <td>2.0</td>\n",
              "      <td>1.0</td>\n",
              "      <td>2.0</td>\n",
              "      <td>1.0</td>\n",
              "      <td>NaN</td>\n",
              "      <td>1.0</td>\n",
              "      <td>NaN</td>\n",
              "      <td>1.0</td>\n",
              "      <td>NaN</td>\n",
              "      <td>NaN</td>\n",
              "      <td>NaN</td>\n",
              "      <td>1.0</td>\n",
              "      <td>NaN</td>\n",
              "      <td>NaN</td>\n",
              "      <td>NaN</td>\n",
              "    </tr>\n",
              "    <tr>\n",
              "      <th>Moving violation</th>\n",
              "      <td>4.0</td>\n",
              "      <td>7.0</td>\n",
              "      <td>77.0</td>\n",
              "      <td>231.0</td>\n",
              "      <td>447.0</td>\n",
              "      <td>554.0</td>\n",
              "      <td>634.0</td>\n",
              "      <td>630.0</td>\n",
              "      <td>666.0</td>\n",
              "      <td>597.0</td>\n",
              "      <td>583.0</td>\n",
              "      <td>534.0</td>\n",
              "      <td>538.0</td>\n",
              "      <td>477.0</td>\n",
              "      <td>471.0</td>\n",
              "      <td>461.0</td>\n",
              "      <td>384.0</td>\n",
              "      <td>412.0</td>\n",
              "      <td>379.0</td>\n",
              "      <td>371.0</td>\n",
              "      <td>339.0</td>\n",
              "      <td>324.0</td>\n",
              "      <td>310.0</td>\n",
              "      <td>327.0</td>\n",
              "      <td>353.0</td>\n",
              "      <td>323.0</td>\n",
              "      <td>328.0</td>\n",
              "      <td>332.0</td>\n",
              "      <td>333.0</td>\n",
              "      <td>325.0</td>\n",
              "      <td>305.0</td>\n",
              "      <td>317.0</td>\n",
              "      <td>282.0</td>\n",
              "      <td>299.0</td>\n",
              "      <td>275.0</td>\n",
              "      <td>284.0</td>\n",
              "      <td>258.0</td>\n",
              "      <td>240.0</td>\n",
              "      <td>226.0</td>\n",
              "      <td>223.0</td>\n",
              "      <td>199.0</td>\n",
              "      <td>170.0</td>\n",
              "      <td>157.0</td>\n",
              "      <td>167.0</td>\n",
              "      <td>149.0</td>\n",
              "      <td>114.0</td>\n",
              "      <td>112.0</td>\n",
              "      <td>89.0</td>\n",
              "      <td>80.0</td>\n",
              "      <td>65.0</td>\n",
              "      <td>72.0</td>\n",
              "      <td>63.0</td>\n",
              "      <td>37.0</td>\n",
              "      <td>38.0</td>\n",
              "      <td>23.0</td>\n",
              "      <td>29.0</td>\n",
              "      <td>19.0</td>\n",
              "      <td>20.0</td>\n",
              "      <td>14.0</td>\n",
              "      <td>15.0</td>\n",
              "      <td>12.0</td>\n",
              "      <td>18.0</td>\n",
              "      <td>6.0</td>\n",
              "      <td>8.0</td>\n",
              "      <td>5.0</td>\n",
              "      <td>5.0</td>\n",
              "      <td>4.0</td>\n",
              "      <td>1.0</td>\n",
              "      <td>1.0</td>\n",
              "      <td>3.0</td>\n",
              "      <td>3.0</td>\n",
              "      <td>2.0</td>\n",
              "      <td>2.0</td>\n",
              "      <td>NaN</td>\n",
              "      <td>NaN</td>\n",
              "      <td>NaN</td>\n",
              "      <td>1.0</td>\n",
              "      <td>1.0</td>\n",
              "    </tr>\n",
              "    <tr>\n",
              "      <th>Other</th>\n",
              "      <td>NaN</td>\n",
              "      <td>2.0</td>\n",
              "      <td>10.0</td>\n",
              "      <td>34.0</td>\n",
              "      <td>78.0</td>\n",
              "      <td>94.0</td>\n",
              "      <td>97.0</td>\n",
              "      <td>117.0</td>\n",
              "      <td>90.0</td>\n",
              "      <td>112.0</td>\n",
              "      <td>123.0</td>\n",
              "      <td>123.0</td>\n",
              "      <td>113.0</td>\n",
              "      <td>92.0</td>\n",
              "      <td>88.0</td>\n",
              "      <td>99.0</td>\n",
              "      <td>82.0</td>\n",
              "      <td>100.0</td>\n",
              "      <td>87.0</td>\n",
              "      <td>101.0</td>\n",
              "      <td>107.0</td>\n",
              "      <td>98.0</td>\n",
              "      <td>85.0</td>\n",
              "      <td>83.0</td>\n",
              "      <td>100.0</td>\n",
              "      <td>112.0</td>\n",
              "      <td>97.0</td>\n",
              "      <td>103.0</td>\n",
              "      <td>100.0</td>\n",
              "      <td>111.0</td>\n",
              "      <td>116.0</td>\n",
              "      <td>107.0</td>\n",
              "      <td>85.0</td>\n",
              "      <td>130.0</td>\n",
              "      <td>104.0</td>\n",
              "      <td>106.0</td>\n",
              "      <td>84.0</td>\n",
              "      <td>95.0</td>\n",
              "      <td>79.0</td>\n",
              "      <td>76.0</td>\n",
              "      <td>67.0</td>\n",
              "      <td>62.0</td>\n",
              "      <td>66.0</td>\n",
              "      <td>48.0</td>\n",
              "      <td>57.0</td>\n",
              "      <td>39.0</td>\n",
              "      <td>44.0</td>\n",
              "      <td>28.0</td>\n",
              "      <td>36.0</td>\n",
              "      <td>23.0</td>\n",
              "      <td>23.0</td>\n",
              "      <td>19.0</td>\n",
              "      <td>13.0</td>\n",
              "      <td>13.0</td>\n",
              "      <td>3.0</td>\n",
              "      <td>7.0</td>\n",
              "      <td>7.0</td>\n",
              "      <td>7.0</td>\n",
              "      <td>3.0</td>\n",
              "      <td>4.0</td>\n",
              "      <td>2.0</td>\n",
              "      <td>4.0</td>\n",
              "      <td>2.0</td>\n",
              "      <td>2.0</td>\n",
              "      <td>NaN</td>\n",
              "      <td>NaN</td>\n",
              "      <td>NaN</td>\n",
              "      <td>1.0</td>\n",
              "      <td>1.0</td>\n",
              "      <td>NaN</td>\n",
              "      <td>NaN</td>\n",
              "      <td>1.0</td>\n",
              "      <td>2.0</td>\n",
              "      <td>NaN</td>\n",
              "      <td>NaN</td>\n",
              "      <td>NaN</td>\n",
              "      <td>NaN</td>\n",
              "      <td>NaN</td>\n",
              "    </tr>\n",
              "    <tr>\n",
              "      <th>Registration/plates</th>\n",
              "      <td>NaN</td>\n",
              "      <td>5.0</td>\n",
              "      <td>10.0</td>\n",
              "      <td>48.0</td>\n",
              "      <td>93.0</td>\n",
              "      <td>147.0</td>\n",
              "      <td>144.0</td>\n",
              "      <td>182.0</td>\n",
              "      <td>167.0</td>\n",
              "      <td>164.0</td>\n",
              "      <td>161.0</td>\n",
              "      <td>165.0</td>\n",
              "      <td>150.0</td>\n",
              "      <td>128.0</td>\n",
              "      <td>111.0</td>\n",
              "      <td>96.0</td>\n",
              "      <td>86.0</td>\n",
              "      <td>113.0</td>\n",
              "      <td>75.0</td>\n",
              "      <td>87.0</td>\n",
              "      <td>94.0</td>\n",
              "      <td>76.0</td>\n",
              "      <td>86.0</td>\n",
              "      <td>69.0</td>\n",
              "      <td>70.0</td>\n",
              "      <td>76.0</td>\n",
              "      <td>59.0</td>\n",
              "      <td>60.0</td>\n",
              "      <td>60.0</td>\n",
              "      <td>53.0</td>\n",
              "      <td>67.0</td>\n",
              "      <td>55.0</td>\n",
              "      <td>47.0</td>\n",
              "      <td>35.0</td>\n",
              "      <td>43.0</td>\n",
              "      <td>47.0</td>\n",
              "      <td>49.0</td>\n",
              "      <td>38.0</td>\n",
              "      <td>26.0</td>\n",
              "      <td>30.0</td>\n",
              "      <td>23.0</td>\n",
              "      <td>22.0</td>\n",
              "      <td>14.0</td>\n",
              "      <td>19.0</td>\n",
              "      <td>20.0</td>\n",
              "      <td>15.0</td>\n",
              "      <td>6.0</td>\n",
              "      <td>7.0</td>\n",
              "      <td>9.0</td>\n",
              "      <td>2.0</td>\n",
              "      <td>3.0</td>\n",
              "      <td>4.0</td>\n",
              "      <td>NaN</td>\n",
              "      <td>1.0</td>\n",
              "      <td>3.0</td>\n",
              "      <td>1.0</td>\n",
              "      <td>NaN</td>\n",
              "      <td>3.0</td>\n",
              "      <td>2.0</td>\n",
              "      <td>1.0</td>\n",
              "      <td>NaN</td>\n",
              "      <td>NaN</td>\n",
              "      <td>NaN</td>\n",
              "      <td>NaN</td>\n",
              "      <td>NaN</td>\n",
              "      <td>NaN</td>\n",
              "      <td>NaN</td>\n",
              "      <td>NaN</td>\n",
              "      <td>NaN</td>\n",
              "      <td>NaN</td>\n",
              "      <td>NaN</td>\n",
              "      <td>NaN</td>\n",
              "      <td>NaN</td>\n",
              "      <td>NaN</td>\n",
              "      <td>NaN</td>\n",
              "      <td>NaN</td>\n",
              "      <td>NaN</td>\n",
              "      <td>NaN</td>\n",
              "    </tr>\n",
              "    <tr>\n",
              "      <th>Seat belt</th>\n",
              "      <td>NaN</td>\n",
              "      <td>NaN</td>\n",
              "      <td>8.0</td>\n",
              "      <td>39.0</td>\n",
              "      <td>79.0</td>\n",
              "      <td>105.0</td>\n",
              "      <td>152.0</td>\n",
              "      <td>142.0</td>\n",
              "      <td>157.0</td>\n",
              "      <td>169.0</td>\n",
              "      <td>167.0</td>\n",
              "      <td>161.0</td>\n",
              "      <td>151.0</td>\n",
              "      <td>132.0</td>\n",
              "      <td>98.0</td>\n",
              "      <td>109.0</td>\n",
              "      <td>94.0</td>\n",
              "      <td>102.0</td>\n",
              "      <td>74.0</td>\n",
              "      <td>72.0</td>\n",
              "      <td>65.0</td>\n",
              "      <td>64.0</td>\n",
              "      <td>48.0</td>\n",
              "      <td>42.0</td>\n",
              "      <td>40.0</td>\n",
              "      <td>38.0</td>\n",
              "      <td>43.0</td>\n",
              "      <td>48.0</td>\n",
              "      <td>41.0</td>\n",
              "      <td>36.0</td>\n",
              "      <td>40.0</td>\n",
              "      <td>43.0</td>\n",
              "      <td>29.0</td>\n",
              "      <td>27.0</td>\n",
              "      <td>42.0</td>\n",
              "      <td>29.0</td>\n",
              "      <td>27.0</td>\n",
              "      <td>19.0</td>\n",
              "      <td>30.0</td>\n",
              "      <td>36.0</td>\n",
              "      <td>15.0</td>\n",
              "      <td>20.0</td>\n",
              "      <td>14.0</td>\n",
              "      <td>18.0</td>\n",
              "      <td>18.0</td>\n",
              "      <td>12.0</td>\n",
              "      <td>8.0</td>\n",
              "      <td>4.0</td>\n",
              "      <td>9.0</td>\n",
              "      <td>6.0</td>\n",
              "      <td>6.0</td>\n",
              "      <td>2.0</td>\n",
              "      <td>4.0</td>\n",
              "      <td>1.0</td>\n",
              "      <td>1.0</td>\n",
              "      <td>4.0</td>\n",
              "      <td>5.0</td>\n",
              "      <td>2.0</td>\n",
              "      <td>1.0</td>\n",
              "      <td>2.0</td>\n",
              "      <td>NaN</td>\n",
              "      <td>1.0</td>\n",
              "      <td>1.0</td>\n",
              "      <td>NaN</td>\n",
              "      <td>NaN</td>\n",
              "      <td>NaN</td>\n",
              "      <td>NaN</td>\n",
              "      <td>NaN</td>\n",
              "      <td>NaN</td>\n",
              "      <td>NaN</td>\n",
              "      <td>NaN</td>\n",
              "      <td>NaN</td>\n",
              "      <td>NaN</td>\n",
              "      <td>NaN</td>\n",
              "      <td>NaN</td>\n",
              "      <td>NaN</td>\n",
              "      <td>NaN</td>\n",
              "      <td>NaN</td>\n",
              "    </tr>\n",
              "    <tr>\n",
              "      <th>Speeding</th>\n",
              "      <td>1.0</td>\n",
              "      <td>26.0</td>\n",
              "      <td>424.0</td>\n",
              "      <td>1181.0</td>\n",
              "      <td>2074.0</td>\n",
              "      <td>2354.0</td>\n",
              "      <td>2412.0</td>\n",
              "      <td>2453.0</td>\n",
              "      <td>2242.0</td>\n",
              "      <td>2168.0</td>\n",
              "      <td>1966.0</td>\n",
              "      <td>1823.0</td>\n",
              "      <td>1650.0</td>\n",
              "      <td>1587.0</td>\n",
              "      <td>1420.0</td>\n",
              "      <td>1346.0</td>\n",
              "      <td>1225.0</td>\n",
              "      <td>1153.0</td>\n",
              "      <td>1061.0</td>\n",
              "      <td>956.0</td>\n",
              "      <td>1007.0</td>\n",
              "      <td>956.0</td>\n",
              "      <td>899.0</td>\n",
              "      <td>886.0</td>\n",
              "      <td>830.0</td>\n",
              "      <td>852.0</td>\n",
              "      <td>800.0</td>\n",
              "      <td>804.0</td>\n",
              "      <td>857.0</td>\n",
              "      <td>778.0</td>\n",
              "      <td>709.0</td>\n",
              "      <td>689.0</td>\n",
              "      <td>729.0</td>\n",
              "      <td>699.0</td>\n",
              "      <td>568.0</td>\n",
              "      <td>642.0</td>\n",
              "      <td>581.0</td>\n",
              "      <td>567.0</td>\n",
              "      <td>533.0</td>\n",
              "      <td>518.0</td>\n",
              "      <td>461.0</td>\n",
              "      <td>381.0</td>\n",
              "      <td>393.0</td>\n",
              "      <td>352.0</td>\n",
              "      <td>301.0</td>\n",
              "      <td>287.0</td>\n",
              "      <td>255.0</td>\n",
              "      <td>212.0</td>\n",
              "      <td>193.0</td>\n",
              "      <td>189.0</td>\n",
              "      <td>140.0</td>\n",
              "      <td>116.0</td>\n",
              "      <td>107.0</td>\n",
              "      <td>89.0</td>\n",
              "      <td>83.0</td>\n",
              "      <td>66.0</td>\n",
              "      <td>62.0</td>\n",
              "      <td>38.0</td>\n",
              "      <td>42.0</td>\n",
              "      <td>27.0</td>\n",
              "      <td>25.0</td>\n",
              "      <td>15.0</td>\n",
              "      <td>23.0</td>\n",
              "      <td>10.0</td>\n",
              "      <td>18.0</td>\n",
              "      <td>11.0</td>\n",
              "      <td>8.0</td>\n",
              "      <td>10.0</td>\n",
              "      <td>4.0</td>\n",
              "      <td>6.0</td>\n",
              "      <td>2.0</td>\n",
              "      <td>4.0</td>\n",
              "      <td>2.0</td>\n",
              "      <td>2.0</td>\n",
              "      <td>NaN</td>\n",
              "      <td>1.0</td>\n",
              "      <td>NaN</td>\n",
              "      <td>NaN</td>\n",
              "    </tr>\n",
              "  </tbody>\n",
              "</table>\n",
              "</div>"
            ],
            "text/plain": [
              "driver_age           15.0  16.0   17.0    18.0  ...  89.0  90.0  94.0  99.0\n",
              "violation                                       ...                        \n",
              "Equipment             NaN   5.0   56.0   200.0  ...   1.0   NaN   NaN   NaN\n",
              "Moving violation      4.0   7.0   77.0   231.0  ...   NaN   NaN   1.0   1.0\n",
              "Other                 NaN   2.0   10.0    34.0  ...   NaN   NaN   NaN   NaN\n",
              "Registration/plates   NaN   5.0   10.0    48.0  ...   NaN   NaN   NaN   NaN\n",
              "Seat belt             NaN   NaN    8.0    39.0  ...   NaN   NaN   NaN   NaN\n",
              "Speeding              1.0  26.0  424.0  1181.0  ...   NaN   1.0   NaN   NaN\n",
              "\n",
              "[6 rows x 78 columns]"
            ]
          },
          "metadata": {},
          "execution_count": 90
        }
      ]
    },
    {
      "cell_type": "code",
      "metadata": {
        "id": "oB4lA5tD1REj"
      },
      "source": [
        "graph_data = ri.groupby('violation').driver_age.value_counts().unstack()"
      ],
      "execution_count": null,
      "outputs": []
    },
    {
      "cell_type": "code",
      "metadata": {
        "colab": {
          "base_uri": "https://localhost:8080/",
          "height": 297
        },
        "id": "YSEU7a5M1RfR",
        "outputId": "55dbbb20-9af4-44b8-f8cf-4cf43dce111f"
      },
      "source": [
        "import seaborn as sns\n",
        "p = sns.barplot(x='driver_age', y='violation', data=ri)\n",
        "p"
      ],
      "execution_count": null,
      "outputs": [
        {
          "output_type": "execute_result",
          "data": {
            "text/plain": [
              "<matplotlib.axes._subplots.AxesSubplot at 0x7f5c9955f310>"
            ]
          },
          "metadata": {},
          "execution_count": 65
        },
        {
          "output_type": "display_data",
          "data": {
            "image/png": "[encoded data removed]",
            "text/plain": [
              "<Figure size 432x288 with 1 Axes>"
            ]
          },
          "metadata": {
            "needs_background": "light"
          }
        }
      ]
    },
    {
      "cell_type": "markdown",
      "metadata": {
        "id": "pBsuwZCJC_X-"
      },
      "source": [
        "Lessons:\n",
        "\n",
        "- Use histograms to show distributions\n",
        "- Be conscious of axes when using grouped plots"
      ]
    },
    {
      "cell_type": "markdown",
      "metadata": {
        "id": "SzFd5dFrC_X-"
      },
      "source": [
        "## 13. Pretend you don't have the driver_age column, and create it from driver_age_raw (and call it new_age)"
      ]
    },
    {
      "cell_type": "code",
      "metadata": {
        "id": "3JJ02VmkMLVh"
      },
      "source": [
        "ri = pd.read_csv(\"https://raw.githubusercontent.com/nunnarilabs/ml/master/police/police.csv\")\n"
      ],
      "execution_count": null,
      "outputs": []
    },
    {
      "cell_type": "code",
      "metadata": {
        "id": "b9vNZtcMO5fx"
      },
      "source": [
        "ri.stop_date = pd.to_datetime(ri.stop_date)\n",
        "ri['year'] = ri.stop_date.dt.year"
      ],
      "execution_count": null,
      "outputs": []
    },
    {
      "cell_type": "code",
      "metadata": {
        "colab": {
          "base_uri": "https://localhost:8080/",
          "height": 282
        },
        "id": "h9O_3DXnMg4L",
        "outputId": "3dbce2ae-fc55-49ca-d8be-2c72fad53670"
      },
      "source": [
        "ri['driver_age_raw'].hist()"
      ],
      "execution_count": null,
      "outputs": [
        {
          "output_type": "execute_result",
          "data": {
            "text/plain": [
              "<matplotlib.axes._subplots.AxesSubplot at 0x7f5c994e3e90>"
            ]
          },
          "metadata": {},
          "execution_count": 103
        },
        {
          "output_type": "display_data",
          "data": {
            "image/png": "[encoded data removed]",
            "text/plain": [
              "<Figure size 432x288 with 1 Axes>"
            ]
          },
          "metadata": {
            "needs_background": "light"
          }
        }
      ]
    },
    {
      "cell_type": "code",
      "metadata": {
        "scrolled": true,
        "id": "LZIgpCL3C_YT",
        "colab": {
          "base_uri": "https://localhost:8080/"
        },
        "outputId": "33614394-3594-4b84-ff01-f16d15739a2b"
      },
      "source": [
        "import numpy as np\n",
        "ri.loc[((ri.driver_age_raw == 8801) | (ri.driver_age_raw==2919) | (ri.driver_age_raw==0))][\"driver_age\"].unique()\n",
        "# print()\n"
      ],
      "execution_count": null,
      "outputs": [
        {
          "output_type": "execute_result",
          "data": {
            "text/plain": [
              "array([nan])"
            ]
          },
          "metadata": {},
          "execution_count": 104
        }
      ]
    },
    {
      "cell_type": "code",
      "metadata": {
        "id": "dZCauJ1WJl6c"
      },
      "source": [
        "ri.loc[((ri.driver_age_raw == 8801) | (ri.driver_age_raw==2919) | (ri.driver_age_raw==0)),\"driver_age_raw\"] = np.nan"
      ],
      "execution_count": null,
      "outputs": []
    },
    {
      "cell_type": "code",
      "metadata": {
        "colab": {
          "base_uri": "https://localhost:8080/"
        },
        "id": "rDZJthMkKA4Q",
        "outputId": "5079b297-0c85-4fb3-c8c9-879a6261a153"
      },
      "source": [
        "ri.driver_age_raw.unique()"
      ],
      "execution_count": null,
      "outputs": [
        {
          "output_type": "execute_result",
          "data": {
            "text/plain": [
              "array([1985., 1965., 1972., 1986., 1984., 1982., 1969., 1970., 1979.,\n",
              "       1966., 1955., 1958., 1953., 1967.,   nan, 1964., 1977., 1959.,\n",
              "       1973., 1947., 1978., 1962., 1981., 1988., 1983., 1961., 1957.,\n",
              "       1971., 1950., 1954., 1960., 1976., 1974., 1968., 1938., 1980.,\n",
              "       1963., 1975., 1987., 1948., 1956., 1944., 1935., 1952., 1945.,\n",
              "       1946., 1941., 1942., 1951., 1949., 2005., 1939., 1943., 1936.,\n",
              "       1924., 1937., 1929., 1930., 1931., 1923., 1940., 1933., 1989.,\n",
              "       1928., 1932., 1990., 1926., 2006., 1927., 1997., 1934., 1887.,\n",
              "       1925., 1918., 2004., 1991., 2002., 2007., 1992., 2001., 2003.,\n",
              "       1998., 1922., 1993., 2008., 2009., 2000., 1994., 1995., 2011.,\n",
              "       1996., 2013., 1914., 1920., 1999.])"
            ]
          },
          "metadata": {},
          "execution_count": 106
        }
      ]
    },
    {
      "cell_type": "code",
      "metadata": {
        "colab": {
          "base_uri": "https://localhost:8080/",
          "height": 282
        },
        "id": "KXgLaR9zHtFP",
        "outputId": "332871d1-3de5-4c7c-b73a-5d716f22285a"
      },
      "source": [
        "ri['driver_age_raw'].hist()"
      ],
      "execution_count": null,
      "outputs": [
        {
          "output_type": "execute_result",
          "data": {
            "text/plain": [
              "<matplotlib.axes._subplots.AxesSubplot at 0x7f5c97f97310>"
            ]
          },
          "metadata": {},
          "execution_count": 107
        },
        {
          "output_type": "display_data",
          "data": {
            "image/png": "[encoded data removed]",
            "text/plain": [
              "<Figure size 432x288 with 1 Axes>"
            ]
          },
          "metadata": {
            "needs_background": "light"
          }
        }
      ]
    },
    {
      "cell_type": "code",
      "metadata": {
        "colab": {
          "base_uri": "https://localhost:8080/"
        },
        "id": "n6s2ga_mH49H",
        "outputId": "d5207feb-066e-46e9-c60a-50c89b6296cd"
      },
      "source": [
        "ri.driver_age_raw.unique()"
      ],
      "execution_count": null,
      "outputs": [
        {
          "output_type": "execute_result",
          "data": {
            "text/plain": [
              "array([1985., 1965., 1972., 1986., 1984., 1982., 1969., 1970., 1979.,\n",
              "       1966., 1955., 1958., 1953., 1967.,   nan, 1964., 1977., 1959.,\n",
              "       1973., 1947., 1978., 1962., 1981., 1988., 1983., 1961., 1957.,\n",
              "       1971., 1950., 1954., 1960., 1976., 1974., 1968., 1938., 1980.,\n",
              "       1963., 1975., 1987., 1948., 1956., 1944., 1935., 1952., 1945.,\n",
              "       1946., 1941., 1942., 1951., 1949., 2005., 1939., 1943., 1936.,\n",
              "       1924., 1937., 1929., 1930., 1931., 1923., 1940., 1933., 1989.,\n",
              "       1928., 1932., 1990., 1926., 2006., 1927., 1997., 1934., 1887.,\n",
              "       1925., 1918., 2004., 1991., 2002., 2007., 1992., 2001., 2003.,\n",
              "       1998., 1922., 1993., 2008., 2009., 2000., 1994., 1995., 2011.,\n",
              "       1996., 2013., 1914., 1920., 1999.])"
            ]
          },
          "metadata": {},
          "execution_count": 108
        }
      ]
    },
    {
      "cell_type": "code",
      "metadata": {
        "id": "_zQ8ZwIrH5eu"
      },
      "source": [
        "ri[\"new_age\"] = ri['year'] - ri['driver_age_raw'] "
      ],
      "execution_count": null,
      "outputs": []
    },
    {
      "cell_type": "code",
      "metadata": {
        "colab": {
          "base_uri": "https://localhost:8080/"
        },
        "id": "SVUkerXNH5qJ",
        "outputId": "f6140233-95ca-451d-b25b-d6526f424121"
      },
      "source": [
        "ri.new_age.value_counts()"
      ],
      "execution_count": null,
      "outputs": [
        {
          "output_type": "execute_result",
          "data": {
            "text/plain": [
              "22.0    4125\n",
              "21.0    4063\n",
              "23.0    3986\n",
              "20.0    3794\n",
              "24.0    3782\n",
              "        ... \n",
              "10.0       1\n",
              "14.0       1\n",
              "89.0       1\n",
              "99.0       1\n",
              "90.0       1\n",
              "Name: new_age, Length: 90, dtype: int64"
            ]
          },
          "metadata": {},
          "execution_count": 75
        }
      ]
    },
    {
      "cell_type": "code",
      "metadata": {
        "colab": {
          "base_uri": "https://localhost:8080/"
        },
        "id": "Ew1qJdMMH51f",
        "outputId": "f2d24e40-b38a-4e43-b948-26e693d4b933"
      },
      "source": [
        "sorted_age = ri.new_age.unique()\n",
        "sorted_age.sort()\n",
        "print(sorted_age)"
      ],
      "execution_count": null,
      "outputs": [
        {
          "output_type": "stream",
          "name": "stdout",
          "text": [
            "[  0.   1.   2.   3.   4.   5.   6.   9.  10.  11.  14.  15.  16.  17.\n",
            "  18.  19.  20.  21.  22.  23.  24.  25.  26.  27.  28.  29.  30.  31.\n",
            "  32.  33.  34.  35.  36.  37.  38.  39.  40.  41.  42.  43.  44.  45.\n",
            "  46.  47.  48.  49.  50.  51.  52.  53.  54.  55.  56.  57.  58.  59.\n",
            "  60.  61.  62.  63.  64.  65.  66.  67.  68.  69.  70.  71.  72.  73.\n",
            "  74.  75.  76.  77.  78.  79.  80.  81.  82.  83.  84.  85.  86.  87.\n",
            "  88.  89.  90.  94.  99. 119.  nan]\n"
          ]
        }
      ]
    },
    {
      "cell_type": "code",
      "metadata": {
        "colab": {
          "base_uri": "https://localhost:8080/",
          "height": 1000
        },
        "id": "rzPZhrC7R08c",
        "outputId": "f76fb174-69c4-4054-a00e-cd4f957447a4"
      },
      "source": [
        "ri.loc[ri.new_age.isin(list(range(0, 13)))]"
      ],
      "execution_count": null,
      "outputs": [
        {
          "output_type": "execute_result",
          "data": {
            "text/html": [
              "<div>\n",
              "<style scoped>\n",
              "    .dataframe tbody tr th:only-of-type {\n",
              "        vertical-align: middle;\n",
              "    }\n",
              "\n",
              "    .dataframe tbody tr th {\n",
              "        vertical-align: top;\n",
              "    }\n",
              "\n",
              "    .dataframe thead th {\n",
              "        text-align: right;\n",
              "    }\n",
              "</style>\n",
              "<table border=\"1\" class=\"dataframe\">\n",
              "  <thead>\n",
              "    <tr style=\"text-align: right;\">\n",
              "      <th></th>\n",
              "      <th>stop_date</th>\n",
              "      <th>stop_time</th>\n",
              "      <th>county_name</th>\n",
              "      <th>driver_gender</th>\n",
              "      <th>driver_age_raw</th>\n",
              "      <th>driver_age</th>\n",
              "      <th>driver_race</th>\n",
              "      <th>violation_raw</th>\n",
              "      <th>violation</th>\n",
              "      <th>search_conducted</th>\n",
              "      <th>search_type</th>\n",
              "      <th>stop_outcome</th>\n",
              "      <th>is_arrested</th>\n",
              "      <th>stop_duration</th>\n",
              "      <th>drugs_related_stop</th>\n",
              "      <th>year</th>\n",
              "      <th>new_age</th>\n",
              "    </tr>\n",
              "  </thead>\n",
              "  <tbody>\n",
              "    <tr>\n",
              "      <th>414</th>\n",
              "      <td>2005-10-17</td>\n",
              "      <td>08:32</td>\n",
              "      <td>NaN</td>\n",
              "      <td>M</td>\n",
              "      <td>2005.0</td>\n",
              "      <td>NaN</td>\n",
              "      <td>White</td>\n",
              "      <td>Other Traffic Violation</td>\n",
              "      <td>Moving violation</td>\n",
              "      <td>False</td>\n",
              "      <td>NaN</td>\n",
              "      <td>Citation</td>\n",
              "      <td>False</td>\n",
              "      <td>0-15 Min</td>\n",
              "      <td>False</td>\n",
              "      <td>2005</td>\n",
              "      <td>0.0</td>\n",
              "    </tr>\n",
              "    <tr>\n",
              "      <th>3758</th>\n",
              "      <td>2006-02-06</td>\n",
              "      <td>13:20</td>\n",
              "      <td>NaN</td>\n",
              "      <td>M</td>\n",
              "      <td>2006.0</td>\n",
              "      <td>NaN</td>\n",
              "      <td>White</td>\n",
              "      <td>Speeding</td>\n",
              "      <td>Speeding</td>\n",
              "      <td>False</td>\n",
              "      <td>NaN</td>\n",
              "      <td>Citation</td>\n",
              "      <td>False</td>\n",
              "      <td>0-15 Min</td>\n",
              "      <td>False</td>\n",
              "      <td>2006</td>\n",
              "      <td>0.0</td>\n",
              "    </tr>\n",
              "    <tr>\n",
              "      <th>5200</th>\n",
              "      <td>2006-03-29</td>\n",
              "      <td>19:37</td>\n",
              "      <td>NaN</td>\n",
              "      <td>F</td>\n",
              "      <td>1997.0</td>\n",
              "      <td>NaN</td>\n",
              "      <td>White</td>\n",
              "      <td>Speeding</td>\n",
              "      <td>Speeding</td>\n",
              "      <td>False</td>\n",
              "      <td>NaN</td>\n",
              "      <td>Citation</td>\n",
              "      <td>False</td>\n",
              "      <td>0-15 Min</td>\n",
              "      <td>False</td>\n",
              "      <td>2006</td>\n",
              "      <td>9.0</td>\n",
              "    </tr>\n",
              "    <tr>\n",
              "      <th>6016</th>\n",
              "      <td>2006-04-26</td>\n",
              "      <td>09:15</td>\n",
              "      <td>NaN</td>\n",
              "      <td>F</td>\n",
              "      <td>2006.0</td>\n",
              "      <td>NaN</td>\n",
              "      <td>Black</td>\n",
              "      <td>Other Traffic Violation</td>\n",
              "      <td>Moving violation</td>\n",
              "      <td>False</td>\n",
              "      <td>NaN</td>\n",
              "      <td>Arrest Driver</td>\n",
              "      <td>True</td>\n",
              "      <td>0-15 Min</td>\n",
              "      <td>False</td>\n",
              "      <td>2006</td>\n",
              "      <td>0.0</td>\n",
              "    </tr>\n",
              "    <tr>\n",
              "      <th>8373</th>\n",
              "      <td>2006-07-17</td>\n",
              "      <td>08:20</td>\n",
              "      <td>NaN</td>\n",
              "      <td>F</td>\n",
              "      <td>2006.0</td>\n",
              "      <td>NaN</td>\n",
              "      <td>White</td>\n",
              "      <td>Speeding</td>\n",
              "      <td>Speeding</td>\n",
              "      <td>False</td>\n",
              "      <td>NaN</td>\n",
              "      <td>Citation</td>\n",
              "      <td>False</td>\n",
              "      <td>0-15 Min</td>\n",
              "      <td>False</td>\n",
              "      <td>2006</td>\n",
              "      <td>0.0</td>\n",
              "    </tr>\n",
              "    <tr>\n",
              "      <th>8656</th>\n",
              "      <td>2006-07-27</td>\n",
              "      <td>19:08</td>\n",
              "      <td>NaN</td>\n",
              "      <td>M</td>\n",
              "      <td>2006.0</td>\n",
              "      <td>NaN</td>\n",
              "      <td>Black</td>\n",
              "      <td>Other Traffic Violation</td>\n",
              "      <td>Moving violation</td>\n",
              "      <td>False</td>\n",
              "      <td>NaN</td>\n",
              "      <td>Citation</td>\n",
              "      <td>False</td>\n",
              "      <td>0-15 Min</td>\n",
              "      <td>False</td>\n",
              "      <td>2006</td>\n",
              "      <td>0.0</td>\n",
              "    </tr>\n",
              "    <tr>\n",
              "      <th>9059</th>\n",
              "      <td>2006-08-09</td>\n",
              "      <td>09:10</td>\n",
              "      <td>NaN</td>\n",
              "      <td>M</td>\n",
              "      <td>2006.0</td>\n",
              "      <td>NaN</td>\n",
              "      <td>Black</td>\n",
              "      <td>Speeding</td>\n",
              "      <td>Speeding</td>\n",
              "      <td>False</td>\n",
              "      <td>NaN</td>\n",
              "      <td>Citation</td>\n",
              "      <td>False</td>\n",
              "      <td>0-15 Min</td>\n",
              "      <td>False</td>\n",
              "      <td>2006</td>\n",
              "      <td>0.0</td>\n",
              "    </tr>\n",
              "    <tr>\n",
              "      <th>9359</th>\n",
              "      <td>2006-08-22</td>\n",
              "      <td>06:30</td>\n",
              "      <td>NaN</td>\n",
              "      <td>F</td>\n",
              "      <td>2006.0</td>\n",
              "      <td>NaN</td>\n",
              "      <td>White</td>\n",
              "      <td>Speeding</td>\n",
              "      <td>Speeding</td>\n",
              "      <td>False</td>\n",
              "      <td>NaN</td>\n",
              "      <td>Citation</td>\n",
              "      <td>False</td>\n",
              "      <td>0-15 Min</td>\n",
              "      <td>False</td>\n",
              "      <td>2006</td>\n",
              "      <td>0.0</td>\n",
              "    </tr>\n",
              "    <tr>\n",
              "      <th>10023</th>\n",
              "      <td>2006-09-12</td>\n",
              "      <td>17:40</td>\n",
              "      <td>NaN</td>\n",
              "      <td>M</td>\n",
              "      <td>2006.0</td>\n",
              "      <td>NaN</td>\n",
              "      <td>White</td>\n",
              "      <td>Speeding</td>\n",
              "      <td>Speeding</td>\n",
              "      <td>False</td>\n",
              "      <td>NaN</td>\n",
              "      <td>Citation</td>\n",
              "      <td>False</td>\n",
              "      <td>0-15 Min</td>\n",
              "      <td>False</td>\n",
              "      <td>2006</td>\n",
              "      <td>0.0</td>\n",
              "    </tr>\n",
              "    <tr>\n",
              "      <th>10357</th>\n",
              "      <td>2006-09-24</td>\n",
              "      <td>17:30</td>\n",
              "      <td>NaN</td>\n",
              "      <td>M</td>\n",
              "      <td>2004.0</td>\n",
              "      <td>NaN</td>\n",
              "      <td>White</td>\n",
              "      <td>Speeding</td>\n",
              "      <td>Speeding</td>\n",
              "      <td>False</td>\n",
              "      <td>NaN</td>\n",
              "      <td>Citation</td>\n",
              "      <td>False</td>\n",
              "      <td>0-15 Min</td>\n",
              "      <td>False</td>\n",
              "      <td>2006</td>\n",
              "      <td>2.0</td>\n",
              "    </tr>\n",
              "    <tr>\n",
              "      <th>10827</th>\n",
              "      <td>2006-10-11</td>\n",
              "      <td>10:55</td>\n",
              "      <td>NaN</td>\n",
              "      <td>M</td>\n",
              "      <td>2002.0</td>\n",
              "      <td>NaN</td>\n",
              "      <td>White</td>\n",
              "      <td>Other Traffic Violation</td>\n",
              "      <td>Moving violation</td>\n",
              "      <td>False</td>\n",
              "      <td>NaN</td>\n",
              "      <td>Citation</td>\n",
              "      <td>False</td>\n",
              "      <td>0-15 Min</td>\n",
              "      <td>False</td>\n",
              "      <td>2006</td>\n",
              "      <td>4.0</td>\n",
              "    </tr>\n",
              "    <tr>\n",
              "      <th>12972</th>\n",
              "      <td>2006-12-21</td>\n",
              "      <td>19:30</td>\n",
              "      <td>NaN</td>\n",
              "      <td>M</td>\n",
              "      <td>2006.0</td>\n",
              "      <td>NaN</td>\n",
              "      <td>Black</td>\n",
              "      <td>Other Traffic Violation</td>\n",
              "      <td>Moving violation</td>\n",
              "      <td>False</td>\n",
              "      <td>NaN</td>\n",
              "      <td>Citation</td>\n",
              "      <td>False</td>\n",
              "      <td>0-15 Min</td>\n",
              "      <td>False</td>\n",
              "      <td>2006</td>\n",
              "      <td>0.0</td>\n",
              "    </tr>\n",
              "    <tr>\n",
              "      <th>14890</th>\n",
              "      <td>2007-02-21</td>\n",
              "      <td>20:55</td>\n",
              "      <td>NaN</td>\n",
              "      <td>M</td>\n",
              "      <td>2007.0</td>\n",
              "      <td>NaN</td>\n",
              "      <td>White</td>\n",
              "      <td>Speeding</td>\n",
              "      <td>Speeding</td>\n",
              "      <td>False</td>\n",
              "      <td>NaN</td>\n",
              "      <td>Citation</td>\n",
              "      <td>False</td>\n",
              "      <td>0-15 Min</td>\n",
              "      <td>False</td>\n",
              "      <td>2007</td>\n",
              "      <td>0.0</td>\n",
              "    </tr>\n",
              "    <tr>\n",
              "      <th>16064</th>\n",
              "      <td>2007-04-10</td>\n",
              "      <td>20:40</td>\n",
              "      <td>NaN</td>\n",
              "      <td>M</td>\n",
              "      <td>2007.0</td>\n",
              "      <td>NaN</td>\n",
              "      <td>Hispanic</td>\n",
              "      <td>Speeding</td>\n",
              "      <td>Speeding</td>\n",
              "      <td>False</td>\n",
              "      <td>NaN</td>\n",
              "      <td>Citation</td>\n",
              "      <td>False</td>\n",
              "      <td>0-15 Min</td>\n",
              "      <td>False</td>\n",
              "      <td>2007</td>\n",
              "      <td>0.0</td>\n",
              "    </tr>\n",
              "    <tr>\n",
              "      <th>16482</th>\n",
              "      <td>2007-04-27</td>\n",
              "      <td>23:41</td>\n",
              "      <td>NaN</td>\n",
              "      <td>F</td>\n",
              "      <td>2007.0</td>\n",
              "      <td>NaN</td>\n",
              "      <td>Black</td>\n",
              "      <td>Speeding</td>\n",
              "      <td>Speeding</td>\n",
              "      <td>False</td>\n",
              "      <td>NaN</td>\n",
              "      <td>Citation</td>\n",
              "      <td>False</td>\n",
              "      <td>16-30 Min</td>\n",
              "      <td>False</td>\n",
              "      <td>2007</td>\n",
              "      <td>0.0</td>\n",
              "    </tr>\n",
              "    <tr>\n",
              "      <th>18143</th>\n",
              "      <td>2007-06-24</td>\n",
              "      <td>08:42</td>\n",
              "      <td>NaN</td>\n",
              "      <td>M</td>\n",
              "      <td>2001.0</td>\n",
              "      <td>NaN</td>\n",
              "      <td>White</td>\n",
              "      <td>Suspicious Person</td>\n",
              "      <td>Other</td>\n",
              "      <td>True</td>\n",
              "      <td>Protective Frisk,Reasonable Suspicion</td>\n",
              "      <td>No Action</td>\n",
              "      <td>False</td>\n",
              "      <td>16-30 Min</td>\n",
              "      <td>False</td>\n",
              "      <td>2007</td>\n",
              "      <td>6.0</td>\n",
              "    </tr>\n",
              "    <tr>\n",
              "      <th>18149</th>\n",
              "      <td>2007-06-24</td>\n",
              "      <td>09:37</td>\n",
              "      <td>NaN</td>\n",
              "      <td>M</td>\n",
              "      <td>2005.0</td>\n",
              "      <td>NaN</td>\n",
              "      <td>Hispanic</td>\n",
              "      <td>Speeding</td>\n",
              "      <td>Speeding</td>\n",
              "      <td>False</td>\n",
              "      <td>NaN</td>\n",
              "      <td>Citation</td>\n",
              "      <td>False</td>\n",
              "      <td>0-15 Min</td>\n",
              "      <td>False</td>\n",
              "      <td>2007</td>\n",
              "      <td>2.0</td>\n",
              "    </tr>\n",
              "    <tr>\n",
              "      <th>20099</th>\n",
              "      <td>2007-09-12</td>\n",
              "      <td>06:49</td>\n",
              "      <td>NaN</td>\n",
              "      <td>M</td>\n",
              "      <td>2003.0</td>\n",
              "      <td>NaN</td>\n",
              "      <td>White</td>\n",
              "      <td>Speeding</td>\n",
              "      <td>Speeding</td>\n",
              "      <td>False</td>\n",
              "      <td>NaN</td>\n",
              "      <td>Citation</td>\n",
              "      <td>False</td>\n",
              "      <td>16-30 Min</td>\n",
              "      <td>False</td>\n",
              "      <td>2007</td>\n",
              "      <td>4.0</td>\n",
              "    </tr>\n",
              "    <tr>\n",
              "      <th>22157</th>\n",
              "      <td>2007-12-06</td>\n",
              "      <td>16:30</td>\n",
              "      <td>NaN</td>\n",
              "      <td>F</td>\n",
              "      <td>2006.0</td>\n",
              "      <td>NaN</td>\n",
              "      <td>White</td>\n",
              "      <td>Speeding</td>\n",
              "      <td>Speeding</td>\n",
              "      <td>False</td>\n",
              "      <td>NaN</td>\n",
              "      <td>Citation</td>\n",
              "      <td>False</td>\n",
              "      <td>0-15 Min</td>\n",
              "      <td>False</td>\n",
              "      <td>2007</td>\n",
              "      <td>1.0</td>\n",
              "    </tr>\n",
              "    <tr>\n",
              "      <th>23262</th>\n",
              "      <td>2008-01-23</td>\n",
              "      <td>15:00</td>\n",
              "      <td>NaN</td>\n",
              "      <td>F</td>\n",
              "      <td>1998.0</td>\n",
              "      <td>NaN</td>\n",
              "      <td>White</td>\n",
              "      <td>Speeding</td>\n",
              "      <td>Speeding</td>\n",
              "      <td>False</td>\n",
              "      <td>NaN</td>\n",
              "      <td>Citation</td>\n",
              "      <td>False</td>\n",
              "      <td>0-15 Min</td>\n",
              "      <td>False</td>\n",
              "      <td>2008</td>\n",
              "      <td>10.0</td>\n",
              "    </tr>\n",
              "    <tr>\n",
              "      <th>24045</th>\n",
              "      <td>2008-02-24</td>\n",
              "      <td>22:51</td>\n",
              "      <td>NaN</td>\n",
              "      <td>M</td>\n",
              "      <td>2005.0</td>\n",
              "      <td>NaN</td>\n",
              "      <td>Hispanic</td>\n",
              "      <td>Equipment/Inspection Violation</td>\n",
              "      <td>Equipment</td>\n",
              "      <td>False</td>\n",
              "      <td>NaN</td>\n",
              "      <td>Citation</td>\n",
              "      <td>False</td>\n",
              "      <td>16-30 Min</td>\n",
              "      <td>False</td>\n",
              "      <td>2008</td>\n",
              "      <td>3.0</td>\n",
              "    </tr>\n",
              "    <tr>\n",
              "      <th>25950</th>\n",
              "      <td>2008-05-20</td>\n",
              "      <td>22:52</td>\n",
              "      <td>NaN</td>\n",
              "      <td>M</td>\n",
              "      <td>1997.0</td>\n",
              "      <td>NaN</td>\n",
              "      <td>White</td>\n",
              "      <td>Speeding</td>\n",
              "      <td>Speeding</td>\n",
              "      <td>False</td>\n",
              "      <td>NaN</td>\n",
              "      <td>Citation</td>\n",
              "      <td>False</td>\n",
              "      <td>0-15 Min</td>\n",
              "      <td>False</td>\n",
              "      <td>2008</td>\n",
              "      <td>11.0</td>\n",
              "    </tr>\n",
              "    <tr>\n",
              "      <th>26239</th>\n",
              "      <td>2008-05-29</td>\n",
              "      <td>16:50</td>\n",
              "      <td>NaN</td>\n",
              "      <td>M</td>\n",
              "      <td>2007.0</td>\n",
              "      <td>NaN</td>\n",
              "      <td>White</td>\n",
              "      <td>Speeding</td>\n",
              "      <td>Speeding</td>\n",
              "      <td>False</td>\n",
              "      <td>NaN</td>\n",
              "      <td>Citation</td>\n",
              "      <td>False</td>\n",
              "      <td>0-15 Min</td>\n",
              "      <td>False</td>\n",
              "      <td>2008</td>\n",
              "      <td>1.0</td>\n",
              "    </tr>\n",
              "    <tr>\n",
              "      <th>26437</th>\n",
              "      <td>2008-06-06</td>\n",
              "      <td>08:17</td>\n",
              "      <td>NaN</td>\n",
              "      <td>F</td>\n",
              "      <td>2007.0</td>\n",
              "      <td>NaN</td>\n",
              "      <td>White</td>\n",
              "      <td>Speeding</td>\n",
              "      <td>Speeding</td>\n",
              "      <td>False</td>\n",
              "      <td>NaN</td>\n",
              "      <td>Citation</td>\n",
              "      <td>False</td>\n",
              "      <td>0-15 Min</td>\n",
              "      <td>False</td>\n",
              "      <td>2008</td>\n",
              "      <td>1.0</td>\n",
              "    </tr>\n",
              "    <tr>\n",
              "      <th>28872</th>\n",
              "      <td>2008-09-11</td>\n",
              "      <td>11:15</td>\n",
              "      <td>NaN</td>\n",
              "      <td>M</td>\n",
              "      <td>2008.0</td>\n",
              "      <td>NaN</td>\n",
              "      <td>Black</td>\n",
              "      <td>Speeding</td>\n",
              "      <td>Speeding</td>\n",
              "      <td>False</td>\n",
              "      <td>NaN</td>\n",
              "      <td>Citation</td>\n",
              "      <td>False</td>\n",
              "      <td>0-15 Min</td>\n",
              "      <td>False</td>\n",
              "      <td>2008</td>\n",
              "      <td>0.0</td>\n",
              "    </tr>\n",
              "    <tr>\n",
              "      <th>30350</th>\n",
              "      <td>2008-11-12</td>\n",
              "      <td>07:04</td>\n",
              "      <td>NaN</td>\n",
              "      <td>M</td>\n",
              "      <td>2008.0</td>\n",
              "      <td>NaN</td>\n",
              "      <td>White</td>\n",
              "      <td>Speeding</td>\n",
              "      <td>Speeding</td>\n",
              "      <td>False</td>\n",
              "      <td>NaN</td>\n",
              "      <td>Citation</td>\n",
              "      <td>False</td>\n",
              "      <td>0-15 Min</td>\n",
              "      <td>False</td>\n",
              "      <td>2008</td>\n",
              "      <td>0.0</td>\n",
              "    </tr>\n",
              "    <tr>\n",
              "      <th>31606</th>\n",
              "      <td>2009-01-09</td>\n",
              "      <td>09:02</td>\n",
              "      <td>NaN</td>\n",
              "      <td>M</td>\n",
              "      <td>2006.0</td>\n",
              "      <td>NaN</td>\n",
              "      <td>White</td>\n",
              "      <td>Speeding</td>\n",
              "      <td>Speeding</td>\n",
              "      <td>False</td>\n",
              "      <td>NaN</td>\n",
              "      <td>Citation</td>\n",
              "      <td>False</td>\n",
              "      <td>0-15 Min</td>\n",
              "      <td>False</td>\n",
              "      <td>2009</td>\n",
              "      <td>3.0</td>\n",
              "    </tr>\n",
              "    <tr>\n",
              "      <th>37738</th>\n",
              "      <td>2009-10-07</td>\n",
              "      <td>21:15</td>\n",
              "      <td>NaN</td>\n",
              "      <td>M</td>\n",
              "      <td>2009.0</td>\n",
              "      <td>NaN</td>\n",
              "      <td>Hispanic</td>\n",
              "      <td>Speeding</td>\n",
              "      <td>Speeding</td>\n",
              "      <td>False</td>\n",
              "      <td>NaN</td>\n",
              "      <td>Citation</td>\n",
              "      <td>False</td>\n",
              "      <td>0-15 Min</td>\n",
              "      <td>False</td>\n",
              "      <td>2009</td>\n",
              "      <td>0.0</td>\n",
              "    </tr>\n",
              "    <tr>\n",
              "      <th>37818</th>\n",
              "      <td>2009-10-11</td>\n",
              "      <td>10:39</td>\n",
              "      <td>NaN</td>\n",
              "      <td>M</td>\n",
              "      <td>2004.0</td>\n",
              "      <td>NaN</td>\n",
              "      <td>White</td>\n",
              "      <td>Speeding</td>\n",
              "      <td>Speeding</td>\n",
              "      <td>False</td>\n",
              "      <td>NaN</td>\n",
              "      <td>Citation</td>\n",
              "      <td>False</td>\n",
              "      <td>0-15 Min</td>\n",
              "      <td>False</td>\n",
              "      <td>2009</td>\n",
              "      <td>5.0</td>\n",
              "    </tr>\n",
              "    <tr>\n",
              "      <th>39125</th>\n",
              "      <td>2009-12-18</td>\n",
              "      <td>01:48</td>\n",
              "      <td>NaN</td>\n",
              "      <td>M</td>\n",
              "      <td>2000.0</td>\n",
              "      <td>NaN</td>\n",
              "      <td>White</td>\n",
              "      <td>Speeding</td>\n",
              "      <td>Speeding</td>\n",
              "      <td>False</td>\n",
              "      <td>NaN</td>\n",
              "      <td>Warning</td>\n",
              "      <td>False</td>\n",
              "      <td>0-15 Min</td>\n",
              "      <td>False</td>\n",
              "      <td>2009</td>\n",
              "      <td>9.0</td>\n",
              "    </tr>\n",
              "    <tr>\n",
              "      <th>56377</th>\n",
              "      <td>2012-02-05</td>\n",
              "      <td>13:54</td>\n",
              "      <td>NaN</td>\n",
              "      <td>M</td>\n",
              "      <td>2011.0</td>\n",
              "      <td>NaN</td>\n",
              "      <td>White</td>\n",
              "      <td>Special Detail/Directed Patrol</td>\n",
              "      <td>Other</td>\n",
              "      <td>False</td>\n",
              "      <td>NaN</td>\n",
              "      <td>Citation</td>\n",
              "      <td>False</td>\n",
              "      <td>0-15 Min</td>\n",
              "      <td>False</td>\n",
              "      <td>2012</td>\n",
              "      <td>1.0</td>\n",
              "    </tr>\n",
              "    <tr>\n",
              "      <th>58284</th>\n",
              "      <td>2012-03-26</td>\n",
              "      <td>12:50</td>\n",
              "      <td>NaN</td>\n",
              "      <td>M</td>\n",
              "      <td>2009.0</td>\n",
              "      <td>NaN</td>\n",
              "      <td>White</td>\n",
              "      <td>Motorist Assist/Courtesy</td>\n",
              "      <td>Other</td>\n",
              "      <td>False</td>\n",
              "      <td>NaN</td>\n",
              "      <td>No Action</td>\n",
              "      <td>False</td>\n",
              "      <td>0-15 Min</td>\n",
              "      <td>False</td>\n",
              "      <td>2012</td>\n",
              "      <td>3.0</td>\n",
              "    </tr>\n",
              "    <tr>\n",
              "      <th>66876</th>\n",
              "      <td>2013-02-04</td>\n",
              "      <td>08:31</td>\n",
              "      <td>NaN</td>\n",
              "      <td>M</td>\n",
              "      <td>2013.0</td>\n",
              "      <td>NaN</td>\n",
              "      <td>White</td>\n",
              "      <td>Registration Violation</td>\n",
              "      <td>Registration/plates</td>\n",
              "      <td>True</td>\n",
              "      <td>Probable Cause</td>\n",
              "      <td>Citation</td>\n",
              "      <td>False</td>\n",
              "      <td>30+ Min</td>\n",
              "      <td>True</td>\n",
              "      <td>2013</td>\n",
              "      <td>0.0</td>\n",
              "    </tr>\n",
              "  </tbody>\n",
              "</table>\n",
              "</div>"
            ],
            "text/plain": [
              "       stop_date stop_time  county_name  ... drugs_related_stop  year  new_age\n",
              "414   2005-10-17     08:32          NaN  ...              False  2005      0.0\n",
              "3758  2006-02-06     13:20          NaN  ...              False  2006      0.0\n",
              "5200  2006-03-29     19:37          NaN  ...              False  2006      9.0\n",
              "6016  2006-04-26     09:15          NaN  ...              False  2006      0.0\n",
              "8373  2006-07-17     08:20          NaN  ...              False  2006      0.0\n",
              "8656  2006-07-27     19:08          NaN  ...              False  2006      0.0\n",
              "9059  2006-08-09     09:10          NaN  ...              False  2006      0.0\n",
              "9359  2006-08-22     06:30          NaN  ...              False  2006      0.0\n",
              "10023 2006-09-12     17:40          NaN  ...              False  2006      0.0\n",
              "10357 2006-09-24     17:30          NaN  ...              False  2006      2.0\n",
              "10827 2006-10-11     10:55          NaN  ...              False  2006      4.0\n",
              "12972 2006-12-21     19:30          NaN  ...              False  2006      0.0\n",
              "14890 2007-02-21     20:55          NaN  ...              False  2007      0.0\n",
              "16064 2007-04-10     20:40          NaN  ...              False  2007      0.0\n",
              "16482 2007-04-27     23:41          NaN  ...              False  2007      0.0\n",
              "18143 2007-06-24     08:42          NaN  ...              False  2007      6.0\n",
              "18149 2007-06-24     09:37          NaN  ...              False  2007      2.0\n",
              "20099 2007-09-12     06:49          NaN  ...              False  2007      4.0\n",
              "22157 2007-12-06     16:30          NaN  ...              False  2007      1.0\n",
              "23262 2008-01-23     15:00          NaN  ...              False  2008     10.0\n",
              "24045 2008-02-24     22:51          NaN  ...              False  2008      3.0\n",
              "25950 2008-05-20     22:52          NaN  ...              False  2008     11.0\n",
              "26239 2008-05-29     16:50          NaN  ...              False  2008      1.0\n",
              "26437 2008-06-06     08:17          NaN  ...              False  2008      1.0\n",
              "28872 2008-09-11     11:15          NaN  ...              False  2008      0.0\n",
              "30350 2008-11-12     07:04          NaN  ...              False  2008      0.0\n",
              "31606 2009-01-09     09:02          NaN  ...              False  2009      3.0\n",
              "37738 2009-10-07     21:15          NaN  ...              False  2009      0.0\n",
              "37818 2009-10-11     10:39          NaN  ...              False  2009      5.0\n",
              "39125 2009-12-18     01:48          NaN  ...              False  2009      9.0\n",
              "56377 2012-02-05     13:54          NaN  ...              False  2012      1.0\n",
              "58284 2012-03-26     12:50          NaN  ...              False  2012      3.0\n",
              "66876 2013-02-04     08:31          NaN  ...               True  2013      0.0\n",
              "\n",
              "[33 rows x 17 columns]"
            ]
          },
          "metadata": {},
          "execution_count": 77
        }
      ]
    },
    {
      "cell_type": "markdown",
      "metadata": {
        "id": "lhDCTZAiC_YU"
      },
      "source": [
        "Lessons:\n",
        "\n",
        "- Don't assume that the head and tail are representative of the data\n",
        "- Columns with missing values may still have bad data (driver_age_raw)\n",
        "- Data cleaning sometimes involves guessing (driver_age)\n",
        "- Use histograms for a sanity check"
      ]
    },
    {
      "cell_type": "markdown",
      "metadata": {
        "id": "yMSunZ4NTMb4"
      },
      "source": [
        "1. Gender Bias in stop\n",
        "2. Age distribution during a stop\n",
        "3. Stop time (most)\n",
        "4. Male/Female Drug-related stop\n",
        "5. Max Violation type\n",
        "6. Arrested or Not\n",
        "7. Day or night arrest\n",
        "8. Race bias in drug and stop\n",
        "9. Age + Race => Arrested\n",
        "11. Year wise stops"
      ]
    },
    {
      "cell_type": "markdown",
      "metadata": {
        "id": "RxfNqaZnTSwj"
      },
      "source": [
        "**Gender Bias in Stop**"
      ]
    },
    {
      "cell_type": "code",
      "metadata": {
        "id": "TyJ3B56vzPUh"
      },
      "source": [
        "ri = pd.read_csv(\"https://raw.githubusercontent.com/nunnarilabs/ml/master/police/police.csv\")\n"
      ],
      "execution_count": null,
      "outputs": []
    },
    {
      "cell_type": "code",
      "metadata": {
        "colab": {
          "base_uri": "https://localhost:8080/"
        },
        "id": "9yYCxf9MUBaP",
        "outputId": "e6c59bdd-dfe8-4af6-8e32-57153edc9415"
      },
      "source": [
        "ri.columns"
      ],
      "execution_count": null,
      "outputs": [
        {
          "output_type": "execute_result",
          "data": {
            "text/plain": [
              "Index(['stop_date', 'stop_time', 'county_name', 'driver_gender',\n",
              "       'driver_age_raw', 'driver_age', 'driver_race', 'violation_raw',\n",
              "       'violation', 'search_conducted', 'search_type', 'stop_outcome',\n",
              "       'is_arrested', 'stop_duration', 'drugs_related_stop'],\n",
              "      dtype='object')"
            ]
          },
          "metadata": {},
          "execution_count": 79
        }
      ]
    },
    {
      "cell_type": "code",
      "metadata": {
        "colab": {
          "base_uri": "https://localhost:8080/"
        },
        "id": "l41uNEalUDGU",
        "outputId": "ba6caf60-c7bd-4273-d70a-55c3a761b6af"
      },
      "source": [
        "ri.driver_gender.value_counts(dropna=False)"
      ],
      "execution_count": null,
      "outputs": [
        {
          "output_type": "execute_result",
          "data": {
            "text/plain": [
              "M      62895\n",
              "F      23511\n",
              "NaN     5335\n",
              "Name: driver_gender, dtype: int64"
            ]
          },
          "metadata": {},
          "execution_count": 80
        }
      ]
    },
    {
      "cell_type": "code",
      "metadata": {
        "colab": {
          "base_uri": "https://localhost:8080/",
          "height": 281
        },
        "id": "v_GOP0ZuULFY",
        "outputId": "64c62a39-397b-44aa-cdd6-af5bc47b6cd6"
      },
      "source": [
        "ri.driver_gender.value_counts().plot(kind='bar')"
      ],
      "execution_count": null,
      "outputs": [
        {
          "output_type": "execute_result",
          "data": {
            "text/plain": [
              "<matplotlib.axes._subplots.AxesSubplot at 0x7f5c99356390>"
            ]
          },
          "metadata": {},
          "execution_count": 81
        },
        {
          "output_type": "display_data",
          "data": {
            "image/png": "[encoded data removed]",
            "text/plain": [
              "<Figure size 432x288 with 1 Axes>"
            ]
          },
          "metadata": {
            "needs_background": "light"
          }
        }
      ]
    },
    {
      "cell_type": "markdown",
      "metadata": {
        "id": "fyLCuv28Us2R"
      },
      "source": [
        "## Stop Time Most"
      ]
    },
    {
      "cell_type": "code",
      "metadata": {
        "colab": {
          "base_uri": "https://localhost:8080/"
        },
        "id": "atetwtbKUiEm",
        "outputId": "225ecf91-612f-4a8d-e839-1f1ee06beda0"
      },
      "source": [
        "ri.stop_time.isnull().sum()"
      ],
      "execution_count": null,
      "outputs": [
        {
          "output_type": "execute_result",
          "data": {
            "text/plain": [
              "0"
            ]
          },
          "metadata": {},
          "execution_count": 82
        }
      ]
    },
    {
      "cell_type": "code",
      "metadata": {
        "colab": {
          "base_uri": "https://localhost:8080/",
          "height": 428
        },
        "id": "jMJcmOBOU2Jl",
        "outputId": "cab2da7e-bed2-4aee-ce81-a7949d2c1f79"
      },
      "source": [
        "ri.stop_time.value_counts().sort_index().plot(kind='line', figsize=(30, 10))"
      ],
      "execution_count": null,
      "outputs": [
        {
          "output_type": "execute_result",
          "data": {
            "text/plain": [
              "<matplotlib.axes._subplots.AxesSubplot at 0x7f5c9944af10>"
            ]
          },
          "metadata": {},
          "execution_count": 83
        },
        {
          "output_type": "display_data",
          "data": {
            "image/png": "[encoded data removed]",
            "text/plain": [
              "<Figure size 2160x720 with 1 Axes>"
            ]
          },
          "metadata": {
            "needs_background": "light"
          }
        }
      ]
    },
    {
      "cell_type": "code",
      "metadata": {
        "colab": {
          "base_uri": "https://localhost:8080/"
        },
        "id": "KBWkWtTaVrMf",
        "outputId": "391d57be-61e6-4ccd-f946-a5e35f82f25f"
      },
      "source": [
        "ri.stop_time.value_counts().sort_index(ascending=False).sort_values(ascending=False).head(100)"
      ],
      "execution_count": null,
      "outputs": [
        {
          "output_type": "execute_result",
          "data": {
            "text/plain": [
              "11:00    323\n",
              "10:00    317\n",
              "09:00    292\n",
              "09:30    290\n",
              "10:30    287\n",
              "        ... \n",
              "23:25    139\n",
              "07:45    138\n",
              "15:40    138\n",
              "23:10    138\n",
              "00:40    137\n",
              "Name: stop_time, Length: 100, dtype: int64"
            ]
          },
          "metadata": {},
          "execution_count": 84
        }
      ]
    },
    {
      "cell_type": "markdown",
      "metadata": {
        "id": "6rC-GROPYvCa"
      },
      "source": [
        "## Male/Female Drug-related stop"
      ]
    },
    {
      "cell_type": "code",
      "metadata": {
        "colab": {
          "base_uri": "https://localhost:8080/"
        },
        "id": "inN4fvP2X8JF",
        "outputId": "61c755b1-ffe0-443d-cdd3-b7a7ee01ded5"
      },
      "source": [
        "ri.loc[ri.driver_gender=='M'].drugs_related_stop.value_counts(normalize=True)"
      ],
      "execution_count": null,
      "outputs": [
        {
          "output_type": "execute_result",
          "data": {
            "text/plain": [
              "False    0.988568\n",
              "True     0.011432\n",
              "Name: drugs_related_stop, dtype: float64"
            ]
          },
          "metadata": {},
          "execution_count": 85
        }
      ]
    },
    {
      "cell_type": "code",
      "metadata": {
        "colab": {
          "base_uri": "https://localhost:8080/"
        },
        "id": "256SRMnmZOhl",
        "outputId": "96a96f69-6cc2-4927-830c-4313e015d3d0"
      },
      "source": [
        "ri.loc[ri.driver_gender=='F'].drugs_related_stop.value_counts(normalize=True)"
      ],
      "execution_count": null,
      "outputs": [
        {
          "output_type": "execute_result",
          "data": {
            "text/plain": [
              "False    0.995917\n",
              "True     0.004083\n",
              "Name: drugs_related_stop, dtype: float64"
            ]
          },
          "metadata": {},
          "execution_count": 86
        }
      ]
    },
    {
      "cell_type": "markdown",
      "metadata": {
        "id": "ENC4AAP0o4q2"
      },
      "source": [
        "Max Violation type"
      ]
    },
    {
      "cell_type": "code",
      "metadata": {
        "colab": {
          "base_uri": "https://localhost:8080/"
        },
        "id": "O0Bp97oOgSj3",
        "outputId": "d840c402-abca-4e25-dfa4-d537c87ffd84"
      },
      "source": [
        "ri.violation_raw.value_counts(normalize=True)*100"
      ],
      "execution_count": null,
      "outputs": [
        {
          "output_type": "execute_result",
          "data": {
            "text/plain": [
              "Speeding                            56.086242\n",
              "Other Traffic Violation             18.776039\n",
              "Equipment/Inspection Violation      12.753449\n",
              "Registration Violation               3.971854\n",
              "Seatbelt Violation                   3.416350\n",
              "Special Detail/Directed Patrol       2.841172\n",
              "Call for Service                     1.502176\n",
              "Violation of City/Town Ordinance     0.244190\n",
              "Motorist Assist/Courtesy             0.234932\n",
              "APB                                  0.091427\n",
              "Suspicious Person                    0.064809\n",
              "Warrant                              0.017360\n",
              "Name: violation_raw, dtype: float64"
            ]
          },
          "metadata": {},
          "execution_count": 87
        }
      ]
    },
    {
      "cell_type": "markdown",
      "metadata": {
        "id": "TYPzPRdzriD3"
      },
      "source": [
        "## Day or night arrest"
      ]
    },
    {
      "cell_type": "code",
      "metadata": {
        "colab": {
          "base_uri": "https://localhost:8080/"
        },
        "id": "lI36-LjxmPeL",
        "outputId": "8b467df2-213e-4ffe-998a-96213f2696cf"
      },
      "source": [
        "ri.columns"
      ],
      "execution_count": null,
      "outputs": [
        {
          "output_type": "execute_result",
          "data": {
            "text/plain": [
              "Index(['stop_date', 'stop_time', 'county_name', 'driver_gender',\n",
              "       'driver_age_raw', 'driver_age', 'driver_race', 'violation_raw',\n",
              "       'violation', 'search_conducted', 'search_type', 'stop_outcome',\n",
              "       'is_arrested', 'stop_duration', 'drugs_related_stop'],\n",
              "      dtype='object')"
            ]
          },
          "metadata": {},
          "execution_count": 88
        }
      ]
    },
    {
      "cell_type": "code",
      "metadata": {
        "id": "G_3GF3KqsV8g"
      },
      "source": [
        "ri['stop_time'] = pd.to_datetime(ri['stop_time'])"
      ],
      "execution_count": null,
      "outputs": []
    },
    {
      "cell_type": "code",
      "metadata": {
        "colab": {
          "base_uri": "https://localhost:8080/"
        },
        "id": "1PiGi0Gjsd3i",
        "outputId": "24a29fbe-7adf-4f54-eb31-2ca39f1b215b"
      },
      "source": [
        "ri.stop_time"
      ],
      "execution_count": null,
      "outputs": [
        {
          "output_type": "execute_result",
          "data": {
            "text/plain": [
              "0       2021-09-27 01:55:00\n",
              "1       2021-09-27 08:15:00\n",
              "2       2021-09-27 23:15:00\n",
              "3       2021-09-27 17:15:00\n",
              "4       2021-09-27 10:00:00\n",
              "                ...        \n",
              "91736   2021-09-27 20:27:00\n",
              "91737   2021-09-27 20:35:00\n",
              "91738   2021-09-27 20:45:00\n",
              "91739   2021-09-27 21:42:00\n",
              "91740   2021-09-27 22:46:00\n",
              "Name: stop_time, Length: 91741, dtype: datetime64[ns]"
            ]
          },
          "metadata": {},
          "execution_count": 90
        }
      ]
    },
    {
      "cell_type": "code",
      "metadata": {
        "id": "Di9582mbsmGy"
      },
      "source": [
        "import datetime"
      ],
      "execution_count": null,
      "outputs": []
    },
    {
      "cell_type": "code",
      "metadata": {
        "id": "OPW3kuMyu8D_"
      },
      "source": [
        "ri['is_day'] = ri[\"stop_time\"].dt.hour.apply(lambda x: True if x>5 and x<=18 else False)"
      ],
      "execution_count": null,
      "outputs": []
    },
    {
      "cell_type": "code",
      "metadata": {
        "colab": {
          "base_uri": "https://localhost:8080/"
        },
        "id": "lpJEAK7Urkgx",
        "outputId": "584b983d-2d27-4e7e-c997-94a8660e4009"
      },
      "source": [
        "ri.loc[ri.is_arrested==True].groupby(\"is_day\").is_arrested.value_counts(normalize=True)"
      ],
      "execution_count": null,
      "outputs": [
        {
          "output_type": "execute_result",
          "data": {
            "text/plain": [
              "is_day  is_arrested\n",
              "False   True           1.0\n",
              "True    True           1.0\n",
              "Name: is_arrested, dtype: float64"
            ]
          },
          "metadata": {},
          "execution_count": 93
        }
      ]
    },
    {
      "cell_type": "code",
      "metadata": {
        "colab": {
          "base_uri": "https://localhost:8080/"
        },
        "id": "tRKefxXUxcux",
        "outputId": "d2938e36-f3d9-4736-fc54-28427d2cebe5"
      },
      "source": [
        "ri.groupby(\"is_day\").is_arrested.value_counts(normalize=True)"
      ],
      "execution_count": null,
      "outputs": [
        {
          "output_type": "execute_result",
          "data": {
            "text/plain": [
              "is_day  is_arrested\n",
              "False   False          0.951885\n",
              "        True           0.048115\n",
              "True    False          0.973106\n",
              "        True           0.026894\n",
              "Name: is_arrested, dtype: float64"
            ]
          },
          "metadata": {},
          "execution_count": 94
        }
      ]
    },
    {
      "cell_type": "code",
      "metadata": {
        "colab": {
          "base_uri": "https://localhost:8080/"
        },
        "id": "b1T_inxWujgI",
        "outputId": "dd19cdab-06bc-4cae-abbf-b691347f02aa"
      },
      "source": [
        "ri.is_arrested.value_counts(normalize=True)"
      ],
      "execution_count": null,
      "outputs": [
        {
          "output_type": "execute_result",
          "data": {
            "text/plain": [
              "False    0.966103\n",
              "True     0.033897\n",
              "Name: is_arrested, dtype: float64"
            ]
          },
          "metadata": {},
          "execution_count": 95
        }
      ]
    },
    {
      "cell_type": "markdown",
      "metadata": {
        "id": "I7sYe5Y61AHV"
      },
      "source": [
        "### Race bias in drug and stop"
      ]
    },
    {
      "cell_type": "code",
      "metadata": {
        "colab": {
          "base_uri": "https://localhost:8080/"
        },
        "id": "soAMZjrzxI_T",
        "outputId": "8aece38e-97ea-4972-fbd2-4eccc3cf563b"
      },
      "source": [
        "ri[ri.driver_gender=='M'].drugs_related_stop.value_counts(normalize=True)"
      ],
      "execution_count": null,
      "outputs": [
        {
          "output_type": "execute_result",
          "data": {
            "text/plain": [
              "False    0.988568\n",
              "True     0.011432\n",
              "Name: drugs_related_stop, dtype: float64"
            ]
          },
          "metadata": {},
          "execution_count": 96
        }
      ]
    },
    {
      "cell_type": "code",
      "metadata": {
        "colab": {
          "base_uri": "https://localhost:8080/"
        },
        "id": "6LN6lYn01NgZ",
        "outputId": "bca64c79-4de3-49db-8281-c45ee025e44b"
      },
      "source": [
        "ri[ri.driver_gender=='F'].drugs_related_stop.value_counts(normalize=True)"
      ],
      "execution_count": null,
      "outputs": [
        {
          "output_type": "execute_result",
          "data": {
            "text/plain": [
              "False    0.995917\n",
              "True     0.004083\n",
              "Name: drugs_related_stop, dtype: float64"
            ]
          },
          "metadata": {},
          "execution_count": 97
        }
      ]
    },
    {
      "cell_type": "markdown",
      "metadata": {
        "id": "jQyVYOrd1ld7"
      },
      "source": [
        "## Age + Race => Arrested"
      ]
    },
    {
      "cell_type": "code",
      "metadata": {
        "colab": {
          "base_uri": "https://localhost:8080/"
        },
        "id": "kkS1HPnd2ygI",
        "outputId": "809db9c0-d4ab-4063-eab5-43ee1baa8c9f"
      },
      "source": [
        "ri.driver_race.value_counts()"
      ],
      "execution_count": null,
      "outputs": [
        {
          "output_type": "execute_result",
          "data": {
            "text/plain": [
              "White       62158\n",
              "Black       12244\n",
              "Hispanic     9507\n",
              "Asian        2259\n",
              "Other         240\n",
              "Name: driver_race, dtype: int64"
            ]
          },
          "metadata": {},
          "execution_count": 98
        }
      ]
    },
    {
      "cell_type": "code",
      "metadata": {
        "colab": {
          "base_uri": "https://localhost:8080/"
        },
        "id": "7opJAP4MjNOy",
        "outputId": "07c27c9f-0384-4ece-974d-b2624b9b116a"
      },
      "source": [
        "ri.new_age"
      ],
      "execution_count": null,
      "outputs": [
        {
          "output_type": "execute_result",
          "data": {
            "text/plain": [
              "0        20.0\n",
              "1        40.0\n",
              "2        33.0\n",
              "3        19.0\n",
              "4        21.0\n",
              "         ... \n",
              "91736    29.0\n",
              "91737    33.0\n",
              "91738    23.0\n",
              "91739    22.0\n",
              "91740    56.0\n",
              "Name: new_age, Length: 91741, dtype: float64"
            ]
          },
          "metadata": {},
          "execution_count": 111
        }
      ]
    },
    {
      "cell_type": "code",
      "metadata": {
        "id": "ZaB65Zml3y-1"
      },
      "source": [
        "def age_category(x):\n",
        "  start_range = (x%10)*10\n",
        "  end_range = start_range + 9\n",
        "  return f\"{start_range}-{end_range}\""
      ],
      "execution_count": null,
      "outputs": []
    },
    {
      "cell_type": "code",
      "metadata": {
        "id": "-Wy8-sMUjx9N"
      },
      "source": [
        "ri[\"age_category\"] = ri.new_age.apply(age_category)"
      ],
      "execution_count": null,
      "outputs": []
    },
    {
      "cell_type": "code",
      "metadata": {
        "colab": {
          "base_uri": "https://localhost:8080/"
        },
        "id": "13OqDv82jypa",
        "outputId": "11aae77e-8a95-4b9e-add7-5c7315d0b346"
      },
      "source": [
        "ri[ri.is_arrested==True].groupby('age_category').driver_race.value_counts(normalize=True)"
      ],
      "execution_count": null,
      "outputs": [
        {
          "output_type": "execute_result",
          "data": {
            "text/plain": [
              "age_category  driver_race\n",
              "0.0-9.0       White          0.521605\n",
              "              Black          0.243827\n",
              "              Hispanic       0.222222\n",
              "              Asian          0.012346\n",
              "10.0-19.0     White          0.547231\n",
              "              Black          0.267101\n",
              "              Hispanic       0.172638\n",
              "              Asian          0.013029\n",
              "20.0-29.0     White          0.518519\n",
              "              Black          0.271605\n",
              "              Hispanic       0.197531\n",
              "              Asian          0.012346\n",
              "30.0-39.0     White          0.508834\n",
              "              Black          0.243816\n",
              "              Hispanic       0.233216\n",
              "              Asian          0.010601\n",
              "              Other          0.003534\n",
              "40.0-49.0     White          0.529210\n",
              "              Black          0.240550\n",
              "              Hispanic       0.199313\n",
              "              Asian          0.027491\n",
              "              Other          0.003436\n",
              "50.0-59.0     White          0.606780\n",
              "              Black          0.216949\n",
              "              Hispanic       0.169492\n",
              "              Asian          0.006780\n",
              "60.0-69.0     White          0.532258\n",
              "              Black          0.266129\n",
              "              Hispanic       0.185484\n",
              "              Asian          0.016129\n",
              "70.0-79.0     White          0.599278\n",
              "              Black          0.209386\n",
              "              Hispanic       0.173285\n",
              "              Asian          0.018051\n",
              "80.0-89.0     White          0.565972\n",
              "              Black          0.222222\n",
              "              Hispanic       0.204861\n",
              "              Asian          0.006944\n",
              "90.0-99.0     White          0.586207\n",
              "              Black          0.224138\n",
              "              Hispanic       0.172414\n",
              "              Asian          0.017241\n",
              "nan-nan       White          1.000000\n",
              "Name: driver_race, dtype: float64"
            ]
          },
          "metadata": {},
          "execution_count": 135
        }
      ]
    },
    {
      "cell_type": "code",
      "metadata": {
        "id": "SRMpjZKXjy3u"
      },
      "source": [
        "data = ri[ri.is_arrested==True].groupby('age_category').driver_race.value_counts(normalize=True).unstack()"
      ],
      "execution_count": null,
      "outputs": []
    },
    {
      "cell_type": "code",
      "metadata": {
        "colab": {
          "base_uri": "https://localhost:8080/",
          "height": 586
        },
        "id": "2yPCES2ajy_x",
        "outputId": "28d72fec-17d8-48bb-fb40-5f8777830575"
      },
      "source": [
        "ax = data.plot(kind='bar', figsize=(20, 10), xlabel='Age Category', ylabel='Percentage', rot=0)\n",
        "ax.legend(title='Age and Race', bbox_to_anchor=(1, 1), loc='upper left')"
      ],
      "execution_count": null,
      "outputs": [
        {
          "output_type": "execute_result",
          "data": {
            "text/plain": [
              "<matplotlib.legend.Legend at 0x7f5c9216a190>"
            ]
          },
          "metadata": {},
          "execution_count": 137
        },
        {
          "output_type": "display_data",
          "data": {
            "image/png": "[encoded data removed]",
            "text/plain": [
              "<Figure size 1440x720 with 1 Axes>"
            ]
          },
          "metadata": {
            "needs_background": "light"
          }
        }
      ]
    },
    {
      "cell_type": "markdown",
      "metadata": {
        "id": "7lHqJEbymB70"
      },
      "source": [
        "## Year wise stops"
      ]
    },
    {
      "cell_type": "code",
      "metadata": {
        "colab": {
          "base_uri": "https://localhost:8080/",
          "height": 298
        },
        "id": "BN6tpQ56jzGW",
        "outputId": "339042fb-7c79-478b-cc85-3a8edad4123d"
      },
      "source": [
        "ri.year.value_counts().plot(kind='bar')"
      ],
      "execution_count": null,
      "outputs": [
        {
          "output_type": "execute_result",
          "data": {
            "text/plain": [
              "<matplotlib.axes._subplots.AxesSubplot at 0x7f5c91b6a890>"
            ]
          },
          "metadata": {},
          "execution_count": 132
        },
        {
          "output_type": "display_data",
          "data": {
            "image/png": "[encoded data removed]",
            "text/plain": [
              "<Figure size 432x288 with 1 Axes>"
            ]
          },
          "metadata": {
            "needs_background": "light"
          }
        }
      ]
    },
    {
      "cell_type": "code",
      "metadata": {
        "id": "KK7wVtMojzL3"
      },
      "source": [
        ""
      ],
      "execution_count": null,
      "outputs": []
    },
    {
      "cell_type": "code",
      "metadata": {
        "id": "XWdZ9l0e2t_9"
      },
      "source": [
        ""
      ],
      "execution_count": null,
      "outputs": []
    }
  ]
}