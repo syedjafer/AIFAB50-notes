{
  "nbformat": 4,
  "nbformat_minor": 0,
  "metadata": {
    "colab": {
      "name": "Syed Jafer | CA3 - Pandas No Show Appointment Dataset.ipynb",
      "provenance": [],
      "collapsed_sections": []
    },
    "kernelspec": {
      "name": "python3",
      "display_name": "Python 3"
    },
    "language_info": {
      "name": "python"
    }
  },
  "cells": [
    {
      "cell_type": "code",
      "metadata": {
        "colab": {
          "base_uri": "https://localhost:8080/",
          "height": 35
        },
        "id": "Z912Ou8l5rbM",
        "outputId": "ab1595ef-81ea-466c-ecc4-ebc89e6ad3f1"
      },
      "source": [
        "import pandas as pd\n",
        "import numpy as np\n",
        "pd.__version__"
      ],
      "execution_count": null,
      "outputs": [
        {
          "output_type": "execute_result",
          "data": {
            "application/vnd.google.colaboratory.intrinsic+json": {
              "type": "string"
            },
            "text/plain": [
              "'1.1.5'"
            ]
          },
          "metadata": {},
          "execution_count": 99
        }
      ]
    },
    {
      "cell_type": "code",
      "metadata": {
        "id": "K_rle2sc50bN"
      },
      "source": [
        "import matplotlib.pyplot as plt\n",
        "%matplotlib inline"
      ],
      "execution_count": null,
      "outputs": []
    },
    {
      "cell_type": "code",
      "metadata": {
        "id": "Ks1wmKzp52Rj"
      },
      "source": [
        "df = pd.read_csv(\"https://raw.githubusercontent.com/nunnarilabs/ml/master/noshowappointments.csv\")\n"
      ],
      "execution_count": null,
      "outputs": []
    },
    {
      "cell_type": "code",
      "metadata": {
        "colab": {
          "base_uri": "https://localhost:8080/"
        },
        "id": "tBESWxrT57GX",
        "outputId": "24256379-f168-4354-d631-20c2bdcfdafd"
      },
      "source": [
        "df.columns"
      ],
      "execution_count": null,
      "outputs": [
        {
          "output_type": "execute_result",
          "data": {
            "text/plain": [
              "Index(['PatientId', 'AppointmentID', 'Gender', 'ScheduledDay',\n",
              "       'AppointmentDay', 'Age', 'Neighbourhood', 'Scholarship', 'Hipertension',\n",
              "       'Diabetes', 'Alcoholism', 'Handcap', 'SMS_received', 'No-show'],\n",
              "      dtype='object')"
            ]
          },
          "metadata": {},
          "execution_count": 4
        }
      ]
    },
    {
      "cell_type": "markdown",
      "metadata": {
        "id": "RF1Udo5o6IDP"
      },
      "source": [
        "# Is there any Gender difference in having a patient be with status Show / No-Show"
      ]
    },
    {
      "cell_type": "code",
      "metadata": {
        "colab": {
          "base_uri": "https://localhost:8080/",
          "height": 313
        },
        "id": "JLvIUydj5762",
        "outputId": "441f4b73-2bcb-430a-ab36-db97151f7f3d"
      },
      "source": [
        "df.head()"
      ],
      "execution_count": null,
      "outputs": [
        {
          "output_type": "execute_result",
          "data": {
            "text/html": [
              "<div>\n",
              "<style scoped>\n",
              "    .dataframe tbody tr th:only-of-type {\n",
              "        vertical-align: middle;\n",
              "    }\n",
              "\n",
              "    .dataframe tbody tr th {\n",
              "        vertical-align: top;\n",
              "    }\n",
              "\n",
              "    .dataframe thead th {\n",
              "        text-align: right;\n",
              "    }\n",
              "</style>\n",
              "<table border=\"1\" class=\"dataframe\">\n",
              "  <thead>\n",
              "    <tr style=\"text-align: right;\">\n",
              "      <th></th>\n",
              "      <th>PatientId</th>\n",
              "      <th>AppointmentID</th>\n",
              "      <th>Gender</th>\n",
              "      <th>ScheduledDay</th>\n",
              "      <th>AppointmentDay</th>\n",
              "      <th>Age</th>\n",
              "      <th>Neighbourhood</th>\n",
              "      <th>Scholarship</th>\n",
              "      <th>Hipertension</th>\n",
              "      <th>Diabetes</th>\n",
              "      <th>Alcoholism</th>\n",
              "      <th>Handcap</th>\n",
              "      <th>SMS_received</th>\n",
              "      <th>No-show</th>\n",
              "    </tr>\n",
              "  </thead>\n",
              "  <tbody>\n",
              "    <tr>\n",
              "      <th>0</th>\n",
              "      <td>2.987250e+13</td>\n",
              "      <td>5642903</td>\n",
              "      <td>F</td>\n",
              "      <td>2016-04-29T18:38:08Z</td>\n",
              "      <td>2016-04-29T00:00:00Z</td>\n",
              "      <td>62</td>\n",
              "      <td>JARDIM DA PENHA</td>\n",
              "      <td>0</td>\n",
              "      <td>1</td>\n",
              "      <td>0</td>\n",
              "      <td>0</td>\n",
              "      <td>0</td>\n",
              "      <td>0</td>\n",
              "      <td>No</td>\n",
              "    </tr>\n",
              "    <tr>\n",
              "      <th>1</th>\n",
              "      <td>5.589978e+14</td>\n",
              "      <td>5642503</td>\n",
              "      <td>M</td>\n",
              "      <td>2016-04-29T16:08:27Z</td>\n",
              "      <td>2016-04-29T00:00:00Z</td>\n",
              "      <td>56</td>\n",
              "      <td>JARDIM DA PENHA</td>\n",
              "      <td>0</td>\n",
              "      <td>0</td>\n",
              "      <td>0</td>\n",
              "      <td>0</td>\n",
              "      <td>0</td>\n",
              "      <td>0</td>\n",
              "      <td>No</td>\n",
              "    </tr>\n",
              "    <tr>\n",
              "      <th>2</th>\n",
              "      <td>4.262962e+12</td>\n",
              "      <td>5642549</td>\n",
              "      <td>F</td>\n",
              "      <td>2016-04-29T16:19:04Z</td>\n",
              "      <td>2016-04-29T00:00:00Z</td>\n",
              "      <td>62</td>\n",
              "      <td>MATA DA PRAIA</td>\n",
              "      <td>0</td>\n",
              "      <td>0</td>\n",
              "      <td>0</td>\n",
              "      <td>0</td>\n",
              "      <td>0</td>\n",
              "      <td>0</td>\n",
              "      <td>No</td>\n",
              "    </tr>\n",
              "    <tr>\n",
              "      <th>3</th>\n",
              "      <td>8.679512e+11</td>\n",
              "      <td>5642828</td>\n",
              "      <td>F</td>\n",
              "      <td>2016-04-29T17:29:31Z</td>\n",
              "      <td>2016-04-29T00:00:00Z</td>\n",
              "      <td>8</td>\n",
              "      <td>PONTAL DE CAMBURI</td>\n",
              "      <td>0</td>\n",
              "      <td>0</td>\n",
              "      <td>0</td>\n",
              "      <td>0</td>\n",
              "      <td>0</td>\n",
              "      <td>0</td>\n",
              "      <td>No</td>\n",
              "    </tr>\n",
              "    <tr>\n",
              "      <th>4</th>\n",
              "      <td>8.841186e+12</td>\n",
              "      <td>5642494</td>\n",
              "      <td>F</td>\n",
              "      <td>2016-04-29T16:07:23Z</td>\n",
              "      <td>2016-04-29T00:00:00Z</td>\n",
              "      <td>56</td>\n",
              "      <td>JARDIM DA PENHA</td>\n",
              "      <td>0</td>\n",
              "      <td>1</td>\n",
              "      <td>1</td>\n",
              "      <td>0</td>\n",
              "      <td>0</td>\n",
              "      <td>0</td>\n",
              "      <td>No</td>\n",
              "    </tr>\n",
              "  </tbody>\n",
              "</table>\n",
              "</div>"
            ],
            "text/plain": [
              "      PatientId  AppointmentID Gender  ... Handcap SMS_received  No-show\n",
              "0  2.987250e+13        5642903      F  ...       0            0       No\n",
              "1  5.589978e+14        5642503      M  ...       0            0       No\n",
              "2  4.262962e+12        5642549      F  ...       0            0       No\n",
              "3  8.679512e+11        5642828      F  ...       0            0       No\n",
              "4  8.841186e+12        5642494      F  ...       0            0       No\n",
              "\n",
              "[5 rows x 14 columns]"
            ]
          },
          "metadata": {},
          "execution_count": 5
        }
      ]
    },
    {
      "cell_type": "code",
      "metadata": {
        "colab": {
          "base_uri": "https://localhost:8080/"
        },
        "id": "yZ_QZl2C6Tqd",
        "outputId": "ab834901-ba94-41f5-e659-7a962e716302"
      },
      "source": [
        "df[df.Gender==\"M\"][\"No-show\"].value_counts(normalize=True)"
      ],
      "execution_count": null,
      "outputs": [
        {
          "output_type": "execute_result",
          "data": {
            "text/plain": [
              "No     0.800321\n",
              "Yes    0.199679\n",
              "Name: No-show, dtype: float64"
            ]
          },
          "metadata": {},
          "execution_count": 6
        }
      ]
    },
    {
      "cell_type": "code",
      "metadata": {
        "colab": {
          "base_uri": "https://localhost:8080/"
        },
        "id": "9_Y4hvKe6fLA",
        "outputId": "f5a94de6-14cf-442a-a9ca-74b2d151629f"
      },
      "source": [
        "df[df.Gender==\"F\"][\"No-show\"].value_counts(normalize=True)"
      ],
      "execution_count": null,
      "outputs": [
        {
          "output_type": "execute_result",
          "data": {
            "text/plain": [
              "No     0.796854\n",
              "Yes    0.203146\n",
              "Name: No-show, dtype: float64"
            ]
          },
          "metadata": {},
          "execution_count": 7
        }
      ]
    },
    {
      "cell_type": "code",
      "metadata": {
        "id": "kPwMBVxsQrsC"
      },
      "source": [
        "male_show = df[df.Gender==\"M\"][\"No-show\"].value_counts(normalize=True)\n",
        "female_show = df[df.Gender==\"F\"][\"No-show\"].value_counts(normalize=True)\n",
        "x_graph_data = [male_show[\"Yes\"], male_show[\"No\"], female_show[\"Yes\"], female_show[\"No\"]]\n",
        "x_graph_labels = [\"M-Yes\", \"M-No\", \"F-Yes\", \"F-No\"]"
      ],
      "execution_count": null,
      "outputs": []
    },
    {
      "cell_type": "code",
      "metadata": {
        "colab": {
          "base_uri": "https://localhost:8080/",
          "height": 265
        },
        "id": "PI0a7LyfUd6c",
        "outputId": "d2e8b84d-b539-4bf8-b475-1d53620330a1"
      },
      "source": [
        "import matplotlib.pyplot as plt\n",
        "plt.barh(x_graph_labels, x_graph_data)\n",
        "\n",
        "for index, value in enumerate(x_graph_data):\n",
        "    plt.text(value, index, str(value.round(3)))\n",
        "\n",
        "plt.show()"
      ],
      "execution_count": null,
      "outputs": [
        {
          "output_type": "display_data",
          "data": {
            "image/png": "[encoded data removed]",
            "text/plain": [
              "<Figure size 432x288 with 1 Axes>"
            ]
          },
          "metadata": {
            "needs_background": "light"
          }
        }
      ]
    },
    {
      "cell_type": "code",
      "metadata": {
        "id": "WMu_eEfx7CSm"
      },
      "source": [
        "# No Major Difference. "
      ],
      "execution_count": null,
      "outputs": []
    },
    {
      "cell_type": "markdown",
      "metadata": {
        "id": "Hqz07cQS7NVk"
      },
      "source": [
        "# Is there any Age difference in having a patient be with status Show / No- Show?"
      ]
    },
    {
      "cell_type": "code",
      "metadata": {
        "colab": {
          "base_uri": "https://localhost:8080/",
          "height": 313
        },
        "id": "PdU4GuOW7Hb7",
        "outputId": "506dd92b-854e-4954-eb31-cbc399c7afc2"
      },
      "source": [
        "df.head()"
      ],
      "execution_count": null,
      "outputs": [
        {
          "output_type": "execute_result",
          "data": {
            "text/html": [
              "<div>\n",
              "<style scoped>\n",
              "    .dataframe tbody tr th:only-of-type {\n",
              "        vertical-align: middle;\n",
              "    }\n",
              "\n",
              "    .dataframe tbody tr th {\n",
              "        vertical-align: top;\n",
              "    }\n",
              "\n",
              "    .dataframe thead th {\n",
              "        text-align: right;\n",
              "    }\n",
              "</style>\n",
              "<table border=\"1\" class=\"dataframe\">\n",
              "  <thead>\n",
              "    <tr style=\"text-align: right;\">\n",
              "      <th></th>\n",
              "      <th>PatientId</th>\n",
              "      <th>AppointmentID</th>\n",
              "      <th>Gender</th>\n",
              "      <th>ScheduledDay</th>\n",
              "      <th>AppointmentDay</th>\n",
              "      <th>Age</th>\n",
              "      <th>Neighbourhood</th>\n",
              "      <th>Scholarship</th>\n",
              "      <th>Hipertension</th>\n",
              "      <th>Diabetes</th>\n",
              "      <th>Alcoholism</th>\n",
              "      <th>Handcap</th>\n",
              "      <th>SMS_received</th>\n",
              "      <th>No-show</th>\n",
              "    </tr>\n",
              "  </thead>\n",
              "  <tbody>\n",
              "    <tr>\n",
              "      <th>0</th>\n",
              "      <td>2.987250e+13</td>\n",
              "      <td>5642903</td>\n",
              "      <td>F</td>\n",
              "      <td>2016-04-29T18:38:08Z</td>\n",
              "      <td>2016-04-29T00:00:00Z</td>\n",
              "      <td>62</td>\n",
              "      <td>JARDIM DA PENHA</td>\n",
              "      <td>0</td>\n",
              "      <td>1</td>\n",
              "      <td>0</td>\n",
              "      <td>0</td>\n",
              "      <td>0</td>\n",
              "      <td>0</td>\n",
              "      <td>No</td>\n",
              "    </tr>\n",
              "    <tr>\n",
              "      <th>1</th>\n",
              "      <td>5.589978e+14</td>\n",
              "      <td>5642503</td>\n",
              "      <td>M</td>\n",
              "      <td>2016-04-29T16:08:27Z</td>\n",
              "      <td>2016-04-29T00:00:00Z</td>\n",
              "      <td>56</td>\n",
              "      <td>JARDIM DA PENHA</td>\n",
              "      <td>0</td>\n",
              "      <td>0</td>\n",
              "      <td>0</td>\n",
              "      <td>0</td>\n",
              "      <td>0</td>\n",
              "      <td>0</td>\n",
              "      <td>No</td>\n",
              "    </tr>\n",
              "    <tr>\n",
              "      <th>2</th>\n",
              "      <td>4.262962e+12</td>\n",
              "      <td>5642549</td>\n",
              "      <td>F</td>\n",
              "      <td>2016-04-29T16:19:04Z</td>\n",
              "      <td>2016-04-29T00:00:00Z</td>\n",
              "      <td>62</td>\n",
              "      <td>MATA DA PRAIA</td>\n",
              "      <td>0</td>\n",
              "      <td>0</td>\n",
              "      <td>0</td>\n",
              "      <td>0</td>\n",
              "      <td>0</td>\n",
              "      <td>0</td>\n",
              "      <td>No</td>\n",
              "    </tr>\n",
              "    <tr>\n",
              "      <th>3</th>\n",
              "      <td>8.679512e+11</td>\n",
              "      <td>5642828</td>\n",
              "      <td>F</td>\n",
              "      <td>2016-04-29T17:29:31Z</td>\n",
              "      <td>2016-04-29T00:00:00Z</td>\n",
              "      <td>8</td>\n",
              "      <td>PONTAL DE CAMBURI</td>\n",
              "      <td>0</td>\n",
              "      <td>0</td>\n",
              "      <td>0</td>\n",
              "      <td>0</td>\n",
              "      <td>0</td>\n",
              "      <td>0</td>\n",
              "      <td>No</td>\n",
              "    </tr>\n",
              "    <tr>\n",
              "      <th>4</th>\n",
              "      <td>8.841186e+12</td>\n",
              "      <td>5642494</td>\n",
              "      <td>F</td>\n",
              "      <td>2016-04-29T16:07:23Z</td>\n",
              "      <td>2016-04-29T00:00:00Z</td>\n",
              "      <td>56</td>\n",
              "      <td>JARDIM DA PENHA</td>\n",
              "      <td>0</td>\n",
              "      <td>1</td>\n",
              "      <td>1</td>\n",
              "      <td>0</td>\n",
              "      <td>0</td>\n",
              "      <td>0</td>\n",
              "      <td>No</td>\n",
              "    </tr>\n",
              "  </tbody>\n",
              "</table>\n",
              "</div>"
            ],
            "text/plain": [
              "      PatientId  AppointmentID Gender  ... Handcap SMS_received  No-show\n",
              "0  2.987250e+13        5642903      F  ...       0            0       No\n",
              "1  5.589978e+14        5642503      M  ...       0            0       No\n",
              "2  4.262962e+12        5642549      F  ...       0            0       No\n",
              "3  8.679512e+11        5642828      F  ...       0            0       No\n",
              "4  8.841186e+12        5642494      F  ...       0            0       No\n",
              "\n",
              "[5 rows x 14 columns]"
            ]
          },
          "metadata": {},
          "execution_count": 18
        }
      ]
    },
    {
      "cell_type": "code",
      "metadata": {
        "colab": {
          "base_uri": "https://localhost:8080/"
        },
        "id": "VaJhIhNT7s-D",
        "outputId": "934cafb3-fb96-42c8-a021-f0d7e8f35f72"
      },
      "source": [
        "ri.Age.unique()"
      ],
      "execution_count": null,
      "outputs": [
        {
          "output_type": "execute_result",
          "data": {
            "text/plain": [
              "array([ 62,  56,   8,  76,  23,  39,  21,  19,  30,  29,  22,  28,  54,\n",
              "        15,  50,  40,  46,   4,  13,  65,  45,  51,  32,  12,  61,  38,\n",
              "        79,  18,  63,  64,  85,  59,  55,  71,  49,  78,  31,  58,  27,\n",
              "         6,   2,  11,   7,   0,   3,   1,  69,  68,  60,  67,  36,  10,\n",
              "        35,  20,  26,  34,  33,  16,  42,   5,  47,  17,  41,  44,  37,\n",
              "        24,  66,  77,  81,  70,  53,  75,  73,  52,  74,  43,  89,  57,\n",
              "        14,   9,  48,  83,  72,  25,  80,  87,  88,  84,  82,  90,  94,\n",
              "        86,  91,  98,  92,  96,  93,  95,  97, 102, 115, 100,  99,  -1])"
            ]
          },
          "metadata": {},
          "execution_count": 20
        }
      ]
    },
    {
      "cell_type": "code",
      "metadata": {
        "colab": {
          "base_uri": "https://localhost:8080/",
          "height": 118
        },
        "id": "0It9kGGQEiI9",
        "outputId": "73100be0-f44d-4357-e1ca-9506a0d300d9"
      },
      "source": [
        "ri.loc[ri.Age==-1]"
      ],
      "execution_count": null,
      "outputs": [
        {
          "output_type": "execute_result",
          "data": {
            "text/html": [
              "<div>\n",
              "<style scoped>\n",
              "    .dataframe tbody tr th:only-of-type {\n",
              "        vertical-align: middle;\n",
              "    }\n",
              "\n",
              "    .dataframe tbody tr th {\n",
              "        vertical-align: top;\n",
              "    }\n",
              "\n",
              "    .dataframe thead th {\n",
              "        text-align: right;\n",
              "    }\n",
              "</style>\n",
              "<table border=\"1\" class=\"dataframe\">\n",
              "  <thead>\n",
              "    <tr style=\"text-align: right;\">\n",
              "      <th></th>\n",
              "      <th>PatientId</th>\n",
              "      <th>AppointmentID</th>\n",
              "      <th>Gender</th>\n",
              "      <th>ScheduledDay</th>\n",
              "      <th>AppointmentDay</th>\n",
              "      <th>Age</th>\n",
              "      <th>Neighbourhood</th>\n",
              "      <th>Scholarship</th>\n",
              "      <th>Hipertension</th>\n",
              "      <th>Diabetes</th>\n",
              "      <th>Alcoholism</th>\n",
              "      <th>Handcap</th>\n",
              "      <th>SMS_received</th>\n",
              "      <th>No-show</th>\n",
              "    </tr>\n",
              "  </thead>\n",
              "  <tbody>\n",
              "    <tr>\n",
              "      <th>99832</th>\n",
              "      <td>4.659432e+14</td>\n",
              "      <td>5775010</td>\n",
              "      <td>F</td>\n",
              "      <td>2016-06-06T08:58:13Z</td>\n",
              "      <td>2016-06-06T00:00:00Z</td>\n",
              "      <td>-1</td>\n",
              "      <td>ROMÃO</td>\n",
              "      <td>0</td>\n",
              "      <td>0</td>\n",
              "      <td>0</td>\n",
              "      <td>0</td>\n",
              "      <td>0</td>\n",
              "      <td>0</td>\n",
              "      <td>No</td>\n",
              "    </tr>\n",
              "  </tbody>\n",
              "</table>\n",
              "</div>"
            ],
            "text/plain": [
              "          PatientId  AppointmentID Gender  ... Handcap SMS_received  No-show\n",
              "99832  4.659432e+14        5775010      F  ...       0            0       No\n",
              "\n",
              "[1 rows x 14 columns]"
            ]
          },
          "metadata": {},
          "execution_count": 21
        }
      ]
    },
    {
      "cell_type": "code",
      "metadata": {
        "id": "M9w5MmxMFIMg"
      },
      "source": [
        "# considering Age -1 , pregnant baby checkup "
      ],
      "execution_count": null,
      "outputs": []
    },
    {
      "cell_type": "code",
      "metadata": {
        "colab": {
          "base_uri": "https://localhost:8080/"
        },
        "id": "8zPEZFpyFRGt",
        "outputId": "ed5423e2-e3a5-4925-be6f-e9b1d6e1aea2"
      },
      "source": [
        "df[df[\"No-show\"]==\"Yes\"].groupby(\"No-show\").Age.value_counts(normalize=True).sort_index()"
      ],
      "execution_count": null,
      "outputs": [
        {
          "output_type": "execute_result",
          "data": {
            "text/plain": [
              "No-show  Age\n",
              "Yes      0      0.028630\n",
              "         1      0.018594\n",
              "         2      0.011291\n",
              "         3      0.012411\n",
              "         4      0.012635\n",
              "                  ...   \n",
              "         95     0.000269\n",
              "         96     0.000045\n",
              "         97     0.000090\n",
              "         98     0.000045\n",
              "         115    0.000134\n",
              "Name: Age, Length: 100, dtype: float64"
            ]
          },
          "metadata": {},
          "execution_count": 21
        }
      ]
    },
    {
      "cell_type": "code",
      "metadata": {
        "colab": {
          "base_uri": "https://localhost:8080/"
        },
        "id": "qMk7t05pF0oO",
        "outputId": "390dc183-a262-4569-98ea-88346a9623a6"
      },
      "source": [
        "df[df[\"No-show\"]==\"No\"].groupby(\"No-show\").Age.value_counts().sort_index()"
      ],
      "execution_count": null,
      "outputs": [
        {
          "output_type": "execute_result",
          "data": {
            "text/plain": [
              "No-show  Age \n",
              "No       -1         1\n",
              "          0      2900\n",
              "          1      1858\n",
              "          2      1366\n",
              "          3      1236\n",
              "                 ... \n",
              "          98        5\n",
              "          99        1\n",
              "          100       4\n",
              "          102       2\n",
              "          115       2\n",
              "Name: Age, Length: 104, dtype: int64"
            ]
          },
          "metadata": {},
          "execution_count": 22
        }
      ]
    },
    {
      "cell_type": "code",
      "metadata": {
        "id": "8exyfEg1HFQr"
      },
      "source": [
        "# Since many age values are present, we can create age category columns "
      ],
      "execution_count": null,
      "outputs": []
    },
    {
      "cell_type": "code",
      "metadata": {
        "id": "OspyyDB7HLgP"
      },
      "source": [
        "def age_category(x):\n",
        "  start_range = (x%10)*10\n",
        "  end_range = start_range + 9\n",
        "  return f\"{start_range}-{end_range}\""
      ],
      "execution_count": null,
      "outputs": []
    },
    {
      "cell_type": "code",
      "metadata": {
        "id": "KAE3C6y4WeMD"
      },
      "source": [
        "df[\"age_category\"] = df.Age.apply(age_category)"
      ],
      "execution_count": null,
      "outputs": []
    },
    {
      "cell_type": "code",
      "metadata": {
        "id": "eNR1hiG3WifJ"
      },
      "source": [
        "# Now we can try to apply the same logic "
      ],
      "execution_count": null,
      "outputs": []
    },
    {
      "cell_type": "code",
      "metadata": {
        "colab": {
          "base_uri": "https://localhost:8080/",
          "height": 297
        },
        "id": "FmH69DY5WqGB",
        "outputId": "21699502-cc6b-4b05-c27f-238c29e6a5c4"
      },
      "source": [
        "df[df[\"No-show\"]==\"Yes\"].groupby(\"No-show\").age_category.value_counts(normalize=True).sort_index().plot()"
      ],
      "execution_count": null,
      "outputs": [
        {
          "output_type": "execute_result",
          "data": {
            "text/plain": [
              "<matplotlib.axes._subplots.AxesSubplot at 0x7fcd2d6d7d10>"
            ]
          },
          "metadata": {},
          "execution_count": 30
        },
        {
          "output_type": "display_data",
          "data": {
            "image/png": "[encoded data removed]",
            "text/plain": [
              "<Figure size 432x288 with 1 Axes>"
            ]
          },
          "metadata": {
            "needs_background": "light"
          }
        }
      ]
    },
    {
      "cell_type": "code",
      "metadata": {
        "colab": {
          "base_uri": "https://localhost:8080/",
          "height": 297
        },
        "id": "ftLMXkmtWu-W",
        "outputId": "5c5bd6b1-f2dd-4bb6-93bc-4ae32ffa831a"
      },
      "source": [
        "df[df[\"No-show\"]==\"No\"].groupby(\"No-show\").age_category.value_counts(normalize=True).sort_index().plot()"
      ],
      "execution_count": null,
      "outputs": [
        {
          "output_type": "execute_result",
          "data": {
            "text/plain": [
              "<matplotlib.axes._subplots.AxesSubplot at 0x7fcd2d72d790>"
            ]
          },
          "metadata": {},
          "execution_count": 31
        },
        {
          "output_type": "display_data",
          "data": {
            "image/png": "[encoded data removed]",
            "text/plain": [
              "<Figure size 432x288 with 1 Axes>"
            ]
          },
          "metadata": {
            "needs_background": "light"
          }
        }
      ]
    },
    {
      "cell_type": "code",
      "metadata": {
        "colab": {
          "base_uri": "https://localhost:8080/",
          "height": 302
        },
        "id": "RlO5y1-LV_yX",
        "outputId": "27393472-3ff1-42da-b23d-d2b4e40081e1"
      },
      "source": [
        "df.groupby(\"No-show\").age_category.value_counts(normalize=True).unstack().plot(kind='bar')"
      ],
      "execution_count": null,
      "outputs": [
        {
          "output_type": "execute_result",
          "data": {
            "text/plain": [
              "<matplotlib.axes._subplots.AxesSubplot at 0x7fcc394d9b10>"
            ]
          },
          "metadata": {},
          "execution_count": 246
        },
        {
          "output_type": "display_data",
          "data": {
            "image/png": "[encoded data removed]",
            "text/plain": [
              "<Figure size 432x288 with 1 Axes>"
            ]
          },
          "metadata": {
            "needs_background": "light"
          }
        }
      ]
    },
    {
      "cell_type": "code",
      "metadata": {
        "colab": {
          "base_uri": "https://localhost:8080/",
          "height": 346
        },
        "id": "fTlYgOELWyGm",
        "outputId": "d277dd45-858f-497b-d07e-93290fbce4cd"
      },
      "source": [
        "df[df[\"No-show\"]==\"Yes\"].groupby(\"No-show\").age_category.value_counts(normalize=True).sort_index().plot(kind='bar')"
      ],
      "execution_count": null,
      "outputs": [
        {
          "output_type": "execute_result",
          "data": {
            "text/plain": [
              "<matplotlib.axes._subplots.AxesSubplot at 0x7fcd2d5cc8d0>"
            ]
          },
          "metadata": {},
          "execution_count": 32
        },
        {
          "output_type": "display_data",
          "data": {
            "image/png": "[encoded data removed]",
            "text/plain": [
              "<Figure size 432x288 with 1 Axes>"
            ]
          },
          "metadata": {
            "needs_background": "light"
          }
        }
      ]
    },
    {
      "cell_type": "code",
      "metadata": {
        "colab": {
          "base_uri": "https://localhost:8080/",
          "height": 344
        },
        "id": "rIgZEUmKXF-u",
        "outputId": "b2423ac9-9f44-417f-d031-69d4f5c850d3"
      },
      "source": [
        "df[df[\"No-show\"]==\"No\"].groupby(\"No-show\").age_category.value_counts(normalize=True).sort_index().plot(kind='bar')"
      ],
      "execution_count": null,
      "outputs": [
        {
          "output_type": "execute_result",
          "data": {
            "text/plain": [
              "<matplotlib.axes._subplots.AxesSubplot at 0x7fcd2d26f4d0>"
            ]
          },
          "metadata": {},
          "execution_count": 37
        },
        {
          "output_type": "display_data",
          "data": {
            "image/png": "[encoded data removed]",
            "text/plain": [
              "<Figure size 432x288 with 1 Axes>"
            ]
          },
          "metadata": {
            "needs_background": "light"
          }
        }
      ]
    },
    {
      "cell_type": "code",
      "metadata": {
        "colab": {
          "base_uri": "https://localhost:8080/",
          "height": 370
        },
        "id": "O--syE3PXJz8",
        "outputId": "42ec347e-893f-4b4b-b42e-6c1fe5e7787a"
      },
      "source": [
        "df.groupby(df.age_category)[\"No-show\"].value_counts(normalize=True).sort_index().unstack().plot(kind='bar', figsize=(10, 5))"
      ],
      "execution_count": null,
      "outputs": [
        {
          "output_type": "execute_result",
          "data": {
            "text/plain": [
              "<matplotlib.axes._subplots.AxesSubplot at 0x7fcc39436250>"
            ]
          },
          "metadata": {},
          "execution_count": 248
        },
        {
          "output_type": "display_data",
          "data": {
            "image/png": "[encoded data removed]",
            "text/plain": [
              "<Figure size 720x360 with 1 Axes>"
            ]
          },
          "metadata": {
            "needs_background": "light"
          }
        }
      ]
    },
    {
      "cell_type": "code",
      "metadata": {
        "colab": {
          "base_uri": "https://localhost:8080/",
          "height": 337
        },
        "id": "XTXtkiMQcAsD",
        "outputId": "1aec71be-6620-4bd8-d61f-e04fc7a883d4"
      },
      "source": [
        "df.groupby(df.age_category)[\"No-show\"].value_counts(normalize=True).sort_index().plot(kind='barh', figsize=(10, 5))"
      ],
      "execution_count": null,
      "outputs": [
        {
          "output_type": "execute_result",
          "data": {
            "text/plain": [
              "<matplotlib.axes._subplots.AxesSubplot at 0x7fcd2c4f9c10>"
            ]
          },
          "metadata": {},
          "execution_count": 64
        },
        {
          "output_type": "display_data",
          "data": {
            "image/png": "[encoded data removed]",
            "text/plain": [
              "<Figure size 720x360 with 1 Axes>"
            ]
          },
          "metadata": {
            "needs_background": "light"
          }
        }
      ]
    },
    {
      "cell_type": "code",
      "metadata": {
        "id": "ZPd8PTagXf2w"
      },
      "source": [
        "# In All age category, people who have shown is less than not shown. Almost Its Same for people who have shown and not shown "
      ],
      "execution_count": null,
      "outputs": []
    },
    {
      "cell_type": "markdown",
      "metadata": {
        "id": "UyOuaTMGaBVs"
      },
      "source": [
        "## Is there any Age difference along with Gender difference with the status of Show / NoShow?"
      ]
    },
    {
      "cell_type": "code",
      "metadata": {
        "colab": {
          "base_uri": "https://localhost:8080/",
          "height": 370
        },
        "id": "T6zi5mz2Ymg2",
        "outputId": "15d0ce10-4e61-413a-e4e8-e5ff472e95ae"
      },
      "source": [
        "df[df.Gender==\"M\"].groupby(df.age_category)[\"No-show\"].value_counts(normalize=True).sort_index().unstack().plot(kind='bar', figsize=(10, 5))"
      ],
      "execution_count": null,
      "outputs": [
        {
          "output_type": "execute_result",
          "data": {
            "text/plain": [
              "<matplotlib.axes._subplots.AxesSubplot at 0x7fcd2c4e6a90>"
            ]
          },
          "metadata": {},
          "execution_count": 65
        },
        {
          "output_type": "display_data",
          "data": {
            "image/png": "[encoded data removed]",
            "text/plain": [
              "<Figure size 720x360 with 1 Axes>"
            ]
          },
          "metadata": {
            "needs_background": "light"
          }
        }
      ]
    },
    {
      "cell_type": "code",
      "metadata": {
        "colab": {
          "base_uri": "https://localhost:8080/",
          "height": 370
        },
        "id": "x4tzdCcxaezM",
        "outputId": "593530e0-cb2b-4f69-c64c-1aefff1f2507"
      },
      "source": [
        "df[df.Gender==\"F\"].groupby(df.age_category)[\"No-show\"].value_counts(normalize=True).sort_index().unstack().plot(kind='bar', figsize=(10, 5))"
      ],
      "execution_count": null,
      "outputs": [
        {
          "output_type": "execute_result",
          "data": {
            "text/plain": [
              "<matplotlib.axes._subplots.AxesSubplot at 0x7fcd2c3f5a10>"
            ]
          },
          "metadata": {},
          "execution_count": 66
        },
        {
          "output_type": "display_data",
          "data": {
            "image/png": "[encoded data removed]",
            "text/plain": [
              "<Figure size 720x360 with 1 Axes>"
            ]
          },
          "metadata": {
            "needs_background": "light"
          }
        }
      ]
    },
    {
      "cell_type": "code",
      "metadata": {
        "colab": {
          "base_uri": "https://localhost:8080/",
          "height": 393
        },
        "id": "CZxpy54Ba9uw",
        "outputId": "62d3312f-1dda-4125-e2a6-21480e2c321b"
      },
      "source": [
        "df.groupby([df.Gender, df.age_category])[\"No-show\"].value_counts(normalize=True).sort_index().unstack().plot(kind='bar', figsize=(20, 5))"
      ],
      "execution_count": null,
      "outputs": [
        {
          "output_type": "execute_result",
          "data": {
            "text/plain": [
              "<matplotlib.axes._subplots.AxesSubplot at 0x7fcd2c2d6350>"
            ]
          },
          "metadata": {},
          "execution_count": 67
        },
        {
          "output_type": "display_data",
          "data": {
            "image/png": "[encoded data removed]",
            "text/plain": [
              "<Figure size 1440x360 with 1 Axes>"
            ]
          },
          "metadata": {
            "needs_background": "light"
          }
        }
      ]
    },
    {
      "cell_type": "code",
      "metadata": {
        "id": "0dQ50-VLeMlW"
      },
      "source": [
        "# Almost Same \n"
      ],
      "execution_count": null,
      "outputs": []
    },
    {
      "cell_type": "markdown",
      "metadata": {
        "id": "1h8CsEVOexW3"
      },
      "source": [
        "## On which weekday/day/month maximum appointments are getting finalized with Show status?"
      ]
    },
    {
      "cell_type": "markdown",
      "metadata": {
        "id": "3g_hjKB0xnwX"
      },
      "source": [
        "Week Day\n"
      ]
    },
    {
      "cell_type": "code",
      "metadata": {
        "colab": {
          "base_uri": "https://localhost:8080/"
        },
        "id": "tBzZwop7eqfw",
        "outputId": "93ea9020-3575-4b51-af01-9632fd8570a5"
      },
      "source": [
        "df.columns"
      ],
      "execution_count": null,
      "outputs": [
        {
          "output_type": "execute_result",
          "data": {
            "text/plain": [
              "Index(['PatientId', 'AppointmentID', 'Gender', 'ScheduledDay',\n",
              "       'AppointmentDay', 'Age', 'Neighbourhood', 'Scholarship', 'Hipertension',\n",
              "       'Diabetes', 'Alcoholism', 'Handcap', 'SMS_received', 'No-show',\n",
              "       'age_category'],\n",
              "      dtype='object')"
            ]
          },
          "metadata": {},
          "execution_count": 72
        }
      ]
    },
    {
      "cell_type": "code",
      "metadata": {
        "colab": {
          "base_uri": "https://localhost:8080/",
          "height": 313
        },
        "id": "rH70MCIOezIm",
        "outputId": "c1b56a5a-62a0-44bd-ecca-fd3ff9ad8025"
      },
      "source": [
        "df.head()"
      ],
      "execution_count": null,
      "outputs": [
        {
          "output_type": "execute_result",
          "data": {
            "text/html": [
              "<div>\n",
              "<style scoped>\n",
              "    .dataframe tbody tr th:only-of-type {\n",
              "        vertical-align: middle;\n",
              "    }\n",
              "\n",
              "    .dataframe tbody tr th {\n",
              "        vertical-align: top;\n",
              "    }\n",
              "\n",
              "    .dataframe thead th {\n",
              "        text-align: right;\n",
              "    }\n",
              "</style>\n",
              "<table border=\"1\" class=\"dataframe\">\n",
              "  <thead>\n",
              "    <tr style=\"text-align: right;\">\n",
              "      <th></th>\n",
              "      <th>PatientId</th>\n",
              "      <th>AppointmentID</th>\n",
              "      <th>Gender</th>\n",
              "      <th>ScheduledDay</th>\n",
              "      <th>AppointmentDay</th>\n",
              "      <th>Age</th>\n",
              "      <th>Neighbourhood</th>\n",
              "      <th>Scholarship</th>\n",
              "      <th>Hipertension</th>\n",
              "      <th>Diabetes</th>\n",
              "      <th>Alcoholism</th>\n",
              "      <th>Handcap</th>\n",
              "      <th>SMS_received</th>\n",
              "      <th>No-show</th>\n",
              "      <th>age_category</th>\n",
              "    </tr>\n",
              "  </thead>\n",
              "  <tbody>\n",
              "    <tr>\n",
              "      <th>0</th>\n",
              "      <td>2.987250e+13</td>\n",
              "      <td>5642903</td>\n",
              "      <td>F</td>\n",
              "      <td>2016-04-29T18:38:08Z</td>\n",
              "      <td>2016-04-29T00:00:00Z</td>\n",
              "      <td>62</td>\n",
              "      <td>JARDIM DA PENHA</td>\n",
              "      <td>0</td>\n",
              "      <td>1</td>\n",
              "      <td>0</td>\n",
              "      <td>0</td>\n",
              "      <td>0</td>\n",
              "      <td>0</td>\n",
              "      <td>No</td>\n",
              "      <td>20-29</td>\n",
              "    </tr>\n",
              "    <tr>\n",
              "      <th>1</th>\n",
              "      <td>5.589978e+14</td>\n",
              "      <td>5642503</td>\n",
              "      <td>M</td>\n",
              "      <td>2016-04-29T16:08:27Z</td>\n",
              "      <td>2016-04-29T00:00:00Z</td>\n",
              "      <td>56</td>\n",
              "      <td>JARDIM DA PENHA</td>\n",
              "      <td>0</td>\n",
              "      <td>0</td>\n",
              "      <td>0</td>\n",
              "      <td>0</td>\n",
              "      <td>0</td>\n",
              "      <td>0</td>\n",
              "      <td>No</td>\n",
              "      <td>60-69</td>\n",
              "    </tr>\n",
              "    <tr>\n",
              "      <th>2</th>\n",
              "      <td>4.262962e+12</td>\n",
              "      <td>5642549</td>\n",
              "      <td>F</td>\n",
              "      <td>2016-04-29T16:19:04Z</td>\n",
              "      <td>2016-04-29T00:00:00Z</td>\n",
              "      <td>62</td>\n",
              "      <td>MATA DA PRAIA</td>\n",
              "      <td>0</td>\n",
              "      <td>0</td>\n",
              "      <td>0</td>\n",
              "      <td>0</td>\n",
              "      <td>0</td>\n",
              "      <td>0</td>\n",
              "      <td>No</td>\n",
              "      <td>20-29</td>\n",
              "    </tr>\n",
              "    <tr>\n",
              "      <th>3</th>\n",
              "      <td>8.679512e+11</td>\n",
              "      <td>5642828</td>\n",
              "      <td>F</td>\n",
              "      <td>2016-04-29T17:29:31Z</td>\n",
              "      <td>2016-04-29T00:00:00Z</td>\n",
              "      <td>8</td>\n",
              "      <td>PONTAL DE CAMBURI</td>\n",
              "      <td>0</td>\n",
              "      <td>0</td>\n",
              "      <td>0</td>\n",
              "      <td>0</td>\n",
              "      <td>0</td>\n",
              "      <td>0</td>\n",
              "      <td>No</td>\n",
              "      <td>80-89</td>\n",
              "    </tr>\n",
              "    <tr>\n",
              "      <th>4</th>\n",
              "      <td>8.841186e+12</td>\n",
              "      <td>5642494</td>\n",
              "      <td>F</td>\n",
              "      <td>2016-04-29T16:07:23Z</td>\n",
              "      <td>2016-04-29T00:00:00Z</td>\n",
              "      <td>56</td>\n",
              "      <td>JARDIM DA PENHA</td>\n",
              "      <td>0</td>\n",
              "      <td>1</td>\n",
              "      <td>1</td>\n",
              "      <td>0</td>\n",
              "      <td>0</td>\n",
              "      <td>0</td>\n",
              "      <td>No</td>\n",
              "      <td>60-69</td>\n",
              "    </tr>\n",
              "  </tbody>\n",
              "</table>\n",
              "</div>"
            ],
            "text/plain": [
              "      PatientId  AppointmentID Gender  ... SMS_received No-show  age_category\n",
              "0  2.987250e+13        5642903      F  ...            0      No         20-29\n",
              "1  5.589978e+14        5642503      M  ...            0      No         60-69\n",
              "2  4.262962e+12        5642549      F  ...            0      No         20-29\n",
              "3  8.679512e+11        5642828      F  ...            0      No         80-89\n",
              "4  8.841186e+12        5642494      F  ...            0      No         60-69\n",
              "\n",
              "[5 rows x 15 columns]"
            ]
          },
          "metadata": {},
          "execution_count": 73
        }
      ]
    },
    {
      "cell_type": "code",
      "metadata": {
        "colab": {
          "base_uri": "https://localhost:8080/"
        },
        "id": "GpzaWf8se3_j",
        "outputId": "95cfab72-c0d0-482f-afca-ced50c2830f2"
      },
      "source": [
        "df.ScheduledDay.isnull().sum()"
      ],
      "execution_count": null,
      "outputs": [
        {
          "output_type": "execute_result",
          "data": {
            "text/plain": [
              "0"
            ]
          },
          "metadata": {},
          "execution_count": 75
        }
      ]
    },
    {
      "cell_type": "code",
      "metadata": {
        "id": "w2FcofBWfN5H"
      },
      "source": [
        "df.ScheduledDay = pd.to_datetime(df.ScheduledDay)"
      ],
      "execution_count": null,
      "outputs": []
    },
    {
      "cell_type": "code",
      "metadata": {
        "colab": {
          "base_uri": "https://localhost:8080/",
          "height": 282
        },
        "id": "jUwE94eAq_5e",
        "outputId": "ec4bc666-6317-4a85-9af9-9850ab044a8b"
      },
      "source": [
        "df[df[\"No-show\"] == \"Yes\"].ScheduledDay.dt.weekday.value_counts().sort_index().plot()"
      ],
      "execution_count": null,
      "outputs": [
        {
          "output_type": "execute_result",
          "data": {
            "text/plain": [
              "<matplotlib.axes._subplots.AxesSubplot at 0x7fcd2e820b90>"
            ]
          },
          "metadata": {},
          "execution_count": 82
        },
        {
          "output_type": "display_data",
          "data": {
            "image/png": "[encoded data removed]",
            "text/plain": [
              "<Figure size 432x288 with 1 Axes>"
            ]
          },
          "metadata": {
            "needs_background": "light"
          }
        }
      ]
    },
    {
      "cell_type": "code",
      "metadata": {
        "colab": {
          "base_uri": "https://localhost:8080/",
          "height": 279
        },
        "id": "el8ujJBFrNhd",
        "outputId": "9534291e-19d9-46a0-c096-5a295871a7cd"
      },
      "source": [
        "df[df[\"No-show\"] == \"Yes\"].ScheduledDay.dt.weekday.value_counts().sort_index().plot()"
      ],
      "execution_count": null,
      "outputs": [
        {
          "output_type": "execute_result",
          "data": {
            "text/plain": [
              "<matplotlib.axes._subplots.AxesSubplot at 0x7fcd2bb81d10>"
            ]
          },
          "metadata": {},
          "execution_count": 83
        },
        {
          "output_type": "display_data",
          "data": {
            "image/png": "[encoded data removed]",
            "text/plain": [
              "<Figure size 432x288 with 1 Axes>"
            ]
          },
          "metadata": {
            "needs_background": "light"
          }
        }
      ]
    },
    {
      "cell_type": "code",
      "metadata": {
        "id": "2Ssh11RWugTc"
      },
      "source": [
        "x_graph_data = df[df[\"No-show\"] == \"Yes\"].ScheduledDay.dt.weekday.value_counts().sort_index().values"
      ],
      "execution_count": null,
      "outputs": []
    },
    {
      "cell_type": "code",
      "metadata": {
        "id": "zUYiFugYvAQh"
      },
      "source": [
        "x_graph_data = np.append(x_graph_data, 0.0).tolist()"
      ],
      "execution_count": null,
      "outputs": []
    },
    {
      "cell_type": "code",
      "metadata": {
        "colab": {
          "base_uri": "https://localhost:8080/",
          "height": 265
        },
        "id": "gKo_MpsvsXqI",
        "outputId": "cb1aec66-6fe4-4a20-bbbf-f27acf8b2aa4"
      },
      "source": [
        "import matplotlib.pyplot as plt\n",
        "x_graph_labels = [\"Sunday\", \"Monday\", \"Tuesday\", \"Wednesday\", \"Thursday\", \"Friday\", \"Saturday\"]\n",
        "plt.barh(x_graph_labels, x_graph_data)\n",
        "\n",
        "for index, value in enumerate(x_graph_data):\n",
        "    plt.text(value, index, str(round(value, 5)))\n",
        "\n",
        "plt.show()"
      ],
      "execution_count": null,
      "outputs": [
        {
          "output_type": "display_data",
          "data": {
            "image/png": "[encoded data removed]",
            "text/plain": [
              "<Figure size 432x288 with 1 Axes>"
            ]
          },
          "metadata": {
            "needs_background": "light"
          }
        }
      ]
    },
    {
      "cell_type": "markdown",
      "metadata": {
        "id": "rLjrpyACxzmo"
      },
      "source": [
        "Month"
      ]
    },
    {
      "cell_type": "code",
      "metadata": {
        "colab": {
          "base_uri": "https://localhost:8080/",
          "height": 282
        },
        "id": "-b7JkMy5u5sY",
        "outputId": "574752b6-c8a7-4fcd-f699-32c02c4a5aea"
      },
      "source": [
        "df[df[\"No-show\"] == \"Yes\"].ScheduledDay.dt.month.value_counts(normalize=True).sort_index().plot()"
      ],
      "execution_count": null,
      "outputs": [
        {
          "output_type": "execute_result",
          "data": {
            "text/plain": [
              "<matplotlib.axes._subplots.AxesSubplot at 0x7fcd2ba502d0>"
            ]
          },
          "metadata": {},
          "execution_count": 116
        },
        {
          "output_type": "display_data",
          "data": {
            "image/png": "[encoded data removed]",
            "text/plain": [
              "<Figure size 432x288 with 1 Axes>"
            ]
          },
          "metadata": {
            "needs_background": "light"
          }
        }
      ]
    },
    {
      "cell_type": "code",
      "metadata": {
        "id": "lZl20Z68x4dh"
      },
      "source": [
        "month_data = df[df[\"No-show\"] == \"Yes\"].ScheduledDay.dt.month.value_counts(normalize=True).sort_index()"
      ],
      "execution_count": null,
      "outputs": []
    },
    {
      "cell_type": "code",
      "metadata": {
        "id": "IKwrWCJ3yBEp"
      },
      "source": [
        "months = list(range(1, 13))"
      ],
      "execution_count": null,
      "outputs": []
    },
    {
      "cell_type": "code",
      "metadata": {
        "id": "N7FZDgrRyQP7"
      },
      "source": [
        "month_dict = {}\n",
        "for m, item in month_data.items():\n",
        "  month_dict[m] = item"
      ],
      "execution_count": null,
      "outputs": []
    },
    {
      "cell_type": "code",
      "metadata": {
        "id": "gjaMCnCZynYP"
      },
      "source": [
        "month_show_yes = [month_dict.get(x, 0) for x in months]"
      ],
      "execution_count": null,
      "outputs": []
    },
    {
      "cell_type": "code",
      "metadata": {
        "id": "R3PFfHa8zA17"
      },
      "source": [
        "month_show_data = pd.DataFrame(\n",
        "    { 'month' : months , 'show_yes' : month_show_yes })"
      ],
      "execution_count": null,
      "outputs": []
    },
    {
      "cell_type": "code",
      "metadata": {
        "colab": {
          "base_uri": "https://localhost:8080/",
          "height": 296
        },
        "id": "af34syijzKiV",
        "outputId": "faed7370-ece8-4f1b-80d3-c597d6fe4600"
      },
      "source": [
        "month_show_data.plot(\"month\", \"show_yes\")"
      ],
      "execution_count": null,
      "outputs": [
        {
          "output_type": "execute_result",
          "data": {
            "text/plain": [
              "<matplotlib.axes._subplots.AxesSubplot at 0x7fcd2b532410>"
            ]
          },
          "metadata": {},
          "execution_count": 138
        },
        {
          "output_type": "display_data",
          "data": {
            "image/png": "[encoded data removed]",
            "text/plain": [
              "<Figure size 432x288 with 1 Axes>"
            ]
          },
          "metadata": {
            "needs_background": "light"
          }
        }
      ]
    },
    {
      "cell_type": "markdown",
      "metadata": {
        "id": "z-r7gK5c0bQn"
      },
      "source": [
        "DAY"
      ]
    },
    {
      "cell_type": "code",
      "metadata": {
        "colab": {
          "base_uri": "https://localhost:8080/",
          "height": 337
        },
        "id": "Stba9i1i0FBC",
        "outputId": "37bbe57a-0471-4a62-b799-c6bb22af5cf1"
      },
      "source": [
        "df[df[\"No-show\"] == \"Yes\"].ScheduledDay.dt.day.value_counts(normalize=True).sort_index().plot(figsize=(20, 5))"
      ],
      "execution_count": null,
      "outputs": [
        {
          "output_type": "execute_result",
          "data": {
            "text/plain": [
              "<matplotlib.axes._subplots.AxesSubplot at 0x7fcd2b27ff10>"
            ]
          },
          "metadata": {},
          "execution_count": 142
        },
        {
          "output_type": "display_data",
          "data": {
            "image/png": "[encoded data removed]",
            "text/plain": [
              "<Figure size 1440x360 with 1 Axes>"
            ]
          },
          "metadata": {
            "needs_background": "light"
          }
        }
      ]
    },
    {
      "cell_type": "code",
      "metadata": {
        "colab": {
          "base_uri": "https://localhost:8080/",
          "height": 339
        },
        "id": "_dD8fV-80yf2",
        "outputId": "2784791b-71f5-4d51-efbc-f5602fd4f61a"
      },
      "source": [
        "df[df[\"No-show\"] == \"Yes\"].ScheduledDay.dt.day.value_counts(normalize=True).sort_index().plot(kind='bar', figsize=(20, 5))"
      ],
      "execution_count": null,
      "outputs": [
        {
          "output_type": "execute_result",
          "data": {
            "text/plain": [
              "<matplotlib.axes._subplots.AxesSubplot at 0x7fcd2b34d6d0>"
            ]
          },
          "metadata": {},
          "execution_count": 141
        },
        {
          "output_type": "display_data",
          "data": {
            "image/png": "[encoded data removed]",
            "text/plain": [
              "<Figure size 1440x360 with 1 Axes>"
            ]
          },
          "metadata": {
            "needs_background": "light"
          }
        }
      ]
    },
    {
      "cell_type": "markdown",
      "metadata": {
        "id": "GkkLPbnB1ViD"
      },
      "source": [
        "## 5. Is there any specific medical condition that is driving the patient(Male/Female) to go for the doctor's appointment?"
      ]
    },
    {
      "cell_type": "code",
      "metadata": {
        "colab": {
          "base_uri": "https://localhost:8080/",
          "height": 330
        },
        "id": "iKHWQw1e06PO",
        "outputId": "9a199400-9926-474e-d579-b3ffb8a60825"
      },
      "source": [
        "df.head()"
      ],
      "execution_count": null,
      "outputs": [
        {
          "output_type": "execute_result",
          "data": {
            "text/html": [
              "<div>\n",
              "<style scoped>\n",
              "    .dataframe tbody tr th:only-of-type {\n",
              "        vertical-align: middle;\n",
              "    }\n",
              "\n",
              "    .dataframe tbody tr th {\n",
              "        vertical-align: top;\n",
              "    }\n",
              "\n",
              "    .dataframe thead th {\n",
              "        text-align: right;\n",
              "    }\n",
              "</style>\n",
              "<table border=\"1\" class=\"dataframe\">\n",
              "  <thead>\n",
              "    <tr style=\"text-align: right;\">\n",
              "      <th></th>\n",
              "      <th>PatientId</th>\n",
              "      <th>AppointmentID</th>\n",
              "      <th>Gender</th>\n",
              "      <th>ScheduledDay</th>\n",
              "      <th>AppointmentDay</th>\n",
              "      <th>Age</th>\n",
              "      <th>Neighbourhood</th>\n",
              "      <th>Scholarship</th>\n",
              "      <th>Hipertension</th>\n",
              "      <th>Diabetes</th>\n",
              "      <th>Alcoholism</th>\n",
              "      <th>Handcap</th>\n",
              "      <th>SMS_received</th>\n",
              "      <th>No-show</th>\n",
              "      <th>age_category</th>\n",
              "    </tr>\n",
              "  </thead>\n",
              "  <tbody>\n",
              "    <tr>\n",
              "      <th>0</th>\n",
              "      <td>2.987250e+13</td>\n",
              "      <td>5642903</td>\n",
              "      <td>F</td>\n",
              "      <td>2016-04-29 18:38:08+00:00</td>\n",
              "      <td>2016-04-29T00:00:00Z</td>\n",
              "      <td>62</td>\n",
              "      <td>JARDIM DA PENHA</td>\n",
              "      <td>0</td>\n",
              "      <td>1</td>\n",
              "      <td>0</td>\n",
              "      <td>0</td>\n",
              "      <td>0</td>\n",
              "      <td>0</td>\n",
              "      <td>No</td>\n",
              "      <td>20-29</td>\n",
              "    </tr>\n",
              "    <tr>\n",
              "      <th>1</th>\n",
              "      <td>5.589978e+14</td>\n",
              "      <td>5642503</td>\n",
              "      <td>M</td>\n",
              "      <td>2016-04-29 16:08:27+00:00</td>\n",
              "      <td>2016-04-29T00:00:00Z</td>\n",
              "      <td>56</td>\n",
              "      <td>JARDIM DA PENHA</td>\n",
              "      <td>0</td>\n",
              "      <td>0</td>\n",
              "      <td>0</td>\n",
              "      <td>0</td>\n",
              "      <td>0</td>\n",
              "      <td>0</td>\n",
              "      <td>No</td>\n",
              "      <td>60-69</td>\n",
              "    </tr>\n",
              "    <tr>\n",
              "      <th>2</th>\n",
              "      <td>4.262962e+12</td>\n",
              "      <td>5642549</td>\n",
              "      <td>F</td>\n",
              "      <td>2016-04-29 16:19:04+00:00</td>\n",
              "      <td>2016-04-29T00:00:00Z</td>\n",
              "      <td>62</td>\n",
              "      <td>MATA DA PRAIA</td>\n",
              "      <td>0</td>\n",
              "      <td>0</td>\n",
              "      <td>0</td>\n",
              "      <td>0</td>\n",
              "      <td>0</td>\n",
              "      <td>0</td>\n",
              "      <td>No</td>\n",
              "      <td>20-29</td>\n",
              "    </tr>\n",
              "    <tr>\n",
              "      <th>3</th>\n",
              "      <td>8.679512e+11</td>\n",
              "      <td>5642828</td>\n",
              "      <td>F</td>\n",
              "      <td>2016-04-29 17:29:31+00:00</td>\n",
              "      <td>2016-04-29T00:00:00Z</td>\n",
              "      <td>8</td>\n",
              "      <td>PONTAL DE CAMBURI</td>\n",
              "      <td>0</td>\n",
              "      <td>0</td>\n",
              "      <td>0</td>\n",
              "      <td>0</td>\n",
              "      <td>0</td>\n",
              "      <td>0</td>\n",
              "      <td>No</td>\n",
              "      <td>80-89</td>\n",
              "    </tr>\n",
              "    <tr>\n",
              "      <th>4</th>\n",
              "      <td>8.841186e+12</td>\n",
              "      <td>5642494</td>\n",
              "      <td>F</td>\n",
              "      <td>2016-04-29 16:07:23+00:00</td>\n",
              "      <td>2016-04-29T00:00:00Z</td>\n",
              "      <td>56</td>\n",
              "      <td>JARDIM DA PENHA</td>\n",
              "      <td>0</td>\n",
              "      <td>1</td>\n",
              "      <td>1</td>\n",
              "      <td>0</td>\n",
              "      <td>0</td>\n",
              "      <td>0</td>\n",
              "      <td>No</td>\n",
              "      <td>60-69</td>\n",
              "    </tr>\n",
              "  </tbody>\n",
              "</table>\n",
              "</div>"
            ],
            "text/plain": [
              "      PatientId  AppointmentID Gender  ... SMS_received No-show  age_category\n",
              "0  2.987250e+13        5642903      F  ...            0      No         20-29\n",
              "1  5.589978e+14        5642503      M  ...            0      No         60-69\n",
              "2  4.262962e+12        5642549      F  ...            0      No         20-29\n",
              "3  8.679512e+11        5642828      F  ...            0      No         80-89\n",
              "4  8.841186e+12        5642494      F  ...            0      No         60-69\n",
              "\n",
              "[5 rows x 15 columns]"
            ]
          },
          "metadata": {},
          "execution_count": 143
        }
      ]
    },
    {
      "cell_type": "code",
      "metadata": {
        "id": "hdh2N13H1bBm"
      },
      "source": [
        "# We need to find the correlation between No-Show and All MEdical Condition"
      ],
      "execution_count": null,
      "outputs": []
    },
    {
      "cell_type": "code",
      "metadata": {
        "colab": {
          "base_uri": "https://localhost:8080/"
        },
        "id": "jovaQE3B32Bl",
        "outputId": "bc20429d-be98-4c10-f505-e4dc16006ab2"
      },
      "source": [
        "df.Hipertension.isnull().sum()"
      ],
      "execution_count": null,
      "outputs": [
        {
          "output_type": "execute_result",
          "data": {
            "text/plain": [
              "0"
            ]
          },
          "metadata": {},
          "execution_count": 147
        }
      ]
    },
    {
      "cell_type": "code",
      "metadata": {
        "colab": {
          "base_uri": "https://localhost:8080/"
        },
        "id": "UgV0UiNQ7Bvg",
        "outputId": "31c6f9c0-ade3-4cfb-daca-321ba9cdfb32"
      },
      "source": [
        "df.Diabetes.isnull().sum()"
      ],
      "execution_count": null,
      "outputs": [
        {
          "output_type": "execute_result",
          "data": {
            "text/plain": [
              "0"
            ]
          },
          "metadata": {},
          "execution_count": 148
        }
      ]
    },
    {
      "cell_type": "code",
      "metadata": {
        "colab": {
          "base_uri": "https://localhost:8080/"
        },
        "id": "JV2ufzlt7HYA",
        "outputId": "61cde971-e7ec-42cd-d9cc-028116f9d51a"
      },
      "source": [
        "df.Alcoholism.isnull().sum()"
      ],
      "execution_count": null,
      "outputs": [
        {
          "output_type": "execute_result",
          "data": {
            "text/plain": [
              "0"
            ]
          },
          "metadata": {},
          "execution_count": 149
        }
      ]
    },
    {
      "cell_type": "code",
      "metadata": {
        "colab": {
          "base_uri": "https://localhost:8080/"
        },
        "id": "RPxUrK-g7Lzr",
        "outputId": "07eb4e6e-0e02-4feb-f1e2-d4a943df38f4"
      },
      "source": [
        "df.Handcap.isnull().sum()"
      ],
      "execution_count": null,
      "outputs": [
        {
          "output_type": "execute_result",
          "data": {
            "text/plain": [
              "0"
            ]
          },
          "metadata": {},
          "execution_count": 150
        }
      ]
    },
    {
      "cell_type": "code",
      "metadata": {
        "colab": {
          "base_uri": "https://localhost:8080/"
        },
        "id": "Jbcg8L8H7Q8u",
        "outputId": "3b70f3d1-b54c-4a7b-cb12-ade86ea8b81c"
      },
      "source": [
        "df.Gender.isnull().sum()"
      ],
      "execution_count": null,
      "outputs": [
        {
          "output_type": "execute_result",
          "data": {
            "text/plain": [
              "0"
            ]
          },
          "metadata": {},
          "execution_count": 151
        }
      ]
    },
    {
      "cell_type": "code",
      "metadata": {
        "id": "0H2jTlIg7ZB_"
      },
      "source": [
        "df[\"gender_binary\"]  = df.Gender.replace({\"M\":1, \"F\":2})"
      ],
      "execution_count": null,
      "outputs": []
    },
    {
      "cell_type": "code",
      "metadata": {
        "id": "usRTxl969ZsW"
      },
      "source": [
        "people_showing_up = df.loc[df[\"No-show\"]==\"Yes\"]"
      ],
      "execution_count": null,
      "outputs": []
    },
    {
      "cell_type": "code",
      "metadata": {
        "colab": {
          "base_uri": "https://localhost:8080/",
          "height": 206
        },
        "id": "dLK3tbAU-_9J",
        "outputId": "6e498e48-1806-4ec7-ce93-a236aa72d5a7"
      },
      "source": [
        "people_showing_up[[\"gender_binary\", \"Hipertension\", \"Diabetes\", \"Alcoholism\", \"Handcap\"]].corr()\n",
        "# Here correlation, gender_binary is high with Hipertension and Diabetes"
      ],
      "execution_count": null,
      "outputs": [
        {
          "output_type": "execute_result",
          "data": {
            "text/html": [
              "<div>\n",
              "<style scoped>\n",
              "    .dataframe tbody tr th:only-of-type {\n",
              "        vertical-align: middle;\n",
              "    }\n",
              "\n",
              "    .dataframe tbody tr th {\n",
              "        vertical-align: top;\n",
              "    }\n",
              "\n",
              "    .dataframe thead th {\n",
              "        text-align: right;\n",
              "    }\n",
              "</style>\n",
              "<table border=\"1\" class=\"dataframe\">\n",
              "  <thead>\n",
              "    <tr style=\"text-align: right;\">\n",
              "      <th></th>\n",
              "      <th>gender_binary</th>\n",
              "      <th>Hipertension</th>\n",
              "      <th>Diabetes</th>\n",
              "      <th>Alcoholism</th>\n",
              "      <th>Handcap</th>\n",
              "    </tr>\n",
              "  </thead>\n",
              "  <tbody>\n",
              "    <tr>\n",
              "      <th>gender_binary</th>\n",
              "      <td>1.000000</td>\n",
              "      <td>0.047889</td>\n",
              "      <td>0.031517</td>\n",
              "      <td>-0.073959</td>\n",
              "      <td>-0.015154</td>\n",
              "    </tr>\n",
              "    <tr>\n",
              "      <th>Hipertension</th>\n",
              "      <td>0.047889</td>\n",
              "      <td>1.000000</td>\n",
              "      <td>0.439078</td>\n",
              "      <td>0.090336</td>\n",
              "      <td>0.085808</td>\n",
              "    </tr>\n",
              "    <tr>\n",
              "      <th>Diabetes</th>\n",
              "      <td>0.031517</td>\n",
              "      <td>0.439078</td>\n",
              "      <td>1.000000</td>\n",
              "      <td>0.016668</td>\n",
              "      <td>0.044351</td>\n",
              "    </tr>\n",
              "    <tr>\n",
              "      <th>Alcoholism</th>\n",
              "      <td>-0.073959</td>\n",
              "      <td>0.090336</td>\n",
              "      <td>0.016668</td>\n",
              "      <td>1.000000</td>\n",
              "      <td>-0.002903</td>\n",
              "    </tr>\n",
              "    <tr>\n",
              "      <th>Handcap</th>\n",
              "      <td>-0.015154</td>\n",
              "      <td>0.085808</td>\n",
              "      <td>0.044351</td>\n",
              "      <td>-0.002903</td>\n",
              "      <td>1.000000</td>\n",
              "    </tr>\n",
              "  </tbody>\n",
              "</table>\n",
              "</div>"
            ],
            "text/plain": [
              "               gender_binary  Hipertension  Diabetes  Alcoholism   Handcap\n",
              "gender_binary       1.000000      0.047889  0.031517   -0.073959 -0.015154\n",
              "Hipertension        0.047889      1.000000  0.439078    0.090336  0.085808\n",
              "Diabetes            0.031517      0.439078  1.000000    0.016668  0.044351\n",
              "Alcoholism         -0.073959      0.090336  0.016668    1.000000 -0.002903\n",
              "Handcap            -0.015154      0.085808  0.044351   -0.002903  1.000000"
            ]
          },
          "metadata": {},
          "execution_count": 175
        }
      ]
    },
    {
      "cell_type": "code",
      "metadata": {
        "colab": {
          "base_uri": "https://localhost:8080/",
          "height": 282
        },
        "id": "mMFz0UwJ7hrT",
        "outputId": "de5f0cd3-7d94-46b4-e1f5-e9ebacfb2337"
      },
      "source": [
        "people_showing_up[[\"Hipertension\", \"Diabetes\", \"Alcoholism\", \"Handcap\"]].mean().plot()"
      ],
      "execution_count": null,
      "outputs": [
        {
          "output_type": "execute_result",
          "data": {
            "text/plain": [
              "<matplotlib.axes._subplots.AxesSubplot at 0x7fcd2b1a2510>"
            ]
          },
          "metadata": {},
          "execution_count": 172
        },
        {
          "output_type": "display_data",
          "data": {
            "image/png": "[encoded data removed]",
            "text/plain": [
              "<Figure size 432x288 with 1 Axes>"
            ]
          },
          "metadata": {
            "needs_background": "light"
          }
        }
      ]
    },
    {
      "cell_type": "code",
      "metadata": {
        "id": "3kKYm1eW7ljy"
      },
      "source": [
        "# Because of Hipertension and Diabetes people are showing up more "
      ],
      "execution_count": null,
      "outputs": []
    },
    {
      "cell_type": "markdown",
      "metadata": {
        "id": "sbnRCyc1_Z6W"
      },
      "source": [
        "## 6. Are the digital /social media reminders are helping the patients to take doctor's appointments?"
      ]
    },
    {
      "cell_type": "code",
      "metadata": {
        "colab": {
          "base_uri": "https://localhost:8080/"
        },
        "id": "jVYKryw28Hmw",
        "outputId": "f727d9de-fbbd-40ee-a626-1d11164fe5f6"
      },
      "source": [
        "df.columns"
      ],
      "execution_count": null,
      "outputs": [
        {
          "output_type": "execute_result",
          "data": {
            "text/plain": [
              "Index(['PatientId', 'AppointmentID', 'Gender', 'ScheduledDay',\n",
              "       'AppointmentDay', 'Age', 'Neighbourhood', 'Scholarship', 'Hipertension',\n",
              "       'Diabetes', 'Alcoholism', 'Handcap', 'SMS_received', 'No-show',\n",
              "       'age_category', 'gender_binary'],\n",
              "      dtype='object')"
            ]
          },
          "metadata": {},
          "execution_count": 176
        }
      ]
    },
    {
      "cell_type": "code",
      "metadata": {
        "colab": {
          "base_uri": "https://localhost:8080/"
        },
        "id": "vjHZfuNmAQz_",
        "outputId": "d6b12d14-4043-407f-f1d6-a296e1dc7e07"
      },
      "source": [
        "df.SMS_received.unique()"
      ],
      "execution_count": null,
      "outputs": [
        {
          "output_type": "execute_result",
          "data": {
            "text/plain": [
              "array([0, 1])"
            ]
          },
          "metadata": {},
          "execution_count": 177
        }
      ]
    },
    {
      "cell_type": "code",
      "metadata": {
        "id": "RRvPs5gsFDAJ"
      },
      "source": [
        "df[\"no_show_binary\"] = df[\"No-show\"].replace({\"Yes\":1, \"No\":0})"
      ],
      "execution_count": null,
      "outputs": []
    },
    {
      "cell_type": "code",
      "metadata": {
        "colab": {
          "base_uri": "https://localhost:8080/",
          "height": 294
        },
        "id": "dQllG2CpFU5t",
        "outputId": "32053222-bebe-461b-e1bd-a5ff4ae71f03"
      },
      "source": [
        "df[[\"SMS_received\", \"no_show_binary\"]].groupby(\"SMS_received\").no_show_binary.value_counts(normalize=True).unstack().plot(kind='bar')"
      ],
      "execution_count": null,
      "outputs": [
        {
          "output_type": "execute_result",
          "data": {
            "text/plain": [
              "<matplotlib.axes._subplots.AxesSubplot at 0x7fcd14ab9950>"
            ]
          },
          "metadata": {},
          "execution_count": 192
        },
        {
          "output_type": "display_data",
          "data": {
            "image/png": "[encoded data removed]",
            "text/plain": [
              "<Figure size 432x288 with 1 Axes>"
            ]
          },
          "metadata": {
            "needs_background": "light"
          }
        }
      ]
    },
    {
      "cell_type": "code",
      "metadata": {
        "colab": {
          "base_uri": "https://localhost:8080/",
          "height": 112
        },
        "id": "VQr2u-0rFam9",
        "outputId": "ea8df9f6-c022-45de-c61c-dd9d1dfcd5cc"
      },
      "source": [
        "# SMS helped them in a small way, as u can see from the corr below\n",
        "df[[\"SMS_received\", \"no_show_binary\"]].corr()"
      ],
      "execution_count": null,
      "outputs": [
        {
          "output_type": "execute_result",
          "data": {
            "text/html": [
              "<div>\n",
              "<style scoped>\n",
              "    .dataframe tbody tr th:only-of-type {\n",
              "        vertical-align: middle;\n",
              "    }\n",
              "\n",
              "    .dataframe tbody tr th {\n",
              "        vertical-align: top;\n",
              "    }\n",
              "\n",
              "    .dataframe thead th {\n",
              "        text-align: right;\n",
              "    }\n",
              "</style>\n",
              "<table border=\"1\" class=\"dataframe\">\n",
              "  <thead>\n",
              "    <tr style=\"text-align: right;\">\n",
              "      <th></th>\n",
              "      <th>SMS_received</th>\n",
              "      <th>no_show_binary</th>\n",
              "    </tr>\n",
              "  </thead>\n",
              "  <tbody>\n",
              "    <tr>\n",
              "      <th>SMS_received</th>\n",
              "      <td>1.000000</td>\n",
              "      <td>0.126431</td>\n",
              "    </tr>\n",
              "    <tr>\n",
              "      <th>no_show_binary</th>\n",
              "      <td>0.126431</td>\n",
              "      <td>1.000000</td>\n",
              "    </tr>\n",
              "  </tbody>\n",
              "</table>\n",
              "</div>"
            ],
            "text/plain": [
              "                SMS_received  no_show_binary\n",
              "SMS_received        1.000000        0.126431\n",
              "no_show_binary      0.126431        1.000000"
            ]
          },
          "metadata": {},
          "execution_count": 193
        }
      ]
    },
    {
      "cell_type": "markdown",
      "metadata": {
        "id": "FhnkC3v-KVOL"
      },
      "source": [
        "## 7. Is Scholarship from the government helping patients for a good turnaround for physician visits?"
      ]
    },
    {
      "cell_type": "code",
      "metadata": {
        "colab": {
          "base_uri": "https://localhost:8080/"
        },
        "id": "oCNP0U_eGKI9",
        "outputId": "8ff46f61-3931-4944-d1f9-fb24c71a5e07"
      },
      "source": [
        "df.columns"
      ],
      "execution_count": null,
      "outputs": [
        {
          "output_type": "execute_result",
          "data": {
            "text/plain": [
              "Index(['PatientId', 'AppointmentID', 'Gender', 'ScheduledDay',\n",
              "       'AppointmentDay', 'Age', 'Neighbourhood', 'Scholarship', 'Hipertension',\n",
              "       'Diabetes', 'Alcoholism', 'Handcap', 'SMS_received', 'No-show',\n",
              "       'age_category', 'gender_binary', 'no_show_binary'],\n",
              "      dtype='object')"
            ]
          },
          "metadata": {},
          "execution_count": 194
        }
      ]
    },
    {
      "cell_type": "code",
      "metadata": {
        "colab": {
          "base_uri": "https://localhost:8080/"
        },
        "id": "fDeVlMgHK6NL",
        "outputId": "74c61365-b2a5-4013-e416-e89d68eacca6"
      },
      "source": [
        "df.Scholarship.unique()"
      ],
      "execution_count": null,
      "outputs": [
        {
          "output_type": "execute_result",
          "data": {
            "text/plain": [
              "array([0, 1])"
            ]
          },
          "metadata": {},
          "execution_count": 195
        }
      ]
    },
    {
      "cell_type": "code",
      "metadata": {
        "colab": {
          "base_uri": "https://localhost:8080/"
        },
        "id": "JXsk1T28LyYA",
        "outputId": "4a6904d1-3e4e-49d7-9e6c-882563c1e8af"
      },
      "source": [
        "df[[\"Scholarship\", \"no_show_binary\"]].groupby(\"Scholarship\").no_show_binary.value_counts()"
      ],
      "execution_count": null,
      "outputs": [
        {
          "output_type": "execute_result",
          "data": {
            "text/plain": [
              "Scholarship  no_show_binary\n",
              "0            0                 79925\n",
              "             1                 19741\n",
              "1            0                  8283\n",
              "             1                  2578\n",
              "Name: no_show_binary, dtype: int64"
            ]
          },
          "metadata": {},
          "execution_count": 198
        }
      ]
    },
    {
      "cell_type": "code",
      "metadata": {
        "colab": {
          "base_uri": "https://localhost:8080/",
          "height": 293
        },
        "id": "Vz6D9HZCLUzY",
        "outputId": "a5005888-0fa7-4728-b466-fd161c2973fb"
      },
      "source": [
        "df[[\"Scholarship\", \"no_show_binary\"]].groupby(\"Scholarship\").no_show_binary.value_counts(normalize=True).unstack().plot(kind='bar')"
      ],
      "execution_count": null,
      "outputs": [
        {
          "output_type": "execute_result",
          "data": {
            "text/plain": [
              "<matplotlib.axes._subplots.AxesSubplot at 0x7fcd2b04ccd0>"
            ]
          },
          "metadata": {},
          "execution_count": 196
        },
        {
          "output_type": "display_data",
          "data": {
            "image/png": "[encoded data removed]",
            "text/plain": [
              "<Figure size 432x288 with 1 Axes>"
            ]
          },
          "metadata": {
            "needs_background": "light"
          }
        }
      ]
    },
    {
      "cell_type": "code",
      "metadata": {
        "colab": {
          "base_uri": "https://localhost:8080/",
          "height": 112
        },
        "id": "qBENyUZ7LbzD",
        "outputId": "952d4cfd-4300-47c2-e42b-f868b4f64175"
      },
      "source": [
        "df[[\"Scholarship\", \"no_show_binary\"]].corr()"
      ],
      "execution_count": null,
      "outputs": [
        {
          "output_type": "execute_result",
          "data": {
            "text/html": [
              "<div>\n",
              "<style scoped>\n",
              "    .dataframe tbody tr th:only-of-type {\n",
              "        vertical-align: middle;\n",
              "    }\n",
              "\n",
              "    .dataframe tbody tr th {\n",
              "        vertical-align: top;\n",
              "    }\n",
              "\n",
              "    .dataframe thead th {\n",
              "        text-align: right;\n",
              "    }\n",
              "</style>\n",
              "<table border=\"1\" class=\"dataframe\">\n",
              "  <thead>\n",
              "    <tr style=\"text-align: right;\">\n",
              "      <th></th>\n",
              "      <th>Scholarship</th>\n",
              "      <th>no_show_binary</th>\n",
              "    </tr>\n",
              "  </thead>\n",
              "  <tbody>\n",
              "    <tr>\n",
              "      <th>Scholarship</th>\n",
              "      <td>1.000000</td>\n",
              "      <td>0.029135</td>\n",
              "    </tr>\n",
              "    <tr>\n",
              "      <th>no_show_binary</th>\n",
              "      <td>0.029135</td>\n",
              "      <td>1.000000</td>\n",
              "    </tr>\n",
              "  </tbody>\n",
              "</table>\n",
              "</div>"
            ],
            "text/plain": [
              "                Scholarship  no_show_binary\n",
              "Scholarship        1.000000        0.029135\n",
              "no_show_binary     0.029135        1.000000"
            ]
          },
          "metadata": {},
          "execution_count": 199
        }
      ]
    },
    {
      "cell_type": "code",
      "metadata": {
        "id": "I0d6xU-gL7uJ"
      },
      "source": [
        "# Scholarship helped in a small way to show up "
      ],
      "execution_count": null,
      "outputs": []
    },
    {
      "cell_type": "markdown",
      "metadata": {
        "id": "_aOrsDMGMVIS"
      },
      "source": [
        "## 8. Which neighborhood regions actually have higher appointments with physicians?"
      ]
    },
    {
      "cell_type": "code",
      "metadata": {
        "colab": {
          "base_uri": "https://localhost:8080/"
        },
        "id": "8ip93rW1MFIS",
        "outputId": "4a402fc6-eb17-4489-8073-140f330b49e0"
      },
      "source": [
        "df.columns"
      ],
      "execution_count": null,
      "outputs": [
        {
          "output_type": "execute_result",
          "data": {
            "text/plain": [
              "Index(['PatientId', 'AppointmentID', 'Gender', 'ScheduledDay',\n",
              "       'AppointmentDay', 'Age', 'Neighbourhood', 'Scholarship', 'Hipertension',\n",
              "       'Diabetes', 'Alcoholism', 'Handcap', 'SMS_received', 'No-show',\n",
              "       'age_category', 'gender_binary', 'no_show_binary'],\n",
              "      dtype='object')"
            ]
          },
          "metadata": {},
          "execution_count": 202
        }
      ]
    },
    {
      "cell_type": "code",
      "metadata": {
        "colab": {
          "base_uri": "https://localhost:8080/"
        },
        "id": "WRH_BQZeMuLv",
        "outputId": "bdc3c319-55bd-437a-f472-2d1910ab0af8"
      },
      "source": [
        "df.Neighbourhood.value_counts()[0:1]"
      ],
      "execution_count": null,
      "outputs": [
        {
          "output_type": "execute_result",
          "data": {
            "text/plain": [
              "JARDIM CAMBURI    7717\n",
              "Name: Neighbourhood, dtype: int64"
            ]
          },
          "metadata": {},
          "execution_count": 208
        }
      ]
    },
    {
      "cell_type": "code",
      "metadata": {
        "id": "Aobc22u2NWtP"
      },
      "source": [
        "# this is the neighbour with higher appointments with physcians"
      ],
      "execution_count": null,
      "outputs": []
    },
    {
      "cell_type": "code",
      "metadata": {
        "colab": {
          "base_uri": "https://localhost:8080/"
        },
        "id": "ahM38ww3NrCB",
        "outputId": "8c712b60-72cc-4e40-8009-286054921271"
      },
      "source": [
        "df.loc[df[\"No-show\"]==\"Yes\"].Neighbourhood.value_counts()"
      ],
      "execution_count": null,
      "outputs": [
        {
          "output_type": "execute_result",
          "data": {
            "text/plain": [
              "JARDIM CAMBURI                 1465\n",
              "MARIA ORTIZ                    1219\n",
              "ITARARÉ                         923\n",
              "RESISTÊNCIA                     906\n",
              "CENTRO                          703\n",
              "                               ... \n",
              "PONTAL DE CAMBURI                12\n",
              "ILHA DO BOI                       3\n",
              "ILHAS OCEÂNICAS DE TRINDADE       2\n",
              "ILHA DO FRADE                     2\n",
              "AEROPORTO                         1\n",
              "Name: Neighbourhood, Length: 80, dtype: int64"
            ]
          },
          "metadata": {},
          "execution_count": 213
        }
      ]
    },
    {
      "cell_type": "code",
      "metadata": {
        "id": "oI80atr7N1QT"
      },
      "source": [
        "# even with who showed up, this is the neighbour with higher appointments with physcians"
      ],
      "execution_count": null,
      "outputs": []
    },
    {
      "cell_type": "markdown",
      "metadata": {
        "id": "Kk4GO2UUOMFF"
      },
      "source": [
        "## 9. What factors are important for us to know in order to predict if a patient will show up for their scheduled time?"
      ]
    },
    {
      "cell_type": "code",
      "metadata": {
        "colab": {
          "base_uri": "https://localhost:8080/"
        },
        "id": "hvqe386_OGwo",
        "outputId": "1444d561-325b-48f1-e390-412814f9af75"
      },
      "source": [
        "df.columns"
      ],
      "execution_count": null,
      "outputs": [
        {
          "output_type": "execute_result",
          "data": {
            "text/plain": [
              "Index(['PatientId', 'AppointmentID', 'Gender', 'ScheduledDay',\n",
              "       'AppointmentDay', 'Age', 'Neighbourhood', 'Scholarship', 'Hipertension',\n",
              "       'Diabetes', 'Alcoholism', 'Handcap', 'SMS_received', 'No-show',\n",
              "       'age_category', 'gender_binary', 'no_show_binary'],\n",
              "      dtype='object')"
            ]
          },
          "metadata": {},
          "execution_count": 215
        }
      ]
    },
    {
      "cell_type": "code",
      "metadata": {
        "id": "w6cOWeFQOOWm"
      },
      "source": [
        "df[\"scheduled_week_day\"] = df.ScheduledDay.dt.weekday"
      ],
      "execution_count": null,
      "outputs": []
    },
    {
      "cell_type": "code",
      "metadata": {
        "id": "AJLrTCQDOnAO"
      },
      "source": [
        "new_df = df[[\"gender_binary\", \"scheduled_week_day\", \"Age\", \"Scholarship\", \"Hipertension\", \"Diabetes\", \"Alcoholism\", \"Handcap\", \"SMS_received\" ]]"
      ],
      "execution_count": null,
      "outputs": []
    },
    {
      "cell_type": "code",
      "metadata": {
        "id": "4ky9sLaqPWJe"
      },
      "source": [
        "graph_data = new_df[df.no_show_binary == 1].corr()"
      ],
      "execution_count": null,
      "outputs": []
    },
    {
      "cell_type": "code",
      "metadata": {
        "colab": {
          "base_uri": "https://localhost:8080/",
          "height": 332
        },
        "id": "gXY6UBqqUWlw",
        "outputId": "d7456889-0c1e-45dc-8943-fb2a799b57e7"
      },
      "source": [
        "graph_data"
      ],
      "execution_count": null,
      "outputs": [
        {
          "output_type": "execute_result",
          "data": {
            "text/html": [
              "<div>\n",
              "<style scoped>\n",
              "    .dataframe tbody tr th:only-of-type {\n",
              "        vertical-align: middle;\n",
              "    }\n",
              "\n",
              "    .dataframe tbody tr th {\n",
              "        vertical-align: top;\n",
              "    }\n",
              "\n",
              "    .dataframe thead th {\n",
              "        text-align: right;\n",
              "    }\n",
              "</style>\n",
              "<table border=\"1\" class=\"dataframe\">\n",
              "  <thead>\n",
              "    <tr style=\"text-align: right;\">\n",
              "      <th></th>\n",
              "      <th>gender_binary</th>\n",
              "      <th>scheduled_week_day</th>\n",
              "      <th>Age</th>\n",
              "      <th>Scholarship</th>\n",
              "      <th>Hipertension</th>\n",
              "      <th>Diabetes</th>\n",
              "      <th>Alcoholism</th>\n",
              "      <th>Handcap</th>\n",
              "      <th>SMS_received</th>\n",
              "    </tr>\n",
              "  </thead>\n",
              "  <tbody>\n",
              "    <tr>\n",
              "      <th>gender_binary</th>\n",
              "      <td>1.000000</td>\n",
              "      <td>-0.023108</td>\n",
              "      <td>0.115420</td>\n",
              "      <td>0.123841</td>\n",
              "      <td>0.047889</td>\n",
              "      <td>0.031517</td>\n",
              "      <td>-0.073959</td>\n",
              "      <td>-0.015154</td>\n",
              "      <td>0.061197</td>\n",
              "    </tr>\n",
              "    <tr>\n",
              "      <th>scheduled_week_day</th>\n",
              "      <td>-0.023108</td>\n",
              "      <td>1.000000</td>\n",
              "      <td>-0.000706</td>\n",
              "      <td>-0.010258</td>\n",
              "      <td>-0.013774</td>\n",
              "      <td>-0.006091</td>\n",
              "      <td>0.010435</td>\n",
              "      <td>-0.007347</td>\n",
              "      <td>0.063417</td>\n",
              "    </tr>\n",
              "    <tr>\n",
              "      <th>Age</th>\n",
              "      <td>0.115420</td>\n",
              "      <td>-0.000706</td>\n",
              "      <td>1.000000</td>\n",
              "      <td>-0.079770</td>\n",
              "      <td>0.521557</td>\n",
              "      <td>0.306683</td>\n",
              "      <td>0.099859</td>\n",
              "      <td>0.081480</td>\n",
              "      <td>-0.016760</td>\n",
              "    </tr>\n",
              "    <tr>\n",
              "      <th>Scholarship</th>\n",
              "      <td>0.123841</td>\n",
              "      <td>-0.010258</td>\n",
              "      <td>-0.079770</td>\n",
              "      <td>1.000000</td>\n",
              "      <td>-0.023824</td>\n",
              "      <td>-0.024142</td>\n",
              "      <td>0.057870</td>\n",
              "      <td>-0.020870</td>\n",
              "      <td>0.015221</td>\n",
              "    </tr>\n",
              "    <tr>\n",
              "      <th>Hipertension</th>\n",
              "      <td>0.047889</td>\n",
              "      <td>-0.013774</td>\n",
              "      <td>0.521557</td>\n",
              "      <td>-0.023824</td>\n",
              "      <td>1.000000</td>\n",
              "      <td>0.439078</td>\n",
              "      <td>0.090336</td>\n",
              "      <td>0.085808</td>\n",
              "      <td>-0.026152</td>\n",
              "    </tr>\n",
              "    <tr>\n",
              "      <th>Diabetes</th>\n",
              "      <td>0.031517</td>\n",
              "      <td>-0.006091</td>\n",
              "      <td>0.306683</td>\n",
              "      <td>-0.024142</td>\n",
              "      <td>0.439078</td>\n",
              "      <td>1.000000</td>\n",
              "      <td>0.016668</td>\n",
              "      <td>0.044351</td>\n",
              "      <td>-0.030558</td>\n",
              "    </tr>\n",
              "    <tr>\n",
              "      <th>Alcoholism</th>\n",
              "      <td>-0.073959</td>\n",
              "      <td>0.010435</td>\n",
              "      <td>0.099859</td>\n",
              "      <td>0.057870</td>\n",
              "      <td>0.090336</td>\n",
              "      <td>0.016668</td>\n",
              "      <td>1.000000</td>\n",
              "      <td>-0.002903</td>\n",
              "      <td>-0.010413</td>\n",
              "    </tr>\n",
              "    <tr>\n",
              "      <th>Handcap</th>\n",
              "      <td>-0.015154</td>\n",
              "      <td>-0.007347</td>\n",
              "      <td>0.081480</td>\n",
              "      <td>-0.020870</td>\n",
              "      <td>0.085808</td>\n",
              "      <td>0.044351</td>\n",
              "      <td>-0.002903</td>\n",
              "      <td>1.000000</td>\n",
              "      <td>-0.029730</td>\n",
              "    </tr>\n",
              "    <tr>\n",
              "      <th>SMS_received</th>\n",
              "      <td>0.061197</td>\n",
              "      <td>0.063417</td>\n",
              "      <td>-0.016760</td>\n",
              "      <td>0.015221</td>\n",
              "      <td>-0.026152</td>\n",
              "      <td>-0.030558</td>\n",
              "      <td>-0.010413</td>\n",
              "      <td>-0.029730</td>\n",
              "      <td>1.000000</td>\n",
              "    </tr>\n",
              "  </tbody>\n",
              "</table>\n",
              "</div>"
            ],
            "text/plain": [
              "                    gender_binary  scheduled_week_day  ...   Handcap  SMS_received\n",
              "gender_binary            1.000000           -0.023108  ... -0.015154      0.061197\n",
              "scheduled_week_day      -0.023108            1.000000  ... -0.007347      0.063417\n",
              "Age                      0.115420           -0.000706  ...  0.081480     -0.016760\n",
              "Scholarship              0.123841           -0.010258  ... -0.020870      0.015221\n",
              "Hipertension             0.047889           -0.013774  ...  0.085808     -0.026152\n",
              "Diabetes                 0.031517           -0.006091  ...  0.044351     -0.030558\n",
              "Alcoholism              -0.073959            0.010435  ... -0.002903     -0.010413\n",
              "Handcap                 -0.015154           -0.007347  ...  1.000000     -0.029730\n",
              "SMS_received             0.061197            0.063417  ... -0.029730      1.000000\n",
              "\n",
              "[9 rows x 9 columns]"
            ]
          },
          "metadata": {},
          "execution_count": 239
        }
      ]
    },
    {
      "cell_type": "code",
      "metadata": {
        "id": "K-jutow4Qf5h"
      },
      "source": [
        "# From the above relation, we find that Age, Hypirtensiom Diabetes were showing higher growth to show up "
      ],
      "execution_count": null,
      "outputs": []
    },
    {
      "cell_type": "code",
      "metadata": {
        "colab": {
          "base_uri": "https://localhost:8080/",
          "height": 352
        },
        "id": "0gcix-B-RQv3",
        "outputId": "69cc8c0d-4c25-49b3-b288-df5d6ed4af7f"
      },
      "source": [
        "df[[\"Hipertension\", \"Diabetes\", \"no_show_binary\"]].mean().plot(kind='bar')"
      ],
      "execution_count": null,
      "outputs": [
        {
          "output_type": "execute_result",
          "data": {
            "text/plain": [
              "<matplotlib.axes._subplots.AxesSubplot at 0x7fcc39569650>"
            ]
          },
          "metadata": {},
          "execution_count": 242
        },
        {
          "output_type": "display_data",
          "data": {
            "image/png": "[encoded data removed]",
            "text/plain": [
              "<Figure size 432x288 with 1 Axes>"
            ]
          },
          "metadata": {
            "needs_background": "light"
          }
        }
      ]
    },
    {
      "cell_type": "code",
      "metadata": {
        "colab": {
          "base_uri": "https://localhost:8080/",
          "height": 233
        },
        "id": "Kwlavk7ARasZ",
        "outputId": "44b72f70-c493-4289-f0a2-a48d80adf128"
      },
      "source": [
        "graph_data.style.background_gradient(cmap='coolwarm')"
      ],
      "execution_count": null,
      "outputs": [
        {
          "output_type": "execute_result",
          "data": {
            "text/html": [
              "<style  type=\"text/css\" >\n",
              "#T_ea7fd560_20f1_11ec_b61e_0242ac1c0002row0_col0,#T_ea7fd560_20f1_11ec_b61e_0242ac1c0002row1_col1,#T_ea7fd560_20f1_11ec_b61e_0242ac1c0002row2_col2,#T_ea7fd560_20f1_11ec_b61e_0242ac1c0002row3_col3,#T_ea7fd560_20f1_11ec_b61e_0242ac1c0002row4_col4,#T_ea7fd560_20f1_11ec_b61e_0242ac1c0002row5_col5,#T_ea7fd560_20f1_11ec_b61e_0242ac1c0002row6_col6,#T_ea7fd560_20f1_11ec_b61e_0242ac1c0002row7_col7,#T_ea7fd560_20f1_11ec_b61e_0242ac1c0002row8_col8{\n",
              "            background-color:  #b40426;\n",
              "            color:  #f1f1f1;\n",
              "        }#T_ea7fd560_20f1_11ec_b61e_0242ac1c0002row0_col1,#T_ea7fd560_20f1_11ec_b61e_0242ac1c0002row0_col6,#T_ea7fd560_20f1_11ec_b61e_0242ac1c0002row2_col3,#T_ea7fd560_20f1_11ec_b61e_0242ac1c0002row3_col2,#T_ea7fd560_20f1_11ec_b61e_0242ac1c0002row3_col4,#T_ea7fd560_20f1_11ec_b61e_0242ac1c0002row5_col8,#T_ea7fd560_20f1_11ec_b61e_0242ac1c0002row6_col0,#T_ea7fd560_20f1_11ec_b61e_0242ac1c0002row7_col8,#T_ea7fd560_20f1_11ec_b61e_0242ac1c0002row8_col4,#T_ea7fd560_20f1_11ec_b61e_0242ac1c0002row8_col5,#T_ea7fd560_20f1_11ec_b61e_0242ac1c0002row8_col7{\n",
              "            background-color:  #3b4cc0;\n",
              "            color:  #f1f1f1;\n",
              "        }#T_ea7fd560_20f1_11ec_b61e_0242ac1c0002row0_col2{\n",
              "            background-color:  #7597f6;\n",
              "            color:  #000000;\n",
              "        }#T_ea7fd560_20f1_11ec_b61e_0242ac1c0002row0_col3{\n",
              "            background-color:  #779af7;\n",
              "            color:  #000000;\n",
              "        }#T_ea7fd560_20f1_11ec_b61e_0242ac1c0002row0_col4,#T_ea7fd560_20f1_11ec_b61e_0242ac1c0002row1_col2,#T_ea7fd560_20f1_11ec_b61e_0242ac1c0002row5_col7,#T_ea7fd560_20f1_11ec_b61e_0242ac1c0002row7_col5{\n",
              "            background-color:  #506bda;\n",
              "            color:  #000000;\n",
              "        }#T_ea7fd560_20f1_11ec_b61e_0242ac1c0002row0_col5,#T_ea7fd560_20f1_11ec_b61e_0242ac1c0002row8_col6{\n",
              "            background-color:  #4c66d6;\n",
              "            color:  #000000;\n",
              "        }#T_ea7fd560_20f1_11ec_b61e_0242ac1c0002row0_col7,#T_ea7fd560_20f1_11ec_b61e_0242ac1c0002row1_col4,#T_ea7fd560_20f1_11ec_b61e_0242ac1c0002row2_col8,#T_ea7fd560_20f1_11ec_b61e_0242ac1c0002row3_col1,#T_ea7fd560_20f1_11ec_b61e_0242ac1c0002row7_col1{\n",
              "            background-color:  #3e51c5;\n",
              "            color:  #f1f1f1;\n",
              "        }#T_ea7fd560_20f1_11ec_b61e_0242ac1c0002row0_col8,#T_ea7fd560_20f1_11ec_b61e_0242ac1c0002row8_col3{\n",
              "            background-color:  #5572df;\n",
              "            color:  #000000;\n",
              "        }#T_ea7fd560_20f1_11ec_b61e_0242ac1c0002row1_col0{\n",
              "            background-color:  #4961d2;\n",
              "            color:  #f1f1f1;\n",
              "        }#T_ea7fd560_20f1_11ec_b61e_0242ac1c0002row1_col3,#T_ea7fd560_20f1_11ec_b61e_0242ac1c0002row7_col6{\n",
              "            background-color:  #4e68d8;\n",
              "            color:  #000000;\n",
              "        }#T_ea7fd560_20f1_11ec_b61e_0242ac1c0002row1_col5,#T_ea7fd560_20f1_11ec_b61e_0242ac1c0002row6_col7{\n",
              "            background-color:  #4257c9;\n",
              "            color:  #f1f1f1;\n",
              "        }#T_ea7fd560_20f1_11ec_b61e_0242ac1c0002row1_col6{\n",
              "            background-color:  #536edd;\n",
              "            color:  #000000;\n",
              "        }#T_ea7fd560_20f1_11ec_b61e_0242ac1c0002row1_col7,#T_ea7fd560_20f1_11ec_b61e_0242ac1c0002row2_col1,#T_ea7fd560_20f1_11ec_b61e_0242ac1c0002row6_col8{\n",
              "            background-color:  #4055c8;\n",
              "            color:  #f1f1f1;\n",
              "        }#T_ea7fd560_20f1_11ec_b61e_0242ac1c0002row1_col8{\n",
              "            background-color:  #5673e0;\n",
              "            color:  #000000;\n",
              "        }#T_ea7fd560_20f1_11ec_b61e_0242ac1c0002row2_col0{\n",
              "            background-color:  #7396f5;\n",
              "            color:  #000000;\n",
              "        }#T_ea7fd560_20f1_11ec_b61e_0242ac1c0002row2_col4{\n",
              "            background-color:  #e5d8d1;\n",
              "            color:  #000000;\n",
              "        }#T_ea7fd560_20f1_11ec_b61e_0242ac1c0002row2_col5{\n",
              "            background-color:  #a7c5fe;\n",
              "            color:  #000000;\n",
              "        }#T_ea7fd560_20f1_11ec_b61e_0242ac1c0002row2_col6{\n",
              "            background-color:  #6e90f2;\n",
              "            color:  #000000;\n",
              "        }#T_ea7fd560_20f1_11ec_b61e_0242ac1c0002row2_col7,#T_ea7fd560_20f1_11ec_b61e_0242ac1c0002row7_col4{\n",
              "            background-color:  #5b7ae5;\n",
              "            color:  #000000;\n",
              "        }#T_ea7fd560_20f1_11ec_b61e_0242ac1c0002row3_col0{\n",
              "            background-color:  #7699f6;\n",
              "            color:  #000000;\n",
              "        }#T_ea7fd560_20f1_11ec_b61e_0242ac1c0002row3_col5,#T_ea7fd560_20f1_11ec_b61e_0242ac1c0002row4_col8{\n",
              "            background-color:  #3c4ec2;\n",
              "            color:  #f1f1f1;\n",
              "        }#T_ea7fd560_20f1_11ec_b61e_0242ac1c0002row3_col6{\n",
              "            background-color:  #6180e9;\n",
              "            color:  #000000;\n",
              "        }#T_ea7fd560_20f1_11ec_b61e_0242ac1c0002row3_col7,#T_ea7fd560_20f1_11ec_b61e_0242ac1c0002row4_col1{\n",
              "            background-color:  #3d50c3;\n",
              "            color:  #f1f1f1;\n",
              "        }#T_ea7fd560_20f1_11ec_b61e_0242ac1c0002row3_col8,#T_ea7fd560_20f1_11ec_b61e_0242ac1c0002row6_col5{\n",
              "            background-color:  #485fd1;\n",
              "            color:  #f1f1f1;\n",
              "        }#T_ea7fd560_20f1_11ec_b61e_0242ac1c0002row4_col0,#T_ea7fd560_20f1_11ec_b61e_0242ac1c0002row6_col4{\n",
              "            background-color:  #5e7de7;\n",
              "            color:  #000000;\n",
              "        }#T_ea7fd560_20f1_11ec_b61e_0242ac1c0002row4_col2{\n",
              "            background-color:  #ead4c8;\n",
              "            color:  #000000;\n",
              "        }#T_ea7fd560_20f1_11ec_b61e_0242ac1c0002row4_col3,#T_ea7fd560_20f1_11ec_b61e_0242ac1c0002row5_col3,#T_ea7fd560_20f1_11ec_b61e_0242ac1c0002row7_col3{\n",
              "            background-color:  #4a63d3;\n",
              "            color:  #f1f1f1;\n",
              "        }#T_ea7fd560_20f1_11ec_b61e_0242ac1c0002row4_col5,#T_ea7fd560_20f1_11ec_b61e_0242ac1c0002row5_col4{\n",
              "            background-color:  #d1dae9;\n",
              "            color:  #000000;\n",
              "        }#T_ea7fd560_20f1_11ec_b61e_0242ac1c0002row4_col6{\n",
              "            background-color:  #6b8df0;\n",
              "            color:  #000000;\n",
              "        }#T_ea7fd560_20f1_11ec_b61e_0242ac1c0002row4_col7{\n",
              "            background-color:  #5d7ce6;\n",
              "            color:  #000000;\n",
              "        }#T_ea7fd560_20f1_11ec_b61e_0242ac1c0002row5_col0{\n",
              "            background-color:  #5977e3;\n",
              "            color:  #000000;\n",
              "        }#T_ea7fd560_20f1_11ec_b61e_0242ac1c0002row5_col1{\n",
              "            background-color:  #3f53c6;\n",
              "            color:  #f1f1f1;\n",
              "        }#T_ea7fd560_20f1_11ec_b61e_0242ac1c0002row5_col2{\n",
              "            background-color:  #b2ccfb;\n",
              "            color:  #000000;\n",
              "        }#T_ea7fd560_20f1_11ec_b61e_0242ac1c0002row5_col6,#T_ea7fd560_20f1_11ec_b61e_0242ac1c0002row8_col1{\n",
              "            background-color:  #5470de;\n",
              "            color:  #000000;\n",
              "        }#T_ea7fd560_20f1_11ec_b61e_0242ac1c0002row6_col1{\n",
              "            background-color:  #445acc;\n",
              "            color:  #f1f1f1;\n",
              "        }#T_ea7fd560_20f1_11ec_b61e_0242ac1c0002row6_col2{\n",
              "            background-color:  #6f92f3;\n",
              "            color:  #000000;\n",
              "        }#T_ea7fd560_20f1_11ec_b61e_0242ac1c0002row6_col3,#T_ea7fd560_20f1_11ec_b61e_0242ac1c0002row8_col0{\n",
              "            background-color:  #6282ea;\n",
              "            color:  #000000;\n",
              "        }#T_ea7fd560_20f1_11ec_b61e_0242ac1c0002row7_col0,#T_ea7fd560_20f1_11ec_b61e_0242ac1c0002row8_col2{\n",
              "            background-color:  #4b64d5;\n",
              "            color:  #f1f1f1;\n",
              "        }#T_ea7fd560_20f1_11ec_b61e_0242ac1c0002row7_col2{\n",
              "            background-color:  #6a8bef;\n",
              "            color:  #000000;\n",
              "        }</style><table id=\"T_ea7fd560_20f1_11ec_b61e_0242ac1c0002\" ><thead>    <tr>        <th class=\"blank level0\" ></th>        <th class=\"col_heading level0 col0\" >gender_binary</th>        <th class=\"col_heading level0 col1\" >scheduled_week_day</th>        <th class=\"col_heading level0 col2\" >Age</th>        <th class=\"col_heading level0 col3\" >Scholarship</th>        <th class=\"col_heading level0 col4\" >Hipertension</th>        <th class=\"col_heading level0 col5\" >Diabetes</th>        <th class=\"col_heading level0 col6\" >Alcoholism</th>        <th class=\"col_heading level0 col7\" >Handcap</th>        <th class=\"col_heading level0 col8\" >SMS_received</th>    </tr></thead><tbody>\n",
              "                <tr>\n",
              "                        <th id=\"T_ea7fd560_20f1_11ec_b61e_0242ac1c0002level0_row0\" class=\"row_heading level0 row0\" >gender_binary</th>\n",
              "                        <td id=\"T_ea7fd560_20f1_11ec_b61e_0242ac1c0002row0_col0\" class=\"data row0 col0\" >1.000000</td>\n",
              "                        <td id=\"T_ea7fd560_20f1_11ec_b61e_0242ac1c0002row0_col1\" class=\"data row0 col1\" >-0.023108</td>\n",
              "                        <td id=\"T_ea7fd560_20f1_11ec_b61e_0242ac1c0002row0_col2\" class=\"data row0 col2\" >0.115420</td>\n",
              "                        <td id=\"T_ea7fd560_20f1_11ec_b61e_0242ac1c0002row0_col3\" class=\"data row0 col3\" >0.123841</td>\n",
              "                        <td id=\"T_ea7fd560_20f1_11ec_b61e_0242ac1c0002row0_col4\" class=\"data row0 col4\" >0.047889</td>\n",
              "                        <td id=\"T_ea7fd560_20f1_11ec_b61e_0242ac1c0002row0_col5\" class=\"data row0 col5\" >0.031517</td>\n",
              "                        <td id=\"T_ea7fd560_20f1_11ec_b61e_0242ac1c0002row0_col6\" class=\"data row0 col6\" >-0.073959</td>\n",
              "                        <td id=\"T_ea7fd560_20f1_11ec_b61e_0242ac1c0002row0_col7\" class=\"data row0 col7\" >-0.015154</td>\n",
              "                        <td id=\"T_ea7fd560_20f1_11ec_b61e_0242ac1c0002row0_col8\" class=\"data row0 col8\" >0.061197</td>\n",
              "            </tr>\n",
              "            <tr>\n",
              "                        <th id=\"T_ea7fd560_20f1_11ec_b61e_0242ac1c0002level0_row1\" class=\"row_heading level0 row1\" >scheduled_week_day</th>\n",
              "                        <td id=\"T_ea7fd560_20f1_11ec_b61e_0242ac1c0002row1_col0\" class=\"data row1 col0\" >-0.023108</td>\n",
              "                        <td id=\"T_ea7fd560_20f1_11ec_b61e_0242ac1c0002row1_col1\" class=\"data row1 col1\" >1.000000</td>\n",
              "                        <td id=\"T_ea7fd560_20f1_11ec_b61e_0242ac1c0002row1_col2\" class=\"data row1 col2\" >-0.000706</td>\n",
              "                        <td id=\"T_ea7fd560_20f1_11ec_b61e_0242ac1c0002row1_col3\" class=\"data row1 col3\" >-0.010258</td>\n",
              "                        <td id=\"T_ea7fd560_20f1_11ec_b61e_0242ac1c0002row1_col4\" class=\"data row1 col4\" >-0.013774</td>\n",
              "                        <td id=\"T_ea7fd560_20f1_11ec_b61e_0242ac1c0002row1_col5\" class=\"data row1 col5\" >-0.006091</td>\n",
              "                        <td id=\"T_ea7fd560_20f1_11ec_b61e_0242ac1c0002row1_col6\" class=\"data row1 col6\" >0.010435</td>\n",
              "                        <td id=\"T_ea7fd560_20f1_11ec_b61e_0242ac1c0002row1_col7\" class=\"data row1 col7\" >-0.007347</td>\n",
              "                        <td id=\"T_ea7fd560_20f1_11ec_b61e_0242ac1c0002row1_col8\" class=\"data row1 col8\" >0.063417</td>\n",
              "            </tr>\n",
              "            <tr>\n",
              "                        <th id=\"T_ea7fd560_20f1_11ec_b61e_0242ac1c0002level0_row2\" class=\"row_heading level0 row2\" >Age</th>\n",
              "                        <td id=\"T_ea7fd560_20f1_11ec_b61e_0242ac1c0002row2_col0\" class=\"data row2 col0\" >0.115420</td>\n",
              "                        <td id=\"T_ea7fd560_20f1_11ec_b61e_0242ac1c0002row2_col1\" class=\"data row2 col1\" >-0.000706</td>\n",
              "                        <td id=\"T_ea7fd560_20f1_11ec_b61e_0242ac1c0002row2_col2\" class=\"data row2 col2\" >1.000000</td>\n",
              "                        <td id=\"T_ea7fd560_20f1_11ec_b61e_0242ac1c0002row2_col3\" class=\"data row2 col3\" >-0.079770</td>\n",
              "                        <td id=\"T_ea7fd560_20f1_11ec_b61e_0242ac1c0002row2_col4\" class=\"data row2 col4\" >0.521557</td>\n",
              "                        <td id=\"T_ea7fd560_20f1_11ec_b61e_0242ac1c0002row2_col5\" class=\"data row2 col5\" >0.306683</td>\n",
              "                        <td id=\"T_ea7fd560_20f1_11ec_b61e_0242ac1c0002row2_col6\" class=\"data row2 col6\" >0.099859</td>\n",
              "                        <td id=\"T_ea7fd560_20f1_11ec_b61e_0242ac1c0002row2_col7\" class=\"data row2 col7\" >0.081480</td>\n",
              "                        <td id=\"T_ea7fd560_20f1_11ec_b61e_0242ac1c0002row2_col8\" class=\"data row2 col8\" >-0.016760</td>\n",
              "            </tr>\n",
              "            <tr>\n",
              "                        <th id=\"T_ea7fd560_20f1_11ec_b61e_0242ac1c0002level0_row3\" class=\"row_heading level0 row3\" >Scholarship</th>\n",
              "                        <td id=\"T_ea7fd560_20f1_11ec_b61e_0242ac1c0002row3_col0\" class=\"data row3 col0\" >0.123841</td>\n",
              "                        <td id=\"T_ea7fd560_20f1_11ec_b61e_0242ac1c0002row3_col1\" class=\"data row3 col1\" >-0.010258</td>\n",
              "                        <td id=\"T_ea7fd560_20f1_11ec_b61e_0242ac1c0002row3_col2\" class=\"data row3 col2\" >-0.079770</td>\n",
              "                        <td id=\"T_ea7fd560_20f1_11ec_b61e_0242ac1c0002row3_col3\" class=\"data row3 col3\" >1.000000</td>\n",
              "                        <td id=\"T_ea7fd560_20f1_11ec_b61e_0242ac1c0002row3_col4\" class=\"data row3 col4\" >-0.023824</td>\n",
              "                        <td id=\"T_ea7fd560_20f1_11ec_b61e_0242ac1c0002row3_col5\" class=\"data row3 col5\" >-0.024142</td>\n",
              "                        <td id=\"T_ea7fd560_20f1_11ec_b61e_0242ac1c0002row3_col6\" class=\"data row3 col6\" >0.057870</td>\n",
              "                        <td id=\"T_ea7fd560_20f1_11ec_b61e_0242ac1c0002row3_col7\" class=\"data row3 col7\" >-0.020870</td>\n",
              "                        <td id=\"T_ea7fd560_20f1_11ec_b61e_0242ac1c0002row3_col8\" class=\"data row3 col8\" >0.015221</td>\n",
              "            </tr>\n",
              "            <tr>\n",
              "                        <th id=\"T_ea7fd560_20f1_11ec_b61e_0242ac1c0002level0_row4\" class=\"row_heading level0 row4\" >Hipertension</th>\n",
              "                        <td id=\"T_ea7fd560_20f1_11ec_b61e_0242ac1c0002row4_col0\" class=\"data row4 col0\" >0.047889</td>\n",
              "                        <td id=\"T_ea7fd560_20f1_11ec_b61e_0242ac1c0002row4_col1\" class=\"data row4 col1\" >-0.013774</td>\n",
              "                        <td id=\"T_ea7fd560_20f1_11ec_b61e_0242ac1c0002row4_col2\" class=\"data row4 col2\" >0.521557</td>\n",
              "                        <td id=\"T_ea7fd560_20f1_11ec_b61e_0242ac1c0002row4_col3\" class=\"data row4 col3\" >-0.023824</td>\n",
              "                        <td id=\"T_ea7fd560_20f1_11ec_b61e_0242ac1c0002row4_col4\" class=\"data row4 col4\" >1.000000</td>\n",
              "                        <td id=\"T_ea7fd560_20f1_11ec_b61e_0242ac1c0002row4_col5\" class=\"data row4 col5\" >0.439078</td>\n",
              "                        <td id=\"T_ea7fd560_20f1_11ec_b61e_0242ac1c0002row4_col6\" class=\"data row4 col6\" >0.090336</td>\n",
              "                        <td id=\"T_ea7fd560_20f1_11ec_b61e_0242ac1c0002row4_col7\" class=\"data row4 col7\" >0.085808</td>\n",
              "                        <td id=\"T_ea7fd560_20f1_11ec_b61e_0242ac1c0002row4_col8\" class=\"data row4 col8\" >-0.026152</td>\n",
              "            </tr>\n",
              "            <tr>\n",
              "                        <th id=\"T_ea7fd560_20f1_11ec_b61e_0242ac1c0002level0_row5\" class=\"row_heading level0 row5\" >Diabetes</th>\n",
              "                        <td id=\"T_ea7fd560_20f1_11ec_b61e_0242ac1c0002row5_col0\" class=\"data row5 col0\" >0.031517</td>\n",
              "                        <td id=\"T_ea7fd560_20f1_11ec_b61e_0242ac1c0002row5_col1\" class=\"data row5 col1\" >-0.006091</td>\n",
              "                        <td id=\"T_ea7fd560_20f1_11ec_b61e_0242ac1c0002row5_col2\" class=\"data row5 col2\" >0.306683</td>\n",
              "                        <td id=\"T_ea7fd560_20f1_11ec_b61e_0242ac1c0002row5_col3\" class=\"data row5 col3\" >-0.024142</td>\n",
              "                        <td id=\"T_ea7fd560_20f1_11ec_b61e_0242ac1c0002row5_col4\" class=\"data row5 col4\" >0.439078</td>\n",
              "                        <td id=\"T_ea7fd560_20f1_11ec_b61e_0242ac1c0002row5_col5\" class=\"data row5 col5\" >1.000000</td>\n",
              "                        <td id=\"T_ea7fd560_20f1_11ec_b61e_0242ac1c0002row5_col6\" class=\"data row5 col6\" >0.016668</td>\n",
              "                        <td id=\"T_ea7fd560_20f1_11ec_b61e_0242ac1c0002row5_col7\" class=\"data row5 col7\" >0.044351</td>\n",
              "                        <td id=\"T_ea7fd560_20f1_11ec_b61e_0242ac1c0002row5_col8\" class=\"data row5 col8\" >-0.030558</td>\n",
              "            </tr>\n",
              "            <tr>\n",
              "                        <th id=\"T_ea7fd560_20f1_11ec_b61e_0242ac1c0002level0_row6\" class=\"row_heading level0 row6\" >Alcoholism</th>\n",
              "                        <td id=\"T_ea7fd560_20f1_11ec_b61e_0242ac1c0002row6_col0\" class=\"data row6 col0\" >-0.073959</td>\n",
              "                        <td id=\"T_ea7fd560_20f1_11ec_b61e_0242ac1c0002row6_col1\" class=\"data row6 col1\" >0.010435</td>\n",
              "                        <td id=\"T_ea7fd560_20f1_11ec_b61e_0242ac1c0002row6_col2\" class=\"data row6 col2\" >0.099859</td>\n",
              "                        <td id=\"T_ea7fd560_20f1_11ec_b61e_0242ac1c0002row6_col3\" class=\"data row6 col3\" >0.057870</td>\n",
              "                        <td id=\"T_ea7fd560_20f1_11ec_b61e_0242ac1c0002row6_col4\" class=\"data row6 col4\" >0.090336</td>\n",
              "                        <td id=\"T_ea7fd560_20f1_11ec_b61e_0242ac1c0002row6_col5\" class=\"data row6 col5\" >0.016668</td>\n",
              "                        <td id=\"T_ea7fd560_20f1_11ec_b61e_0242ac1c0002row6_col6\" class=\"data row6 col6\" >1.000000</td>\n",
              "                        <td id=\"T_ea7fd560_20f1_11ec_b61e_0242ac1c0002row6_col7\" class=\"data row6 col7\" >-0.002903</td>\n",
              "                        <td id=\"T_ea7fd560_20f1_11ec_b61e_0242ac1c0002row6_col8\" class=\"data row6 col8\" >-0.010413</td>\n",
              "            </tr>\n",
              "            <tr>\n",
              "                        <th id=\"T_ea7fd560_20f1_11ec_b61e_0242ac1c0002level0_row7\" class=\"row_heading level0 row7\" >Handcap</th>\n",
              "                        <td id=\"T_ea7fd560_20f1_11ec_b61e_0242ac1c0002row7_col0\" class=\"data row7 col0\" >-0.015154</td>\n",
              "                        <td id=\"T_ea7fd560_20f1_11ec_b61e_0242ac1c0002row7_col1\" class=\"data row7 col1\" >-0.007347</td>\n",
              "                        <td id=\"T_ea7fd560_20f1_11ec_b61e_0242ac1c0002row7_col2\" class=\"data row7 col2\" >0.081480</td>\n",
              "                        <td id=\"T_ea7fd560_20f1_11ec_b61e_0242ac1c0002row7_col3\" class=\"data row7 col3\" >-0.020870</td>\n",
              "                        <td id=\"T_ea7fd560_20f1_11ec_b61e_0242ac1c0002row7_col4\" class=\"data row7 col4\" >0.085808</td>\n",
              "                        <td id=\"T_ea7fd560_20f1_11ec_b61e_0242ac1c0002row7_col5\" class=\"data row7 col5\" >0.044351</td>\n",
              "                        <td id=\"T_ea7fd560_20f1_11ec_b61e_0242ac1c0002row7_col6\" class=\"data row7 col6\" >-0.002903</td>\n",
              "                        <td id=\"T_ea7fd560_20f1_11ec_b61e_0242ac1c0002row7_col7\" class=\"data row7 col7\" >1.000000</td>\n",
              "                        <td id=\"T_ea7fd560_20f1_11ec_b61e_0242ac1c0002row7_col8\" class=\"data row7 col8\" >-0.029730</td>\n",
              "            </tr>\n",
              "            <tr>\n",
              "                        <th id=\"T_ea7fd560_20f1_11ec_b61e_0242ac1c0002level0_row8\" class=\"row_heading level0 row8\" >SMS_received</th>\n",
              "                        <td id=\"T_ea7fd560_20f1_11ec_b61e_0242ac1c0002row8_col0\" class=\"data row8 col0\" >0.061197</td>\n",
              "                        <td id=\"T_ea7fd560_20f1_11ec_b61e_0242ac1c0002row8_col1\" class=\"data row8 col1\" >0.063417</td>\n",
              "                        <td id=\"T_ea7fd560_20f1_11ec_b61e_0242ac1c0002row8_col2\" class=\"data row8 col2\" >-0.016760</td>\n",
              "                        <td id=\"T_ea7fd560_20f1_11ec_b61e_0242ac1c0002row8_col3\" class=\"data row8 col3\" >0.015221</td>\n",
              "                        <td id=\"T_ea7fd560_20f1_11ec_b61e_0242ac1c0002row8_col4\" class=\"data row8 col4\" >-0.026152</td>\n",
              "                        <td id=\"T_ea7fd560_20f1_11ec_b61e_0242ac1c0002row8_col5\" class=\"data row8 col5\" >-0.030558</td>\n",
              "                        <td id=\"T_ea7fd560_20f1_11ec_b61e_0242ac1c0002row8_col6\" class=\"data row8 col6\" >-0.010413</td>\n",
              "                        <td id=\"T_ea7fd560_20f1_11ec_b61e_0242ac1c0002row8_col7\" class=\"data row8 col7\" >-0.029730</td>\n",
              "                        <td id=\"T_ea7fd560_20f1_11ec_b61e_0242ac1c0002row8_col8\" class=\"data row8 col8\" >1.000000</td>\n",
              "            </tr>\n",
              "    </tbody></table>"
            ],
            "text/plain": [
              "<pandas.io.formats.style.Styler at 0x7fcc3954bad0>"
            ]
          },
          "metadata": {},
          "execution_count": 241
        }
      ]
    },
    {
      "cell_type": "code",
      "metadata": {
        "id": "OlqMLj9YUbCe"
      },
      "source": [
        ""
      ],
      "execution_count": null,
      "outputs": []
    }
  ]
}