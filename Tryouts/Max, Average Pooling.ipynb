{
  "nbformat": 4,
  "nbformat_minor": 0,
  "metadata": {
    "colab": {
      "name": "Pooling.ipynb",
      "provenance": [],
      "authorship_tag": "ABX9TyN09YFMvUqVIDGYoyX9H3xX",
      "include_colab_link": true
    },
    "kernelspec": {
      "name": "python3",
      "display_name": "Python 3"
    },
    "language_info": {
      "name": "python"
    }
  },
  "cells": [
    {
      "cell_type": "markdown",
      "metadata": {
        "id": "view-in-github",
        "colab_type": "text"
      },
      "source": [
        "<a href=\"https://colab.research.google.com/github/syedjafer/ML-Vault/blob/main/Pooling.ipynb\" target=\"_parent\"><img src=\"https://colab.research.google.com/assets/colab-badge.svg\" alt=\"Open In Colab\"/></a>"
      ]
    },
    {
      "cell_type": "code",
      "metadata": {
        "colab": {
          "base_uri": "https://localhost:8080/"
        },
        "id": "KgNIqtV9LKBT",
        "outputId": "130aae0f-cec9-40a3-9a06-4482f93233aa"
      },
      "source": [
        "import numpy as np\n",
        "\n",
        "def pooling(matrix, kernel, func):\n",
        "    row, col = matrix.shape\n",
        "    row_k, col_k = kernel\n",
        "    f_matrix = matrix.flatten()\n",
        "    leaving_range = list(range(col_k, col))\n",
        "    stop_limit = (row-(row_k-1))*col\n",
        "    resultant_array = []\n",
        "    for itr in range(stop_limit):\n",
        "        temp = []\n",
        "        if (itr % col) + col_k -1 >= col:\n",
        "            continue\n",
        "        k = 0\n",
        "        for ctr in range((row_k*col_k)+col_k*(len(leaving_range))):\n",
        "            if k % col == 0:\n",
        "                k = 0\n",
        "            if k not in leaving_range:\n",
        "                temp.append(f_matrix[itr+ctr])\n",
        "            k+= 1\n",
        "        resultant_array.append(func(temp))\n",
        "    resultant_array = np.array(resultant_array)   \n",
        "    resultant_array.resize((row-(row_k-1), col-(col_k-1)))\n",
        "    return resultant_array\n",
        "\n",
        "matrix = np.random.randint(low=10, high=51, size=(4,5))\n",
        "kernel = (3,3)\n",
        "max_res = pooling(matrix, kernel, np.max)\n",
        "avg_res = pooling(matrix, kernel, np.average)\n",
        "\n",
        "print(max_res)\n",
        "print(avg_res)"
      ],
      "execution_count": 2,
      "outputs": [
        {
          "output_type": "stream",
          "name": "stdout",
          "text": [
            "[[50 50 50]\n",
            " [50 50 50]]\n",
            "[[34.11111111 36.88888889 39.55555556]\n",
            " [32.11111111 33.11111111 35.55555556]]\n"
          ]
        }
      ]
    },
    {
      "cell_type": "code",
      "metadata": {
        "id": "PYwb3c23LMrb"
      },
      "source": [
        ""
      ],
      "execution_count": null,
      "outputs": []
    }
  ]
}